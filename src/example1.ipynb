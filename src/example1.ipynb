{
 "cells": [
  {
   "cell_type": "markdown",
   "metadata": {},
   "source": [
    "# Case study\n",
    "\n",
    "written by Abdullahi Adinoyi Ibrahim\n",
    "\n",
    "## Task\n",
    "Predict income and expenses for a holdout sample of ~10K users for the month of August based on a training sample of ~10K users from Februrary through July.\n",
    "\n",
    "Based on your judgement of the usefulness of the results, either aggregate the data into incoming & outgoing flows, or predict based on the transaction type/category.\n"
   ]
  },
  {
   "cell_type": "code",
   "execution_count": 9,
   "metadata": {},
   "outputs": [],
   "source": [
    "'''\n",
    "----------------------\n",
    "library\n",
    "----------------------\n",
    "'''\n",
    "import numpy as np\n",
    "import matplotlib.pyplot as plt\n",
    "import pandas as pd\n",
    "from sklearn.model_selection import train_test_split, GridSearchCV\n",
    "from sklearn.preprocessing import StandardScaler, LabelEncoder\n",
    "from sklearn.ensemble import RandomForestClassifier\n",
    "from sklearn.metrics import accuracy_score, roc_auc_score, f1_score\n",
    "from sklearn.neural_network import MLPClassifier\n",
    "import joblib\n",
    "import os\n",
    "\n",
    "# custom modules\n",
    "from LRmodel import LogisticRegressionModels\n",
    "import plotter\n",
    "import preprocessing\n"
   ]
  },
  {
   "cell_type": "markdown",
   "metadata": {},
   "source": [
    "### Loading the dataset"
   ]
  },
  {
   "cell_type": "code",
   "execution_count": 66,
   "metadata": {},
   "outputs": [],
   "source": [
    "'''\n",
    "----------------------\n",
    "Data loading\n",
    "----------------------\n",
    "'''\n",
    "# data_train = pd.read_csv('./data/2016-09-19_79351_training.csv')\n",
    "data_train = pd.read_csv(\"./data/2016-09-19_79351_training_feb_june.csv\")\n",
    "data_mcc_group = pd.read_csv('./data/mcc_group_definition.csv')\n",
    "data_transaction = pd.read_csv('./data/transaction_types.csv')\n"
   ]
  },
  {
   "cell_type": "code",
   "execution_count": null,
   "metadata": {},
   "outputs": [],
   "source": []
  },
  {
   "cell_type": "markdown",
   "metadata": {},
   "source": [
    "# Data wrangling"
   ]
  },
  {
   "cell_type": "code",
   "execution_count": 67,
   "metadata": {},
   "outputs": [],
   "source": [
    "'''\n",
    "----------------------\n",
    "copy data\n",
    "----------------------\n",
    "'''\n",
    "data_train_main = data_train.copy()"
   ]
  },
  {
   "cell_type": "code",
   "execution_count": 68,
   "metadata": {},
   "outputs": [
    {
     "data": {
      "text/html": [
       "<div>\n",
       "<style scoped>\n",
       "    .dataframe tbody tr th:only-of-type {\n",
       "        vertical-align: middle;\n",
       "    }\n",
       "\n",
       "    .dataframe tbody tr th {\n",
       "        vertical-align: top;\n",
       "    }\n",
       "\n",
       "    .dataframe thead th {\n",
       "        text-align: right;\n",
       "    }\n",
       "</style>\n",
       "<table border=\"1\" class=\"dataframe\">\n",
       "  <thead>\n",
       "    <tr style=\"text-align: right;\">\n",
       "      <th></th>\n",
       "      <th>user_id</th>\n",
       "      <th>transaction_date</th>\n",
       "      <th>transaction_type</th>\n",
       "      <th>mcc_group</th>\n",
       "      <th>amount_n26_currency</th>\n",
       "      <th>dataset_transaction</th>\n",
       "      <th>dataset_user</th>\n",
       "    </tr>\n",
       "  </thead>\n",
       "  <tbody>\n",
       "    <tr>\n",
       "      <th>0</th>\n",
       "      <td>a78884f5e76951188c1e719d4956773a</td>\n",
       "      <td>01.02.16</td>\n",
       "      <td>DT</td>\n",
       "      <td>NaN</td>\n",
       "      <td>350</td>\n",
       "      <td>training</td>\n",
       "      <td>training</td>\n",
       "    </tr>\n",
       "    <tr>\n",
       "      <th>1</th>\n",
       "      <td>b0333294fef6ff1299102a70ad46b126</td>\n",
       "      <td>01.02.16</td>\n",
       "      <td>DT</td>\n",
       "      <td>NaN</td>\n",
       "      <td>202</td>\n",
       "      <td>training</td>\n",
       "      <td>training</td>\n",
       "    </tr>\n",
       "    <tr>\n",
       "      <th>2</th>\n",
       "      <td>7b8d2a2780adae0cd0c248e92c1b28dc</td>\n",
       "      <td>01.02.16</td>\n",
       "      <td>DT</td>\n",
       "      <td>NaN</td>\n",
       "      <td>291</td>\n",
       "      <td>training</td>\n",
       "      <td>training</td>\n",
       "    </tr>\n",
       "    <tr>\n",
       "      <th>3</th>\n",
       "      <td>cc4abaa500f7db4390ae3f02bd36d805</td>\n",
       "      <td>01.02.16</td>\n",
       "      <td>DT</td>\n",
       "      <td>NaN</td>\n",
       "      <td>214</td>\n",
       "      <td>training</td>\n",
       "      <td>training</td>\n",
       "    </tr>\n",
       "    <tr>\n",
       "      <th>4</th>\n",
       "      <td>49b99d1d5ba028566639e8b3eb7c055b</td>\n",
       "      <td>01.02.16</td>\n",
       "      <td>DT</td>\n",
       "      <td>NaN</td>\n",
       "      <td>272</td>\n",
       "      <td>training</td>\n",
       "      <td>training</td>\n",
       "    </tr>\n",
       "  </tbody>\n",
       "</table>\n",
       "</div>"
      ],
      "text/plain": [
       "                            user_id transaction_date transaction_type  \\\n",
       "0  a78884f5e76951188c1e719d4956773a         01.02.16               DT   \n",
       "1  b0333294fef6ff1299102a70ad46b126         01.02.16               DT   \n",
       "2  7b8d2a2780adae0cd0c248e92c1b28dc         01.02.16               DT   \n",
       "3  cc4abaa500f7db4390ae3f02bd36d805         01.02.16               DT   \n",
       "4  49b99d1d5ba028566639e8b3eb7c055b         01.02.16               DT   \n",
       "\n",
       "   mcc_group  amount_n26_currency dataset_transaction dataset_user  \n",
       "0        NaN                  350            training     training  \n",
       "1        NaN                  202            training     training  \n",
       "2        NaN                  291            training     training  \n",
       "3        NaN                  214            training     training  \n",
       "4        NaN                  272            training     training  "
      ]
     },
     "execution_count": 68,
     "metadata": {},
     "output_type": "execute_result"
    }
   ],
   "source": [
    "'''\n",
    "----------------------\n",
    "view head\n",
    "----------------------\n",
    "'''\n",
    "data_train_main.head()"
   ]
  },
  {
   "cell_type": "code",
   "execution_count": 69,
   "metadata": {},
   "outputs": [
    {
     "name": "stdout",
     "output_type": "stream",
     "text": [
      "<class 'pandas.core.frame.DataFrame'>\n",
      "RangeIndex: 337560 entries, 0 to 337559\n",
      "Data columns (total 7 columns):\n",
      " #   Column               Non-Null Count   Dtype  \n",
      "---  ------               --------------   -----  \n",
      " 0   user_id              337560 non-null  object \n",
      " 1   transaction_date     337560 non-null  object \n",
      " 2   transaction_type     337560 non-null  object \n",
      " 3   mcc_group            213233 non-null  float64\n",
      " 4   amount_n26_currency  337560 non-null  int64  \n",
      " 5   dataset_transaction  337560 non-null  object \n",
      " 6   dataset_user         337560 non-null  object \n",
      "dtypes: float64(1), int64(1), object(5)\n",
      "memory usage: 18.0+ MB\n"
     ]
    }
   ],
   "source": [
    "'''\n",
    "----------------------\n",
    "data info\n",
    "----------------------\n",
    "'''\n",
    "data_train_main.info()"
   ]
  },
  {
   "cell_type": "markdown",
   "metadata": {},
   "source": [
    "The features `dataset_transaction` and  `dataset_user` contains only one unique entry which are irrelevant. We simply drop them. "
   ]
  },
  {
   "cell_type": "code",
   "execution_count": 70,
   "metadata": {},
   "outputs": [],
   "source": [
    "'''\n",
    "----------------------\n",
    "dropping columns\n",
    "----------------------\n",
    "'''\n",
    "data_train_main = data_train_main.drop(['dataset_transaction', 'dataset_user'], axis=1)"
   ]
  },
  {
   "cell_type": "code",
   "execution_count": 71,
   "metadata": {},
   "outputs": [
    {
     "data": {
      "text/plain": [
       "user_id                     0\n",
       "transaction_date            0\n",
       "transaction_type            0\n",
       "mcc_group              124327\n",
       "amount_n26_currency         0\n",
       "dtype: int64"
      ]
     },
     "execution_count": 71,
     "metadata": {},
     "output_type": "execute_result"
    }
   ],
   "source": [
    "'''\n",
    "----------------------\n",
    "how many missing values?\n",
    "----------------------\n",
    "'''\n",
    "data_train_main.isna().sum()    "
   ]
  },
  {
   "cell_type": "code",
   "execution_count": 72,
   "metadata": {},
   "outputs": [
    {
     "data": {
      "text/plain": [
       "36.83108188173954"
      ]
     },
     "execution_count": 72,
     "metadata": {},
     "output_type": "execute_result"
    }
   ],
   "source": [
    "'''\n",
    "----------------------\n",
    "percentage of missing values\n",
    "----------------------\n",
    "'''\n",
    "data_train_main.isna().sum()[data_train_main.isna().sum() > 0][0] / len(data_train_main) * 100"
   ]
  },
  {
   "cell_type": "markdown",
   "metadata": {},
   "source": [
    "## To do\n",
    " - create ```direction``` (i.e. in/out) feature: the ```in``` and ```out``` represents the income and expenses, respectively. ```in``` denotes money coming into the user acccount and ```out``` denotes money going out of the user account.\n",
    "\n",
    " - creating month/day feature from the transaction date.\n",
    "\n",
    " - fill NAs in ```mcc_group``` with mode and miscellaneous. We will fill the NAs locally per user. Specifically, we will take the ```mcc_group``` of a user and check for the most frequent transaction type and use this mode to replace any NA for such user. In the event there is no mode, we will simply categorize this as miscellaneous (i.e. 16) since no modal value."
   ]
  },
  {
   "cell_type": "code",
   "execution_count": 73,
   "metadata": {},
   "outputs": [
    {
     "data": {
      "text/html": [
       "<div>\n",
       "<style scoped>\n",
       "    .dataframe tbody tr th:only-of-type {\n",
       "        vertical-align: middle;\n",
       "    }\n",
       "\n",
       "    .dataframe tbody tr th {\n",
       "        vertical-align: top;\n",
       "    }\n",
       "\n",
       "    .dataframe thead th {\n",
       "        text-align: right;\n",
       "    }\n",
       "</style>\n",
       "<table border=\"1\" class=\"dataframe\">\n",
       "  <thead>\n",
       "    <tr style=\"text-align: right;\">\n",
       "      <th></th>\n",
       "      <th>type</th>\n",
       "      <th>explanation</th>\n",
       "      <th>direction</th>\n",
       "      <th>agent</th>\n",
       "    </tr>\n",
       "  </thead>\n",
       "  <tbody>\n",
       "    <tr>\n",
       "      <th>0</th>\n",
       "      <td>BBU</td>\n",
       "      <td>Cash26 deposit</td>\n",
       "      <td>In</td>\n",
       "      <td>Partner</td>\n",
       "    </tr>\n",
       "    <tr>\n",
       "      <th>1</th>\n",
       "      <td>CT</td>\n",
       "      <td>Credit Transfer</td>\n",
       "      <td>In</td>\n",
       "      <td>Bank Account</td>\n",
       "    </tr>\n",
       "    <tr>\n",
       "      <th>2</th>\n",
       "      <td>DR</td>\n",
       "      <td>Debit Reversal</td>\n",
       "      <td>In</td>\n",
       "      <td>Bank Account</td>\n",
       "    </tr>\n",
       "    <tr>\n",
       "      <th>3</th>\n",
       "      <td>BUB</td>\n",
       "      <td>Cash26 withdrawal</td>\n",
       "      <td>Out</td>\n",
       "      <td>Partner</td>\n",
       "    </tr>\n",
       "    <tr>\n",
       "      <th>4</th>\n",
       "      <td>DD</td>\n",
       "      <td>Direct Debit</td>\n",
       "      <td>Out</td>\n",
       "      <td>Bank Account</td>\n",
       "    </tr>\n",
       "    <tr>\n",
       "      <th>5</th>\n",
       "      <td>DT</td>\n",
       "      <td>Debit Transfer</td>\n",
       "      <td>Out</td>\n",
       "      <td>Bank Account</td>\n",
       "    </tr>\n",
       "    <tr>\n",
       "      <th>6</th>\n",
       "      <td>FT</td>\n",
       "      <td>MoneyBeam Transfer</td>\n",
       "      <td>Out</td>\n",
       "      <td>Bank Account</td>\n",
       "    </tr>\n",
       "    <tr>\n",
       "      <th>7</th>\n",
       "      <td>PT</td>\n",
       "      <td>Presentment</td>\n",
       "      <td>Out</td>\n",
       "      <td>Card</td>\n",
       "    </tr>\n",
       "    <tr>\n",
       "      <th>8</th>\n",
       "      <td>TUB</td>\n",
       "      <td>Transferwise Transaction</td>\n",
       "      <td>Out</td>\n",
       "      <td>Partner</td>\n",
       "    </tr>\n",
       "  </tbody>\n",
       "</table>\n",
       "</div>"
      ],
      "text/plain": [
       "  type               explanation direction         agent\n",
       "0  BBU            Cash26 deposit        In       Partner\n",
       "1   CT           Credit Transfer        In  Bank Account\n",
       "2   DR            Debit Reversal        In  Bank Account\n",
       "3  BUB         Cash26 withdrawal       Out       Partner\n",
       "4   DD              Direct Debit       Out  Bank Account\n",
       "5   DT            Debit Transfer       Out  Bank Account\n",
       "6   FT        MoneyBeam Transfer       Out  Bank Account\n",
       "7   PT               Presentment       Out          Card\n",
       "8  TUB  Transferwise Transaction       Out       Partner"
      ]
     },
     "execution_count": 73,
     "metadata": {},
     "output_type": "execute_result"
    }
   ],
   "source": [
    "'''\n",
    "----------------------\n",
    "filtered data_transaction based in transaction_type\n",
    "----------------------\n",
    "'''\n",
    "\n",
    "selected_types = list(data_train_main.transaction_type.unique()); selected_types\n",
    "data_transaction_filtered = data_transaction[data_transaction.type.isin(selected_types)]\n",
    "\n",
    "data_transaction_filtered.reset_index(drop = True, inplace = True); data_transaction_filtered"
   ]
  },
  {
   "cell_type": "code",
   "execution_count": 74,
   "metadata": {},
   "outputs": [
    {
     "data": {
      "text/plain": [
       "(['BBU', 'CT', 'DR'], ['BUB', 'DD', 'DT', 'FT', 'PT', 'TUB'])"
      ]
     },
     "execution_count": 74,
     "metadata": {},
     "output_type": "execute_result"
    }
   ],
   "source": [
    "'''\n",
    "----------------------\n",
    "Grouping the transaction type into in and out\n",
    "----------------------\n",
    "'''\n",
    "type_in = data_transaction_filtered[data_transaction_filtered.direction == 'In'].type\n",
    "type_out = data_transaction_filtered[data_transaction_filtered.direction == 'Out'].type\n",
    "type_in, type_out = list(type_in), list(type_out); \n",
    "type_in, type_out"
   ]
  },
  {
   "cell_type": "code",
   "execution_count": 75,
   "metadata": {},
   "outputs": [],
   "source": [
    "'''\n",
    "----------------------\n",
    " adding in/out feature to data_train_main\n",
    "----------------------\n",
    "'''\n",
    "\n",
    "data_train_main['direction'] = data_train_main.transaction_type.apply(lambda x: 'In' if x in type_in else 'Out')"
   ]
  },
  {
   "cell_type": "code",
   "execution_count": 76,
   "metadata": {},
   "outputs": [],
   "source": [
    "'''\n",
    "----------------------\n",
    " mapping and adding agent feature to data_train_main\n",
    "----------------------\n",
    "'''\n",
    "type_to_agent = {\n",
    "    'BBU': 'Partner',\n",
    "    'CT': 'Bank Account',\n",
    "    'DR': 'Bank Account',\n",
    "    'PF': 'Card',\n",
    "    'PT': 'Card',\n",
    "    'BUB': 'Partner',\n",
    "    'DD': 'Bank Account',\n",
    "    'DT': 'Bank Account',\n",
    "    'FT': 'Bank Account',\n",
    "    'TUB': 'Partner'\n",
    "}\n",
    "\n",
    "data_train_main['agent'] = data_train_main.transaction_type.apply(lambda x: type_to_agent[x])"
   ]
  },
  {
   "cell_type": "code",
   "execution_count": 77,
   "metadata": {},
   "outputs": [
    {
     "data": {
      "text/html": [
       "<div>\n",
       "<style scoped>\n",
       "    .dataframe tbody tr th:only-of-type {\n",
       "        vertical-align: middle;\n",
       "    }\n",
       "\n",
       "    .dataframe tbody tr th {\n",
       "        vertical-align: top;\n",
       "    }\n",
       "\n",
       "    .dataframe thead th {\n",
       "        text-align: right;\n",
       "    }\n",
       "</style>\n",
       "<table border=\"1\" class=\"dataframe\">\n",
       "  <thead>\n",
       "    <tr style=\"text-align: right;\">\n",
       "      <th></th>\n",
       "      <th>user_id</th>\n",
       "      <th>transaction_date</th>\n",
       "      <th>transaction_type</th>\n",
       "      <th>mcc_group</th>\n",
       "      <th>amount_n26_currency</th>\n",
       "      <th>direction</th>\n",
       "      <th>agent</th>\n",
       "    </tr>\n",
       "  </thead>\n",
       "  <tbody>\n",
       "    <tr>\n",
       "      <th>526</th>\n",
       "      <td>bf84257bf1b24c4cd05bae3f5ab14b0f</td>\n",
       "      <td>01.02.16</td>\n",
       "      <td>PT</td>\n",
       "      <td>4.0</td>\n",
       "      <td>15</td>\n",
       "      <td>Out</td>\n",
       "      <td>Card</td>\n",
       "    </tr>\n",
       "    <tr>\n",
       "      <th>528</th>\n",
       "      <td>86c37c519ed3516d079fc687c9357eb9</td>\n",
       "      <td>01.02.16</td>\n",
       "      <td>PT</td>\n",
       "      <td>7.0</td>\n",
       "      <td>4</td>\n",
       "      <td>Out</td>\n",
       "      <td>Card</td>\n",
       "    </tr>\n",
       "    <tr>\n",
       "      <th>531</th>\n",
       "      <td>9fed9cf27088374646d08b2356783c25</td>\n",
       "      <td>01.02.16</td>\n",
       "      <td>PT</td>\n",
       "      <td>2.0</td>\n",
       "      <td>6</td>\n",
       "      <td>Out</td>\n",
       "      <td>Card</td>\n",
       "    </tr>\n",
       "    <tr>\n",
       "      <th>532</th>\n",
       "      <td>9fed9cf27088374646d08b2356783c25</td>\n",
       "      <td>01.02.16</td>\n",
       "      <td>PT</td>\n",
       "      <td>2.0</td>\n",
       "      <td>4</td>\n",
       "      <td>Out</td>\n",
       "      <td>Card</td>\n",
       "    </tr>\n",
       "    <tr>\n",
       "      <th>535</th>\n",
       "      <td>2d907dc31f7432c76d3700f9044fa562</td>\n",
       "      <td>01.02.16</td>\n",
       "      <td>PT</td>\n",
       "      <td>8.0</td>\n",
       "      <td>17</td>\n",
       "      <td>Out</td>\n",
       "      <td>Card</td>\n",
       "    </tr>\n",
       "    <tr>\n",
       "      <th>...</th>\n",
       "      <td>...</td>\n",
       "      <td>...</td>\n",
       "      <td>...</td>\n",
       "      <td>...</td>\n",
       "      <td>...</td>\n",
       "      <td>...</td>\n",
       "      <td>...</td>\n",
       "    </tr>\n",
       "    <tr>\n",
       "      <th>337038</th>\n",
       "      <td>9d58b8d99ce87647e156c1c6b80f535c</td>\n",
       "      <td>30.06.16</td>\n",
       "      <td>PT</td>\n",
       "      <td>12.0</td>\n",
       "      <td>7</td>\n",
       "      <td>Out</td>\n",
       "      <td>Card</td>\n",
       "    </tr>\n",
       "    <tr>\n",
       "      <th>337039</th>\n",
       "      <td>a71164041a6a1210f0ee2b30c6b24148</td>\n",
       "      <td>30.06.16</td>\n",
       "      <td>PT</td>\n",
       "      <td>12.0</td>\n",
       "      <td>194</td>\n",
       "      <td>Out</td>\n",
       "      <td>Card</td>\n",
       "    </tr>\n",
       "    <tr>\n",
       "      <th>337040</th>\n",
       "      <td>58ca84e181b7a63c24f685f4c4e04bc5</td>\n",
       "      <td>30.06.16</td>\n",
       "      <td>PT</td>\n",
       "      <td>1.0</td>\n",
       "      <td>38</td>\n",
       "      <td>Out</td>\n",
       "      <td>Card</td>\n",
       "    </tr>\n",
       "    <tr>\n",
       "      <th>337041</th>\n",
       "      <td>2331ec0969b65cfaa3c8df16a3cd5ec7</td>\n",
       "      <td>30.06.16</td>\n",
       "      <td>PT</td>\n",
       "      <td>1.0</td>\n",
       "      <td>70</td>\n",
       "      <td>Out</td>\n",
       "      <td>Card</td>\n",
       "    </tr>\n",
       "    <tr>\n",
       "      <th>337042</th>\n",
       "      <td>5946ce5fad76feb0517cd6c2b480a70d</td>\n",
       "      <td>30.06.16</td>\n",
       "      <td>PT</td>\n",
       "      <td>6.0</td>\n",
       "      <td>12</td>\n",
       "      <td>Out</td>\n",
       "      <td>Card</td>\n",
       "    </tr>\n",
       "  </tbody>\n",
       "</table>\n",
       "<p>213233 rows × 7 columns</p>\n",
       "</div>"
      ],
      "text/plain": [
       "                                 user_id transaction_date transaction_type  \\\n",
       "526     bf84257bf1b24c4cd05bae3f5ab14b0f         01.02.16               PT   \n",
       "528     86c37c519ed3516d079fc687c9357eb9         01.02.16               PT   \n",
       "531     9fed9cf27088374646d08b2356783c25         01.02.16               PT   \n",
       "532     9fed9cf27088374646d08b2356783c25         01.02.16               PT   \n",
       "535     2d907dc31f7432c76d3700f9044fa562         01.02.16               PT   \n",
       "...                                  ...              ...              ...   \n",
       "337038  9d58b8d99ce87647e156c1c6b80f535c         30.06.16               PT   \n",
       "337039  a71164041a6a1210f0ee2b30c6b24148         30.06.16               PT   \n",
       "337040  58ca84e181b7a63c24f685f4c4e04bc5         30.06.16               PT   \n",
       "337041  2331ec0969b65cfaa3c8df16a3cd5ec7         30.06.16               PT   \n",
       "337042  5946ce5fad76feb0517cd6c2b480a70d         30.06.16               PT   \n",
       "\n",
       "        mcc_group  amount_n26_currency direction agent  \n",
       "526           4.0                   15       Out  Card  \n",
       "528           7.0                    4       Out  Card  \n",
       "531           2.0                    6       Out  Card  \n",
       "532           2.0                    4       Out  Card  \n",
       "535           8.0                   17       Out  Card  \n",
       "...           ...                  ...       ...   ...  \n",
       "337038       12.0                    7       Out  Card  \n",
       "337039       12.0                  194       Out  Card  \n",
       "337040        1.0                   38       Out  Card  \n",
       "337041        1.0                   70       Out  Card  \n",
       "337042        6.0                   12       Out  Card  \n",
       "\n",
       "[213233 rows x 7 columns]"
      ]
     },
     "execution_count": 77,
     "metadata": {},
     "output_type": "execute_result"
    }
   ],
   "source": [
    "'''\n",
    "----------------------\n",
    "quick check on the data_train_main\n",
    "----------------------\n",
    "'''\n",
    "\n",
    "data_train_main[data_train_main.transaction_type == 'PT']"
   ]
  },
  {
   "cell_type": "code",
   "execution_count": 78,
   "metadata": {},
   "outputs": [
    {
     "name": "stderr",
     "output_type": "stream",
     "text": [
      "<ipython-input-78-e63252eb7773>:7: UserWarning: Could not infer format, so each element will be parsed individually, falling back to `dateutil`. To ensure parsing is consistent and as-expected, please specify a format.\n",
      "  data_train_main['transaction_date'] = pd.to_datetime(data_train_main.transaction_date)\n"
     ]
    }
   ],
   "source": [
    "'''\n",
    "----------------------\n",
    "extract day/month from data_train_main.transaction_date\n",
    "----------------------\n",
    "'''\n",
    "\n",
    "data_train_main['transaction_date'] = pd.to_datetime(data_train_main.transaction_date)\n",
    "data_train_main['day'] = data_train_main.transaction_date.dt.day\n",
    "data_train_main['month'] = data_train_main.transaction_date.dt.month"
   ]
  },
  {
   "cell_type": "markdown",
   "metadata": {},
   "source": [
    "### Filling in the missing values in mcc_group feature"
   ]
  },
  {
   "cell_type": "markdown",
   "metadata": {},
   "source": [
    "![title](./img/na_fill.png)\n",
    "\n",
    "\n",
    "As shown above, we filled the NAs locally per user. Specifically, we take the ```mcc_group``` of a user and check for the most frequent transaction type and use this mode to replace any NA for such user. In the event there is no mode, we simply categorize this as miscellaneous (i.e. 16) since no modal value."
   ]
  },
  {
   "cell_type": "code",
   "execution_count": 79,
   "metadata": {},
   "outputs": [],
   "source": [
    "'''\n",
    "----------------------\n",
    "Function to fill missing values with mode or miscellaneous\n",
    "----------------------\n",
    "'''\n",
    "\n",
    "def fill_missing_with_mode(df, group_col, target_col):\n",
    "    \n",
    "    def mode_function(x):\n",
    "        modes = x.mode()\n",
    "        if not modes.empty:\n",
    "            return modes[0]\n",
    "        else:\n",
    "            return 16 #miscellaneous\n",
    "    \n",
    "    df[target_col] = df.groupby(group_col)[target_col].transform(lambda x: x.fillna(mode_function(x)))\n",
    "    \n",
    "    return df\n",
    "\n",
    "\n",
    "data_train_main_filled = fill_missing_with_mode(data_train_main, 'user_id', 'mcc_group')\n"
   ]
  },
  {
   "cell_type": "code",
   "execution_count": 80,
   "metadata": {},
   "outputs": [
    {
     "data": {
      "text/plain": [
       "[0         False\n",
       " 1         False\n",
       " 2         False\n",
       " 3         False\n",
       " 4         False\n",
       "           ...  \n",
       " 337555    False\n",
       " 337556    False\n",
       " 337557    False\n",
       " 337558    False\n",
       " 337559    False\n",
       " Name: user_id, Length: 337560, dtype: bool]"
      ]
     },
     "execution_count": 80,
     "metadata": {},
     "output_type": "execute_result"
    }
   ],
   "source": [
    "'''\n",
    "----------------------\n",
    "Testing the result for a user\n",
    "----------------------\n",
    "'''\n",
    "\n",
    "[data_train_main_filled['user_id']=='001f9baedaf3c8487c344d25b0eda9fc']"
   ]
  },
  {
   "cell_type": "code",
   "execution_count": 81,
   "metadata": {},
   "outputs": [
    {
     "data": {
      "text/plain": [
       "<Axes: xlabel='mcc_group'>"
      ]
     },
     "execution_count": 81,
     "metadata": {},
     "output_type": "execute_result"
    },
    {
     "data": {
      "image/png": "[encoded data removed]",
      "text/plain": [
       "<Figure size 1080x432 with 1 Axes>"
      ]
     },
     "metadata": {
      "needs_background": "light"
     },
     "output_type": "display_data"
    }
   ],
   "source": [
    "'''\n",
    "----------------------\n",
    "Distribution of mcc_group before filling NAs\n",
    "----------------------\n",
    "'''\n",
    "\n",
    "plt.figure(figsize=(15, 6))\n",
    "data_train.mcc_group.value_counts().plot(kind = 'bar')"
   ]
  },
  {
   "cell_type": "code",
   "execution_count": 82,
   "metadata": {},
   "outputs": [
    {
     "data": {
      "text/plain": [
       "<Axes: xlabel='mcc_group'>"
      ]
     },
     "execution_count": 82,
     "metadata": {},
     "output_type": "execute_result"
    },
    {
     "data": {
      "image/png": "[encoded data removed]",
      "text/plain": [
       "<Figure size 1080x432 with 1 Axes>"
      ]
     },
     "metadata": {
      "needs_background": "light"
     },
     "output_type": "display_data"
    }
   ],
   "source": [
    "'''\n",
    "----------------------\n",
    "Distribution of mcc_group after fill\n",
    "----------------------\n",
    "'''\n",
    "\n",
    "plt.figure(figsize=(15, 6))\n",
    "data_train_main_filled.mcc_group.value_counts().plot(kind = 'bar')"
   ]
  },
  {
   "cell_type": "markdown",
   "metadata": {},
   "source": [
    "# checking distribution of response feature"
   ]
  },
  {
   "cell_type": "code",
   "execution_count": 83,
   "metadata": {},
   "outputs": [
    {
     "data": {
      "text/plain": [
       "<Axes: xlabel='direction'>"
      ]
     },
     "execution_count": 83,
     "metadata": {},
     "output_type": "execute_result"
    },
    {
     "data": {
      "image/png": "[encoded data removed]",
      "text/plain": [
       "<Figure size 432x288 with 1 Axes>"
      ]
     },
     "metadata": {
      "needs_background": "light"
     },
     "output_type": "display_data"
    }
   ],
   "source": [
    "'''\n",
    "----------------------\n",
    "Distribution of direction\n",
    "----------------------\n",
    "'''\n",
    "\n",
    "data_train_main_filled.direction.value_counts().plot(kind = 'bar')"
   ]
  },
  {
   "cell_type": "markdown",
   "metadata": {},
   "source": [
    "The plot shows that the target variable `direction` is imbalanced. With income accounting for 18% and expenses 82%. "
   ]
  },
  {
   "cell_type": "code",
   "execution_count": 84,
   "metadata": {},
   "outputs": [
    {
     "data": {
      "text/plain": [
       "direction\n",
       "Out    82.196647\n",
       "In     17.803353\n",
       "Name: proportion, dtype: float64"
      ]
     },
     "execution_count": 84,
     "metadata": {},
     "output_type": "execute_result"
    }
   ],
   "source": [
    "'''\n",
    "----------------------\n",
    "percentage distribution of direction\n",
    "----------------------\n",
    "'''\n",
    "\n",
    "data_train_main_filled.direction.value_counts(normalize=True) * 100"
   ]
  },
  {
   "cell_type": "markdown",
   "metadata": {},
   "source": [
    "## Feature engineering"
   ]
  },
  {
   "cell_type": "code",
   "execution_count": 85,
   "metadata": {},
   "outputs": [
    {
     "name": "stdout",
     "output_type": "stream",
     "text": [
      "categorical_cols:Index(['user_id', 'transaction_type', 'direction', 'agent'], dtype='object')\n"
     ]
    }
   ],
   "source": [
    "'''\n",
    "----------------------\n",
    "encoding categorical columns\n",
    "----------------------\n",
    "'''\n",
    "\n",
    "categorical_cols = data_train_main_filled.select_dtypes(include = 'object').columns\n",
    "print(f'categorical_cols:{categorical_cols}')\n",
    "for col in categorical_cols[:]:\n",
    "    data_train_main_filled[col] = LabelEncoder().fit_transform(data_train_main_filled[col])\n",
    "\n",
    "\n",
    "\n",
    "# set mcc_group into integer\n",
    "\n",
    "data_train_main_filled['mcc_group'] = data_train_main_filled['mcc_group'].astype(int)"
   ]
  },
  {
   "cell_type": "code",
   "execution_count": 86,
   "metadata": {},
   "outputs": [
    {
     "data": {
      "text/plain": [
       "direction\n",
       "1    277463\n",
       "0     60097\n",
       "Name: count, dtype: int64"
      ]
     },
     "execution_count": 86,
     "metadata": {},
     "output_type": "execute_result"
    }
   ],
   "source": [
    "data_train_main_filled.direction.value_counts()"
   ]
  },
  {
   "cell_type": "code",
   "execution_count": 87,
   "metadata": {},
   "outputs": [
    {
     "data": {
      "text/html": [
       "<div>\n",
       "<style scoped>\n",
       "    .dataframe tbody tr th:only-of-type {\n",
       "        vertical-align: middle;\n",
       "    }\n",
       "\n",
       "    .dataframe tbody tr th {\n",
       "        vertical-align: top;\n",
       "    }\n",
       "\n",
       "    .dataframe thead th {\n",
       "        text-align: right;\n",
       "    }\n",
       "</style>\n",
       "<table border=\"1\" class=\"dataframe\">\n",
       "  <thead>\n",
       "    <tr style=\"text-align: right;\">\n",
       "      <th></th>\n",
       "      <th>user_id</th>\n",
       "      <th>transaction_date</th>\n",
       "      <th>transaction_type</th>\n",
       "      <th>mcc_group</th>\n",
       "      <th>amount_n26_currency</th>\n",
       "      <th>direction</th>\n",
       "      <th>agent</th>\n",
       "      <th>day</th>\n",
       "      <th>month</th>\n",
       "    </tr>\n",
       "  </thead>\n",
       "  <tbody>\n",
       "    <tr>\n",
       "      <th>0</th>\n",
       "      <td>6402</td>\n",
       "      <td>2016-01-02</td>\n",
       "      <td>5</td>\n",
       "      <td>8</td>\n",
       "      <td>350</td>\n",
       "      <td>1</td>\n",
       "      <td>0</td>\n",
       "      <td>2</td>\n",
       "      <td>1</td>\n",
       "    </tr>\n",
       "    <tr>\n",
       "      <th>1</th>\n",
       "      <td>6751</td>\n",
       "      <td>2016-01-02</td>\n",
       "      <td>5</td>\n",
       "      <td>7</td>\n",
       "      <td>202</td>\n",
       "      <td>1</td>\n",
       "      <td>0</td>\n",
       "      <td>2</td>\n",
       "      <td>1</td>\n",
       "    </tr>\n",
       "    <tr>\n",
       "      <th>2</th>\n",
       "      <td>4763</td>\n",
       "      <td>2016-01-02</td>\n",
       "      <td>5</td>\n",
       "      <td>1</td>\n",
       "      <td>291</td>\n",
       "      <td>1</td>\n",
       "      <td>0</td>\n",
       "      <td>2</td>\n",
       "      <td>1</td>\n",
       "    </tr>\n",
       "    <tr>\n",
       "      <th>3</th>\n",
       "      <td>7826</td>\n",
       "      <td>2016-01-02</td>\n",
       "      <td>5</td>\n",
       "      <td>1</td>\n",
       "      <td>214</td>\n",
       "      <td>1</td>\n",
       "      <td>0</td>\n",
       "      <td>2</td>\n",
       "      <td>1</td>\n",
       "    </tr>\n",
       "    <tr>\n",
       "      <th>4</th>\n",
       "      <td>2863</td>\n",
       "      <td>2016-01-02</td>\n",
       "      <td>5</td>\n",
       "      <td>17</td>\n",
       "      <td>272</td>\n",
       "      <td>1</td>\n",
       "      <td>0</td>\n",
       "      <td>2</td>\n",
       "      <td>1</td>\n",
       "    </tr>\n",
       "  </tbody>\n",
       "</table>\n",
       "</div>"
      ],
      "text/plain": [
       "   user_id transaction_date  transaction_type  mcc_group  amount_n26_currency  \\\n",
       "0     6402       2016-01-02                 5          8                  350   \n",
       "1     6751       2016-01-02                 5          7                  202   \n",
       "2     4763       2016-01-02                 5          1                  291   \n",
       "3     7826       2016-01-02                 5          1                  214   \n",
       "4     2863       2016-01-02                 5         17                  272   \n",
       "\n",
       "   direction  agent  day  month  \n",
       "0          1      0    2      1  \n",
       "1          1      0    2      1  \n",
       "2          1      0    2      1  \n",
       "3          1      0    2      1  \n",
       "4          1      0    2      1  "
      ]
     },
     "execution_count": 87,
     "metadata": {},
     "output_type": "execute_result"
    }
   ],
   "source": [
    "'''\n",
    "----------------------\n",
    "view of the updated data\n",
    "----------------------\n",
    "'''\n",
    "\n",
    "data_train_main_filled.head()"
   ]
  },
  {
   "cell_type": "code",
   "execution_count": 88,
   "metadata": {},
   "outputs": [],
   "source": [
    "'''\n",
    "----------------------\n",
    "Dropping transaction_date, transaction_type, user_id\n",
    "----------------------\n",
    "'''\n",
    "\n",
    "data_train_main_filled.drop(['transaction_date', 'transaction_type'], axis=1, inplace=True)\n"
   ]
  },
  {
   "cell_type": "code",
   "execution_count": 89,
   "metadata": {},
   "outputs": [
    {
     "data": {
      "text/html": [
       "<div>\n",
       "<style scoped>\n",
       "    .dataframe tbody tr th:only-of-type {\n",
       "        vertical-align: middle;\n",
       "    }\n",
       "\n",
       "    .dataframe tbody tr th {\n",
       "        vertical-align: top;\n",
       "    }\n",
       "\n",
       "    .dataframe thead th {\n",
       "        text-align: right;\n",
       "    }\n",
       "</style>\n",
       "<table border=\"1\" class=\"dataframe\">\n",
       "  <thead>\n",
       "    <tr style=\"text-align: right;\">\n",
       "      <th></th>\n",
       "      <th>user_id</th>\n",
       "      <th>mcc_group</th>\n",
       "      <th>amount_n26_currency</th>\n",
       "      <th>direction</th>\n",
       "      <th>agent</th>\n",
       "      <th>day</th>\n",
       "      <th>month</th>\n",
       "    </tr>\n",
       "  </thead>\n",
       "  <tbody>\n",
       "    <tr>\n",
       "      <th>user_id</th>\n",
       "      <td>1.000000</td>\n",
       "      <td>0.002752</td>\n",
       "      <td>0.000511</td>\n",
       "      <td>-0.002387</td>\n",
       "      <td>-0.008609</td>\n",
       "      <td>0.005233</td>\n",
       "      <td>0.002302</td>\n",
       "    </tr>\n",
       "    <tr>\n",
       "      <th>mcc_group</th>\n",
       "      <td>0.002752</td>\n",
       "      <td>1.000000</td>\n",
       "      <td>-0.063145</td>\n",
       "      <td>0.058669</td>\n",
       "      <td>0.100982</td>\n",
       "      <td>-0.005984</td>\n",
       "      <td>0.012564</td>\n",
       "    </tr>\n",
       "    <tr>\n",
       "      <th>amount_n26_currency</th>\n",
       "      <td>0.000511</td>\n",
       "      <td>-0.063145</td>\n",
       "      <td>1.000000</td>\n",
       "      <td>-0.357703</td>\n",
       "      <td>-0.283742</td>\n",
       "      <td>0.046683</td>\n",
       "      <td>-0.034658</td>\n",
       "    </tr>\n",
       "    <tr>\n",
       "      <th>direction</th>\n",
       "      <td>-0.002387</td>\n",
       "      <td>0.058669</td>\n",
       "      <td>-0.357703</td>\n",
       "      <td>1.000000</td>\n",
       "      <td>0.514057</td>\n",
       "      <td>-0.016038</td>\n",
       "      <td>0.034238</td>\n",
       "    </tr>\n",
       "    <tr>\n",
       "      <th>agent</th>\n",
       "      <td>-0.008609</td>\n",
       "      <td>0.100982</td>\n",
       "      <td>-0.283742</td>\n",
       "      <td>0.514057</td>\n",
       "      <td>1.000000</td>\n",
       "      <td>0.004547</td>\n",
       "      <td>0.064605</td>\n",
       "    </tr>\n",
       "    <tr>\n",
       "      <th>day</th>\n",
       "      <td>0.005233</td>\n",
       "      <td>-0.005984</td>\n",
       "      <td>0.046683</td>\n",
       "      <td>-0.016038</td>\n",
       "      <td>0.004547</td>\n",
       "      <td>1.000000</td>\n",
       "      <td>-0.327059</td>\n",
       "    </tr>\n",
       "    <tr>\n",
       "      <th>month</th>\n",
       "      <td>0.002302</td>\n",
       "      <td>0.012564</td>\n",
       "      <td>-0.034658</td>\n",
       "      <td>0.034238</td>\n",
       "      <td>0.064605</td>\n",
       "      <td>-0.327059</td>\n",
       "      <td>1.000000</td>\n",
       "    </tr>\n",
       "  </tbody>\n",
       "</table>\n",
       "</div>"
      ],
      "text/plain": [
       "                      user_id  mcc_group  amount_n26_currency  direction  \\\n",
       "user_id              1.000000   0.002752             0.000511  -0.002387   \n",
       "mcc_group            0.002752   1.000000            -0.063145   0.058669   \n",
       "amount_n26_currency  0.000511  -0.063145             1.000000  -0.357703   \n",
       "direction           -0.002387   0.058669            -0.357703   1.000000   \n",
       "agent               -0.008609   0.100982            -0.283742   0.514057   \n",
       "day                  0.005233  -0.005984             0.046683  -0.016038   \n",
       "month                0.002302   0.012564            -0.034658   0.034238   \n",
       "\n",
       "                        agent       day     month  \n",
       "user_id             -0.008609  0.005233  0.002302  \n",
       "mcc_group            0.100982 -0.005984  0.012564  \n",
       "amount_n26_currency -0.283742  0.046683 -0.034658  \n",
       "direction            0.514057 -0.016038  0.034238  \n",
       "agent                1.000000  0.004547  0.064605  \n",
       "day                  0.004547  1.000000 -0.327059  \n",
       "month                0.064605 -0.327059  1.000000  "
      ]
     },
     "execution_count": 89,
     "metadata": {},
     "output_type": "execute_result"
    }
   ],
   "source": [
    "'''\n",
    "----------------------\n",
    "correlation check\n",
    "----------------------\n",
    "'''\n",
    "\n",
    "data_train_main_filled.corr()"
   ]
  },
  {
   "cell_type": "markdown",
   "metadata": {},
   "source": [
    "## splitting"
   ]
  },
  {
   "cell_type": "code",
   "execution_count": 90,
   "metadata": {},
   "outputs": [],
   "source": [
    "'''\n",
    "----------------------\n",
    "split data\n",
    "----------------------\n",
    "'''\n",
    "\n",
    "X = data_train_main_filled.drop('direction', axis=1)\n",
    "y = data_train_main_filled['direction']\n",
    "\n",
    "X_train, X_temp, y_train, y_temp = train_test_split(X, y, test_size=0.2, random_state=42, stratify=y)\n",
    "X_val, X_test, y_val, y_test = train_test_split(X_temp, y_temp, test_size=0.5, random_state=42, stratify=y_temp)\n",
    "\n",
    "\n",
    "scaler = StandardScaler()\n",
    "X_train = scaler.fit_transform(X_train)\n",
    "X_val = scaler.transform(X_val)\n",
    "X_test = scaler.transform(X_test)\n"
   ]
  },
  {
   "cell_type": "code",
   "execution_count": 91,
   "metadata": {},
   "outputs": [
    {
     "data": {
      "text/plain": [
       "(direction\n",
       " 1    82.196498\n",
       " 0    17.803502\n",
       " Name: proportion, dtype: float64,\n",
       " direction\n",
       " 1    82.19872\n",
       " 0    17.80128\n",
       " Name: proportion, dtype: float64,\n",
       " direction\n",
       " 1    82.195758\n",
       " 0    17.804242\n",
       " Name: proportion, dtype: float64)"
      ]
     },
     "execution_count": 91,
     "metadata": {},
     "output_type": "execute_result"
    }
   ],
   "source": [
    "'''\n",
    "----------------------\n",
    "Checking the proportion of the classes in the train, validation and test sets\n",
    "----------------------\n",
    "'''\n",
    "\n",
    "y_train.value_counts(normalize=True) * 100, y_val.value_counts(normalize=True) * 100, y_test.value_counts(normalize=True) * 100"
   ]
  },
  {
   "cell_type": "code",
   "execution_count": 92,
   "metadata": {},
   "outputs": [],
   "source": [
    "'''\n",
    "----------------------\n",
    "grids search on RF\n",
    "----------------------\n",
    "'''\n",
    "\n",
    "run_grid_search = False\n",
    "if run_grid_search:\n",
    "    \n",
    "    param_grid = {\n",
    "        'class_weight': [{0: 1.3, 1: 1.0},{0: 1.4, 1: 1.0}, {0: 1.45, 1: 1.0}, {0: 1.5, 1: 1.0}],\n",
    "        # 'class_weight': [{0: 2.8, 1: 0.6}, {0: 2.4, 1: 0.6},  {0: 2.2, 1: 0.6}],\n",
    "        'n_estimators': [50, 100],\n",
    "        'max_depth': [None, 10, 20],\n",
    "    }\n",
    "    \n",
    "\n",
    "    grid_search = GridSearchCV(RandomForestClassifier(random_state=42), param_grid, scoring='roc_auc', cv=3, verbose=3)\n",
    "   \n",
    "    grid_search.fit(X_train, y_train)\n",
    "    best_params = grid_search.best_params_;best_params\n",
    "    print(\"Best parameters:\", best_params)"
   ]
  },
  {
   "cell_type": "markdown",
   "metadata": {},
   "source": [
    "# Methods\n",
    "\n",
    "![title](./img/lr.png)\n",
    "## 1. LR (logistic regression): \n",
    "we use the LR methods as baseline and in addition, we add penalties to the cost function to balance the target variable.\n",
    "\n",
    "## 2. RF (random forest)\n",
    "\n",
    "![title](./img/rfTree.png)\n",
    "`(image source: https://upload.wikimedia.org/wikipedia/commons/4/4e/Random_forest_explain.png)`\n",
    "\n",
    "In classification problem, the RF method works by constructing multiple decision trees during training and returns the majority vote from these trees.\n",
    "\n",
    "baseline RF assumes equal importance for all classes, and the weighted approach introduces class weights to modify the splitting criteria of the labels to prioritize minority class.\n",
    "\n",
    "## 3. MLP (multilayer perceptron)\n",
    "mlp is a feedforward neural network consisting of fully connected neurons with nonlinear activation functions \n",
    "\n",
    "\n",
    "\n"
   ]
  },
  {
   "cell_type": "markdown",
   "metadata": {},
   "source": [
    "paramter:\n",
    "\n",
    "- `class_weight`: in the weighted RF, changes to `class_weight` will modify the outcome of the model. after some experiments, the class weight is set as `class_weight={0:1.45, 1:1.0}`\n",
    "- `max_depth`: the maximum depth of the tree\n",
    "- `n_estimator`: higher (lower) `n_estimator` could increase (reduce) model accuracy\n",
    "- weights on LR: to tune the model sensitivity to imbalanced response feature, use `weight_positive=1.` and  `weight_negative=1.45`. these values are thesame as in `class_weight`\n",
    "- `hidden_layer_sizes`: The ith element represents the number of neurons in the ith hidden layer.\n",
    "- `activation`: activation function for the hidden layer. other options are {identity, logistic, tanh}.\n",
    "- `solver`: the solver for weight optimization. other options to try are `lbfgs` and `sgd`."
   ]
  },
  {
   "cell_type": "code",
   "execution_count": null,
   "metadata": {},
   "outputs": [
    {
     "name": "stdout",
     "output_type": "stream",
     "text": [
      "Training Weighted RF\n"
     ]
    },
    {
     "name": "stderr",
     "output_type": "stream",
     "text": [
      "/Users/abdullahi/opt/anaconda3/envs/abdulGeneral/lib/python3.8/site-packages/sklearn/base.py:458: UserWarning: X has feature names, but RandomForestClassifier was fitted without feature names\n",
      "  warnings.warn(\n",
      "/Users/abdullahi/opt/anaconda3/envs/abdulGeneral/lib/python3.8/site-packages/sklearn/base.py:458: UserWarning: X has feature names, but RandomForestClassifier was fitted without feature names\n",
      "  warnings.warn(\n"
     ]
    },
    {
     "name": "stdout",
     "output_type": "stream",
     "text": [
      "--- Weighted RF saved ---\n",
      "Train Accuracy: 0.91\n",
      "Val Accuracy: 0.88\n",
      "Test Accuracy: 0.88\n"
     ]
    }
   ],
   "source": [
    "'''\n",
    "----------------------\n",
    "train model\n",
    "----------------------\n",
    "'''\n",
    "\n",
    "n_estimator = 100\n",
    "seedS = 42\n",
    "lr = 0.01\n",
    "max_iter = 1000\n",
    "max_depth = 15\n",
    "\n",
    "models = {\n",
    "    # \"Baseline RF\": RandomForestClassifier(n_estimators=n_estimator, random_state=seedS),\n",
    "    \"Weighted RF\": RandomForestClassifier(n_estimators=n_estimator, class_weight={0:1.45, 1:1.0}, max_depth=max_depth, random_state=seedS),\n",
    "    # \"Baseline LR\": LogisticRegressionModels(model_type=\"baseline\", learning_rate=lr, max_iter=max_iter),\n",
    "    # \"cost LR\": LogisticRegressionModels(model_type=\"cost_sensitive\", weight_positive=1., weight_negative=1.45, learning_rate=lr, max_iter=max_iter),\n",
    "    # \"MLP\": MLPClassifier(hidden_layer_sizes=(50,), activation='relu', solver='adam', verbose=False,learning_rate_init=lr, max_iter=max_iter, random_state=seedS),\n",
    "} \n",
    "\n",
    "results = {}\n",
    "for name, model in models.items():\n",
    "    print(f\"Training {name}\")\n",
    "    if model.__class__.__name__ in ['RandomForestClassifier', 'MLPClassifier']:\n",
    "        model.fit(X_train, y_train)\n",
    "    elif model.__class__.__name__ == 'LogisticRegressionModels':\n",
    "        model.fit(X_train, y_train, X_val, y_val)\n",
    "    else:\n",
    "        raise ValueError(\"Model not supported\")\n",
    "        \n",
    "    show_curves = False\n",
    "    if show_curves:\n",
    "        if isinstance(model, (LogisticRegressionModels)):  \n",
    "            plt.figure(figsize=(10, 6))\n",
    "            plt.plot(model.train_losses, label='Training Loss')\n",
    "            plt.plot(model.val_losses, label='Validation Loss')\n",
    "            plt.xlabel('Iteration')\n",
    "            plt.ylabel('Loss')\n",
    "            plt.legend()\n",
    "            plt.grid()\n",
    "            plt.show()\n",
    "\n",
    "    # pred\n",
    "    y_pred_train = model.predict(X_train)\n",
    "    y_pred_val = model.predict(X_val)\n",
    "    y_pred_test = model.predict(X_test)\n",
    "    '''\n",
    "    X_new_data = new_data.drop('direction', axis=1)\n",
    "    y_new = new_data['direction']\n",
    "    y_pred_new_data = model.predict(X_new_data)\n",
    "    \n",
    "    test_accuracy_new = accuracy_score(y_new, y_pred_new_data)'''\n",
    "\n",
    "    # metric\n",
    "    train_accuracy = accuracy_score(y_train, y_pred_train)\n",
    "    val_accuracy = accuracy_score(y_val, y_pred_val)\n",
    "    test_accuracy = accuracy_score(y_test, y_pred_test)\n",
    "    f1 = f1_score(y_test, y_pred_test)\n",
    "    \n",
    "    if model.__class__.__name__ in ['RandomForestClassifier', 'MLPClassifier']:\n",
    "        y_pred_proba_test = model.predict_proba(X_test)[:, 1]\n",
    "\n",
    "        # y_pred_proba_new_data = model.predict_proba(X_new_data)[:, 1]\n",
    "\n",
    "        auc = roc_auc_score(y_test, y_pred_proba_test)\n",
    "    elif model.__class__.__name__ == 'LogisticRegressionModels':\n",
    "        y_pred_proba_test = model.predict_proba(X_test)\n",
    "        auc = roc_auc_score(y_test, y_pred_proba_test)\n",
    "\n",
    "    results[name] = {\n",
    "        \"Train Accuracy\": train_accuracy,\n",
    "        \"Val Accuracy\": val_accuracy,\n",
    "        \"Test Accuracy\": test_accuracy,\n",
    "        # 'new data': test_accuracy_new,\n",
    "        \"AUC\": auc,\n",
    "        \"f1\": f1,\n",
    "        \"Model\": model,\n",
    "        }\n",
    "    print(f\"--- {name} saved ---\")\n",
    "    print(f\"Train Accuracy: {train_accuracy:.2f}\")\n",
    "    print(f\"Val Accuracy: {val_accuracy:.2f}\")\n",
    "    print(f\"Test Accuracy: {test_accuracy:.2f}\")"
   ]
  },
  {
   "cell_type": "code",
   "execution_count": null,
   "metadata": {},
   "outputs": [],
   "source": [
    "'''\n",
    "----------------------\n",
    "Check test accuracy\n",
    "----------------------\n",
    "'''\n",
    "\n",
    "methods = list(results.keys())\n",
    "test_accuracies_ = [metrics['Test Accuracy'] for metrics in results.values()]\n",
    "\n",
    "list(zip(methods,test_accuracies_))"
   ]
  },
  {
   "cell_type": "code",
   "execution_count": null,
   "metadata": {},
   "outputs": [],
   "source": [
    "'''\n",
    "----------------------\n",
    "plot accuraries\n",
    "----------------------\n",
    "'''\n",
    "\n",
    "labels = list(results.keys())\n",
    "train_accuracies = [metrics['Train Accuracy'] for metrics in results.values()]\n",
    "val_accuracies = [metrics['Val Accuracy'] for metrics in results.values()]\n",
    "test_accuracies = [metrics['Test Accuracy'] for metrics in results.values()]\n",
    "\n",
    "bar_width = 0.2\n",
    "indices = np.arange(len(labels))\n",
    "figsize = (16, 8)\n",
    "plotter.plot_barplot( indices, train_accuracies, val_accuracies, test_accuracies, labels, bar_width=bar_width, figsize=figsize)\n"
   ]
  },
  {
   "cell_type": "markdown",
   "metadata": {},
   "source": [
    "First, the baseline RF slightly overfitting on the training accuracy compared to validation and test. second, the weighted RF improved minority class predictions with a higher accuray over the baseline. \n",
    "Adding penalities to LR shows a better performance over the baseline LR.\n",
    "and overall `MLP` and `weighted RF` achieved highest accuracy."
   ]
  },
  {
   "cell_type": "code",
   "execution_count": null,
   "metadata": {},
   "outputs": [],
   "source": [
    "'''\n",
    "----------------------\n",
    "Check the F1 score\n",
    "----------------------\n",
    "'''\n",
    "\n",
    "f1_ = [metrics['f1'] for metrics in results.values()]\n",
    "\n",
    "list(zip(methods,f1_))"
   ]
  },
  {
   "cell_type": "markdown",
   "metadata": {},
   "source": [
    "`MLP` (0.92) and `Weighted RF` (0.92) are the top performers. `Baseline LR` (0.91) recorded the lowest F1-score, indicating it may struggle with class balance or misclassification penalties. `MLP` and `Weighted RF` seem to provide better balance between precision and recall."
   ]
  },
  {
   "cell_type": "code",
   "execution_count": null,
   "metadata": {},
   "outputs": [],
   "source": [
    "'''\n",
    "----------------------\n",
    "plot AUC curves\n",
    "----------------------\n",
    "'''\n",
    "\n",
    "figsize=(12, 8)\n",
    "plotter.plot_auc_curves(results, X_test, y_test, figsize=figsize)"
   ]
  },
  {
   "cell_type": "markdown",
   "metadata": {},
   "source": [
    "The `weighted RF` and `MLP` achieved the highest AUC indicating these approaches outperformed other methods in distinguishing between positive and negative samples."
   ]
  },
  {
   "cell_type": "markdown",
   "metadata": {},
   "source": [
    "# Overall summary\n",
    "\n",
    "The performance of 5 ML models was evaluated using F1-score, Accuracy, and AUC (Area Under the Curve). \n",
    "\n",
    " -   `Weighted RF` achieved the best overall performance, with the highest AUC (0.9336) and test accuracy (0.8713). It also had a strong F1-score (0.9207), making it the most balanced model in terms of classification performance.\n",
    "\n",
    " -   `MLP` performed similarly well, with the highest F1-score (0.9209), a competitive AUC (0.9274), and test accuracy (0.8692). This suggests that a neural network approach is also effective in this scenario.\n",
    "\n",
    " -  `Baseline RF` showed good performance, with solid results across all metrics (F1-score: 0.9174, Accuracy: 0.8636, AUC: 0.9195). However, it was slightly outperformed by its weighted version.\n",
    "\n",
    " -  `Cost-sensitive LR` improved over the Baseline LR, with a better F1-score (0.9179 vs. 0.9139) and test accuracy (0.8611 vs. 0.8495). However, both logistic regression models had significantly lower AUC scores (~0.876), indicating weaker predictive power compared to tree-based models and neural networks.\n",
    "\n",
    " -  `Baseline LR` had the weakest performance, ranking lowest across all metrics. This suggests that a simple logistic regression model may not be well-suited for the classification task, likely due to class imbalance or lack of feature interactions.\n",
    "\n",
    "The results highlight `Weighted RF` and `MLP` as the top-performing models.\n"
   ]
  },
  {
   "cell_type": "markdown",
   "metadata": {},
   "source": [
    "## Extra (Optional)"
   ]
  },
  {
   "cell_type": "markdown",
   "metadata": {},
   "source": [
    "# lets compare `July_data` with `predict_df`\n",
    "\n",
    "we import one of the saved model and run it here and compare with the actual"
   ]
  },
  {
   "cell_type": "code",
   "execution_count": 3,
   "metadata": {},
   "outputs": [
    {
     "data": {
      "text/plain": [
       "<module 'preprocessing' from '/Users/abdullahi/Documents/github/income2/src/preprocessing.py'>"
      ]
     },
     "execution_count": 3,
     "metadata": {},
     "output_type": "execute_result"
    }
   ],
   "source": [
    "import importlib\n",
    "import preprocessing\n",
    "importlib.reload(preprocessing)"
   ]
  },
  {
   "cell_type": "code",
   "execution_count": 6,
   "metadata": {},
   "outputs": [
    {
     "name": "stdout",
     "output_type": "stream",
     "text": [
      "original df shape: (70986, 7)\n",
      "actual False\n"
     ]
    },
    {
     "name": "stderr",
     "output_type": "stream",
     "text": [
      "/Users/abdullahi/Documents/github/income2/src/preprocessing.py:64: UserWarning: Could not infer format, so each element will be parsed individually, falling back to `dateutil`. To ensure parsing is consistent and as-expected, please specify a format.\n",
      "  df_train[\"transaction_date\"] = pd.to_datetime(df_train[\"transaction_date\"])\n"
     ]
    },
    {
     "name": "stdout",
     "output_type": "stream",
     "text": [
      "categorical_cols:Index(['direction', 'agent'], dtype='object')\n",
      "Using --training == False-- (Prediction mode)\n"
     ]
    },
    {
     "data": {
      "text/html": [
       "<div>\n",
       "<style scoped>\n",
       "    .dataframe tbody tr th:only-of-type {\n",
       "        vertical-align: middle;\n",
       "    }\n",
       "\n",
       "    .dataframe tbody tr th {\n",
       "        vertical-align: top;\n",
       "    }\n",
       "\n",
       "    .dataframe thead th {\n",
       "        text-align: right;\n",
       "    }\n",
       "</style>\n",
       "<table border=\"1\" class=\"dataframe\">\n",
       "  <thead>\n",
       "    <tr style=\"text-align: right;\">\n",
       "      <th></th>\n",
       "      <th>mcc_group</th>\n",
       "      <th>amount_n26_currency</th>\n",
       "      <th>direction</th>\n",
       "      <th>agent</th>\n",
       "      <th>day</th>\n",
       "      <th>month</th>\n",
       "    </tr>\n",
       "  </thead>\n",
       "  <tbody>\n",
       "    <tr>\n",
       "      <th>0</th>\n",
       "      <td>-0.598416</td>\n",
       "      <td>1.301469</td>\n",
       "      <td>1</td>\n",
       "      <td>0</td>\n",
       "      <td>-1.020525</td>\n",
       "      <td>-2.465124</td>\n",
       "    </tr>\n",
       "    <tr>\n",
       "      <th>1</th>\n",
       "      <td>-0.803279</td>\n",
       "      <td>1.047119</td>\n",
       "      <td>1</td>\n",
       "      <td>0</td>\n",
       "      <td>-1.020525</td>\n",
       "      <td>-2.465124</td>\n",
       "    </tr>\n",
       "  </tbody>\n",
       "</table>\n",
       "</div>"
      ],
      "text/plain": [
       "   mcc_group  amount_n26_currency  direction  agent       day     month\n",
       "0  -0.598416             1.301469          1      0 -1.020525 -2.465124\n",
       "1  -0.803279             1.047119          1      0 -1.020525 -2.465124"
      ]
     },
     "execution_count": 6,
     "metadata": {},
     "output_type": "execute_result"
    }
   ],
   "source": [
    "'''\n",
    "July data\n",
    "\n",
    "you can change the directory to the August data\n",
    "'''\n",
    "new_data_dir = \"../data/2016-09-19_79351_training_july.csv\" \n",
    "\n",
    "new_data = preprocessing.load_and_preprocess(new_data_dir, training=False)\n",
    "\n",
    "# new_data.drop(['user_id'], axis=1, inplace=True)\n",
    "new_data.head(2)"
   ]
  },
  {
   "cell_type": "code",
   "execution_count": 11,
   "metadata": {},
   "outputs": [
    {
     "name": "stderr",
     "output_type": "stream",
     "text": [
      "/Users/abdullahi/opt/anaconda3/envs/abdulGeneral/lib/python3.8/site-packages/sklearn/base.py:348: InconsistentVersionWarning: Trying to unpickle estimator DecisionTreeClassifier from version 1.3.1 when using version 1.3.2. This might lead to breaking code or invalid results. Use at your own risk. For more info please refer to:\n",
      "https://scikit-learn.org/stable/model_persistence.html#security-maintainability-limitations\n",
      "  warnings.warn(\n",
      "/Users/abdullahi/opt/anaconda3/envs/abdulGeneral/lib/python3.8/site-packages/sklearn/base.py:348: InconsistentVersionWarning: Trying to unpickle estimator RandomForestClassifier from version 1.3.1 when using version 1.3.2. This might lead to breaking code or invalid results. Use at your own risk. For more info please refer to:\n",
      "https://scikit-learn.org/stable/model_persistence.html#security-maintainability-limitations\n",
      "  warnings.warn(\n"
     ]
    },
    {
     "name": "stdout",
     "output_type": "stream",
     "text": [
      "Loaded model: Weighted_RF_model.pkl\n",
      "Test Accuracy: 0.87\n"
     ]
    }
   ],
   "source": [
    "'''\n",
    "test the model on the new data\n",
    "'''\n",
    "model_dir = \"./models\"\n",
    "model_files = [f for f in os.listdir(model_dir) if f.endswith(\"_model.pkl\")]\n",
    "\n",
    "all_predictions = {}\n",
    "\n",
    "for model_file in model_files:\n",
    "    if model_file == 'Weighted_RF_model.pkl':\n",
    "        model_path = os.path.join(model_dir, model_file)\n",
    "        model = joblib.load(model_path)\n",
    "        print(f\"Loaded model: {model_file}\")\n",
    "\n",
    "        X_new_data = new_data.drop(['direction'], axis=1)\n",
    "        y_new = new_data['direction']\n",
    "        y_pred_new_data = model.predict(X_new_data)\n",
    "    \n",
    "        test_accuracy_new = accuracy_score(y_new, y_pred_new_data)\n",
    "        print(f\"Test Accuracy: {test_accuracy_new:.2f}\")"
   ]
  },
  {
   "cell_type": "code",
   "execution_count": 12,
   "metadata": {},
   "outputs": [
    {
     "data": {
      "text/html": [
       "<div>\n",
       "<style scoped>\n",
       "    .dataframe tbody tr th:only-of-type {\n",
       "        vertical-align: middle;\n",
       "    }\n",
       "\n",
       "    .dataframe tbody tr th {\n",
       "        vertical-align: top;\n",
       "    }\n",
       "\n",
       "    .dataframe thead th {\n",
       "        text-align: right;\n",
       "    }\n",
       "</style>\n",
       "<table border=\"1\" class=\"dataframe\">\n",
       "  <thead>\n",
       "    <tr style=\"text-align: right;\">\n",
       "      <th></th>\n",
       "      <th>y_new</th>\n",
       "      <th>pred</th>\n",
       "    </tr>\n",
       "  </thead>\n",
       "  <tbody>\n",
       "    <tr>\n",
       "      <th>0</th>\n",
       "      <td>1</td>\n",
       "      <td>0</td>\n",
       "    </tr>\n",
       "    <tr>\n",
       "      <th>1</th>\n",
       "      <td>1</td>\n",
       "      <td>0</td>\n",
       "    </tr>\n",
       "    <tr>\n",
       "      <th>2</th>\n",
       "      <td>1</td>\n",
       "      <td>1</td>\n",
       "    </tr>\n",
       "    <tr>\n",
       "      <th>3</th>\n",
       "      <td>1</td>\n",
       "      <td>1</td>\n",
       "    </tr>\n",
       "    <tr>\n",
       "      <th>4</th>\n",
       "      <td>1</td>\n",
       "      <td>1</td>\n",
       "    </tr>\n",
       "    <tr>\n",
       "      <th>...</th>\n",
       "      <td>...</td>\n",
       "      <td>...</td>\n",
       "    </tr>\n",
       "    <tr>\n",
       "      <th>70981</th>\n",
       "      <td>1</td>\n",
       "      <td>1</td>\n",
       "    </tr>\n",
       "    <tr>\n",
       "      <th>70982</th>\n",
       "      <td>1</td>\n",
       "      <td>0</td>\n",
       "    </tr>\n",
       "    <tr>\n",
       "      <th>70983</th>\n",
       "      <td>1</td>\n",
       "      <td>1</td>\n",
       "    </tr>\n",
       "    <tr>\n",
       "      <th>70984</th>\n",
       "      <td>1</td>\n",
       "      <td>1</td>\n",
       "    </tr>\n",
       "    <tr>\n",
       "      <th>70985</th>\n",
       "      <td>1</td>\n",
       "      <td>1</td>\n",
       "    </tr>\n",
       "  </tbody>\n",
       "</table>\n",
       "<p>70986 rows × 2 columns</p>\n",
       "</div>"
      ],
      "text/plain": [
       "       y_new  pred\n",
       "0          1     0\n",
       "1          1     0\n",
       "2          1     1\n",
       "3          1     1\n",
       "4          1     1\n",
       "...      ...   ...\n",
       "70981      1     1\n",
       "70982      1     0\n",
       "70983      1     1\n",
       "70984      1     1\n",
       "70985      1     1\n",
       "\n",
       "[70986 rows x 2 columns]"
      ]
     },
     "execution_count": 12,
     "metadata": {},
     "output_type": "execute_result"
    }
   ],
   "source": [
    "'''\n",
    "prediction vs actual\n",
    "'''\n",
    "\n",
    "values_only = y_new.values\n",
    "df3 = {'y_new': values_only, 'pred': pd.Series(y_pred_new_data)}\n",
    "pd.DataFrame(df3)"
   ]
  },
  {
   "cell_type": "code",
   "execution_count": null,
   "metadata": {},
   "outputs": [],
   "source": []
  },
  {
   "cell_type": "code",
   "execution_count": null,
   "metadata": {},
   "outputs": [],
   "source": []
  }
 ],
 "metadata": {
  "kernelspec": {
   "display_name": "abdulGeneral",
   "language": "python",
   "name": "python3"
  },
  "language_info": {
   "codemirror_mode": {
    "name": "ipython",
    "version": 3
   },
   "file_extension": ".py",
   "mimetype": "text/x-python",
   "name": "python",
   "nbconvert_exporter": "python",
   "pygments_lexer": "ipython3",
   "version": "3.8.20"
  }
 },
 "nbformat": 4,
 "nbformat_minor": 4
}
