{
 "cells": [
  {
   "cell_type": "markdown",
   "metadata": {},
   "source": [
    "# Case study\n",
    "## Task\n",
    "Predict income and expenses for a holdout sample of ~10K users for the month of August based on a training sample of ~10K users from Februrary through July.\n",
    "\n",
    "Based on your judgement of the usefulness of the results, either aggregate the data into incoming & outgoing flows, or predict based on the transaction type/category.\n"
   ]
  },
  {
   "cell_type": "code",
   "execution_count": 28,
   "metadata": {},
   "outputs": [],
   "source": [
    "# library\n",
    "import numpy as np\n",
    "import matplotlib.pyplot as plt\n",
    "import pandas as pd\n",
    "from sklearn.model_selection import train_test_split, GridSearchCV\n",
    "from sklearn.preprocessing import StandardScaler, LabelEncoder\n",
    "from sklearn.ensemble import RandomForestClassifier\n",
    "from sklearn.metrics import accuracy_score, roc_auc_score, f1_score\n",
    "from sklearn.neural_network import MLPClassifier\n",
    "import joblib\n",
    "import os\n",
    "\n",
    "# custom modules\n",
    "from LRmodel import LogisticRegressionModels\n",
    "import plotter\n",
    "from preprocessing import load_and_preprocess\n"
   ]
  },
  {
   "cell_type": "markdown",
   "metadata": {},
   "source": [
    "### Loading the dataset"
   ]
  },
  {
   "cell_type": "code",
   "execution_count": 29,
   "metadata": {},
   "outputs": [],
   "source": [
    "'''\n",
    "data\n",
    "'''\n",
    "# data_train = pd.read_csv('./data/2016-09-19_79351_training.csv')\n",
    "data_train = pd.read_csv(\"./data/2016-09-19_79351_training.csv\")\n",
    "data_mcc_group = pd.read_csv('./data/mcc_group_definition.csv')\n",
    "data_transaction = pd.read_csv('./data/transaction_types.csv')\n"
   ]
  },
  {
   "cell_type": "markdown",
   "metadata": {},
   "source": [
    "# Data wrangling"
   ]
  },
  {
   "cell_type": "code",
   "execution_count": 30,
   "metadata": {},
   "outputs": [],
   "source": [
    "data_train_main = data_train.copy()"
   ]
  },
  {
   "cell_type": "code",
   "execution_count": 31,
   "metadata": {},
   "outputs": [
    {
     "data": {
      "text/html": [
       "<div>\n",
       "<style scoped>\n",
       "    .dataframe tbody tr th:only-of-type {\n",
       "        vertical-align: middle;\n",
       "    }\n",
       "\n",
       "    .dataframe tbody tr th {\n",
       "        vertical-align: top;\n",
       "    }\n",
       "\n",
       "    .dataframe thead th {\n",
       "        text-align: right;\n",
       "    }\n",
       "</style>\n",
       "<table border=\"1\" class=\"dataframe\">\n",
       "  <thead>\n",
       "    <tr style=\"text-align: right;\">\n",
       "      <th></th>\n",
       "      <th>user_id</th>\n",
       "      <th>transaction_date</th>\n",
       "      <th>transaction_type</th>\n",
       "      <th>mcc_group</th>\n",
       "      <th>amount_n26_currency</th>\n",
       "      <th>dataset_transaction</th>\n",
       "      <th>dataset_user</th>\n",
       "    </tr>\n",
       "  </thead>\n",
       "  <tbody>\n",
       "    <tr>\n",
       "      <th>0</th>\n",
       "      <td>a78884f5e76951188c1e719d4956773a</td>\n",
       "      <td>2016-02-01</td>\n",
       "      <td>DT</td>\n",
       "      <td>NaN</td>\n",
       "      <td>350</td>\n",
       "      <td>training</td>\n",
       "      <td>training</td>\n",
       "    </tr>\n",
       "    <tr>\n",
       "      <th>1</th>\n",
       "      <td>b0333294fef6ff1299102a70ad46b126</td>\n",
       "      <td>2016-02-01</td>\n",
       "      <td>DT</td>\n",
       "      <td>NaN</td>\n",
       "      <td>202</td>\n",
       "      <td>training</td>\n",
       "      <td>training</td>\n",
       "    </tr>\n",
       "    <tr>\n",
       "      <th>2</th>\n",
       "      <td>7b8d2a2780adae0cd0c248e92c1b28dc</td>\n",
       "      <td>2016-02-01</td>\n",
       "      <td>DT</td>\n",
       "      <td>NaN</td>\n",
       "      <td>291</td>\n",
       "      <td>training</td>\n",
       "      <td>training</td>\n",
       "    </tr>\n",
       "    <tr>\n",
       "      <th>3</th>\n",
       "      <td>cc4abaa500f7db4390ae3f02bd36d805</td>\n",
       "      <td>2016-02-01</td>\n",
       "      <td>DT</td>\n",
       "      <td>NaN</td>\n",
       "      <td>214</td>\n",
       "      <td>training</td>\n",
       "      <td>training</td>\n",
       "    </tr>\n",
       "    <tr>\n",
       "      <th>4</th>\n",
       "      <td>49b99d1d5ba028566639e8b3eb7c055b</td>\n",
       "      <td>2016-02-01</td>\n",
       "      <td>DT</td>\n",
       "      <td>NaN</td>\n",
       "      <td>272</td>\n",
       "      <td>training</td>\n",
       "      <td>training</td>\n",
       "    </tr>\n",
       "  </tbody>\n",
       "</table>\n",
       "</div>"
      ],
      "text/plain": [
       "                            user_id transaction_date transaction_type  \\\n",
       "0  a78884f5e76951188c1e719d4956773a       2016-02-01               DT   \n",
       "1  b0333294fef6ff1299102a70ad46b126       2016-02-01               DT   \n",
       "2  7b8d2a2780adae0cd0c248e92c1b28dc       2016-02-01               DT   \n",
       "3  cc4abaa500f7db4390ae3f02bd36d805       2016-02-01               DT   \n",
       "4  49b99d1d5ba028566639e8b3eb7c055b       2016-02-01               DT   \n",
       "\n",
       "   mcc_group  amount_n26_currency dataset_transaction dataset_user  \n",
       "0        NaN                  350            training     training  \n",
       "1        NaN                  202            training     training  \n",
       "2        NaN                  291            training     training  \n",
       "3        NaN                  214            training     training  \n",
       "4        NaN                  272            training     training  "
      ]
     },
     "execution_count": 31,
     "metadata": {},
     "output_type": "execute_result"
    }
   ],
   "source": [
    "data_train_main.head()"
   ]
  },
  {
   "cell_type": "code",
   "execution_count": 32,
   "metadata": {},
   "outputs": [
    {
     "data": {
      "text/plain": [
       "(array(['training'], dtype=object), array(['training'], dtype=object))"
      ]
     },
     "execution_count": 32,
     "metadata": {},
     "output_type": "execute_result"
    }
   ],
   "source": [
    "data_train_main.dataset_transaction.unique(), data_train_main.dataset_user.unique()"
   ]
  },
  {
   "cell_type": "code",
   "execution_count": 33,
   "metadata": {},
   "outputs": [
    {
     "name": "stdout",
     "output_type": "stream",
     "text": [
      "<class 'pandas.core.frame.DataFrame'>\n",
      "RangeIndex: 408546 entries, 0 to 408545\n",
      "Data columns (total 7 columns):\n",
      " #   Column               Non-Null Count   Dtype  \n",
      "---  ------               --------------   -----  \n",
      " 0   user_id              408546 non-null  object \n",
      " 1   transaction_date     408546 non-null  object \n",
      " 2   transaction_type     408546 non-null  object \n",
      " 3   mcc_group            258324 non-null  float64\n",
      " 4   amount_n26_currency  408546 non-null  int64  \n",
      " 5   dataset_transaction  408546 non-null  object \n",
      " 6   dataset_user         408546 non-null  object \n",
      "dtypes: float64(1), int64(1), object(5)\n",
      "memory usage: 21.8+ MB\n"
     ]
    }
   ],
   "source": [
    "data_train_main.info()"
   ]
  },
  {
   "cell_type": "markdown",
   "metadata": {},
   "source": [
    "The features `dataset_transaction` and  `dataset_user` contains only one unique entry which are irrelevant. We simply drop them. "
   ]
  },
  {
   "cell_type": "code",
   "execution_count": 34,
   "metadata": {},
   "outputs": [],
   "source": [
    "data_train_main = data_train_main.drop(['dataset_transaction', 'dataset_user'], axis=1)"
   ]
  },
  {
   "cell_type": "code",
   "execution_count": 35,
   "metadata": {},
   "outputs": [
    {
     "data": {
      "text/html": [
       "<div>\n",
       "<style scoped>\n",
       "    .dataframe tbody tr th:only-of-type {\n",
       "        vertical-align: middle;\n",
       "    }\n",
       "\n",
       "    .dataframe tbody tr th {\n",
       "        vertical-align: top;\n",
       "    }\n",
       "\n",
       "    .dataframe thead th {\n",
       "        text-align: right;\n",
       "    }\n",
       "</style>\n",
       "<table border=\"1\" class=\"dataframe\">\n",
       "  <thead>\n",
       "    <tr style=\"text-align: right;\">\n",
       "      <th></th>\n",
       "      <th>user_id</th>\n",
       "      <th>transaction_date</th>\n",
       "      <th>transaction_type</th>\n",
       "      <th>mcc_group</th>\n",
       "      <th>amount_n26_currency</th>\n",
       "    </tr>\n",
       "  </thead>\n",
       "  <tbody>\n",
       "    <tr>\n",
       "      <th>0</th>\n",
       "      <td>a78884f5e76951188c1e719d4956773a</td>\n",
       "      <td>2016-02-01</td>\n",
       "      <td>DT</td>\n",
       "      <td>NaN</td>\n",
       "      <td>350</td>\n",
       "    </tr>\n",
       "    <tr>\n",
       "      <th>1</th>\n",
       "      <td>b0333294fef6ff1299102a70ad46b126</td>\n",
       "      <td>2016-02-01</td>\n",
       "      <td>DT</td>\n",
       "      <td>NaN</td>\n",
       "      <td>202</td>\n",
       "    </tr>\n",
       "  </tbody>\n",
       "</table>\n",
       "</div>"
      ],
      "text/plain": [
       "                            user_id transaction_date transaction_type  \\\n",
       "0  a78884f5e76951188c1e719d4956773a       2016-02-01               DT   \n",
       "1  b0333294fef6ff1299102a70ad46b126       2016-02-01               DT   \n",
       "\n",
       "   mcc_group  amount_n26_currency  \n",
       "0        NaN                  350  \n",
       "1        NaN                  202  "
      ]
     },
     "execution_count": 35,
     "metadata": {},
     "output_type": "execute_result"
    }
   ],
   "source": [
    "data_train_main.head(2)"
   ]
  },
  {
   "cell_type": "code",
   "execution_count": 36,
   "metadata": {},
   "outputs": [
    {
     "data": {
      "text/plain": [
       "user_id                     0\n",
       "transaction_date            0\n",
       "transaction_type            0\n",
       "mcc_group              150222\n",
       "amount_n26_currency         0\n",
       "dtype: int64"
      ]
     },
     "execution_count": 36,
     "metadata": {},
     "output_type": "execute_result"
    }
   ],
   "source": [
    "# check for missing values\n",
    "data_train_main.isna().sum()    "
   ]
  },
  {
   "cell_type": "code",
   "execution_count": 37,
   "metadata": {},
   "outputs": [
    {
     "data": {
      "text/plain": [
       "36.76991085459165"
      ]
     },
     "execution_count": 37,
     "metadata": {},
     "output_type": "execute_result"
    }
   ],
   "source": [
    "# count rows with missing values %\n",
    "data_train_main.isna().sum()[data_train_main.isna().sum() > 0][0] / len(data_train_main) * 100"
   ]
  },
  {
   "cell_type": "markdown",
   "metadata": {},
   "source": [
    "## To do\n",
    " - create ```direction``` (i.e. in/out) feature: the ```in``` and ```out``` represents the income and expenses, respectively. ```in``` denotes money coming into the user acccount and ```out``` denotes money going out of the user account.\n",
    "\n",
    " - creating month/day feature from the transaction date.\n",
    "\n",
    " - fill NAs in ```mcc_group``` with mode and miscellaneous. We will fill the NAs locally per user. Specifically, we will take the ```mcc_group``` of a user and check for the most frequent transaction type and use this mode to replace any NA for such user. In the event there is no mode, we will simply categorize this as miscellaneous (i.e. 16) since no modal value."
   ]
  },
  {
   "cell_type": "code",
   "execution_count": 38,
   "metadata": {},
   "outputs": [
    {
     "data": {
      "text/html": [
       "<div>\n",
       "<style scoped>\n",
       "    .dataframe tbody tr th:only-of-type {\n",
       "        vertical-align: middle;\n",
       "    }\n",
       "\n",
       "    .dataframe tbody tr th {\n",
       "        vertical-align: top;\n",
       "    }\n",
       "\n",
       "    .dataframe thead th {\n",
       "        text-align: right;\n",
       "    }\n",
       "</style>\n",
       "<table border=\"1\" class=\"dataframe\">\n",
       "  <thead>\n",
       "    <tr style=\"text-align: right;\">\n",
       "      <th></th>\n",
       "      <th>type</th>\n",
       "      <th>explanation</th>\n",
       "      <th>direction</th>\n",
       "      <th>agent</th>\n",
       "    </tr>\n",
       "  </thead>\n",
       "  <tbody>\n",
       "    <tr>\n",
       "      <th>0</th>\n",
       "      <td>BBU</td>\n",
       "      <td>Cash26 deposit</td>\n",
       "      <td>In</td>\n",
       "      <td>Partner</td>\n",
       "    </tr>\n",
       "    <tr>\n",
       "      <th>1</th>\n",
       "      <td>CT</td>\n",
       "      <td>Credit Transfer</td>\n",
       "      <td>In</td>\n",
       "      <td>Bank Account</td>\n",
       "    </tr>\n",
       "    <tr>\n",
       "      <th>2</th>\n",
       "      <td>DR</td>\n",
       "      <td>Debit Reversal</td>\n",
       "      <td>In</td>\n",
       "      <td>Bank Account</td>\n",
       "    </tr>\n",
       "    <tr>\n",
       "      <th>3</th>\n",
       "      <td>BUB</td>\n",
       "      <td>Cash26 withdrawal</td>\n",
       "      <td>Out</td>\n",
       "      <td>Partner</td>\n",
       "    </tr>\n",
       "    <tr>\n",
       "      <th>4</th>\n",
       "      <td>DD</td>\n",
       "      <td>Direct Debit</td>\n",
       "      <td>Out</td>\n",
       "      <td>Bank Account</td>\n",
       "    </tr>\n",
       "    <tr>\n",
       "      <th>5</th>\n",
       "      <td>DT</td>\n",
       "      <td>Debit Transfer</td>\n",
       "      <td>Out</td>\n",
       "      <td>Bank Account</td>\n",
       "    </tr>\n",
       "    <tr>\n",
       "      <th>6</th>\n",
       "      <td>FT</td>\n",
       "      <td>MoneyBeam Transfer</td>\n",
       "      <td>Out</td>\n",
       "      <td>Bank Account</td>\n",
       "    </tr>\n",
       "    <tr>\n",
       "      <th>7</th>\n",
       "      <td>PT</td>\n",
       "      <td>Presentment</td>\n",
       "      <td>Out</td>\n",
       "      <td>Card</td>\n",
       "    </tr>\n",
       "    <tr>\n",
       "      <th>8</th>\n",
       "      <td>TUB</td>\n",
       "      <td>Transferwise Transaction</td>\n",
       "      <td>Out</td>\n",
       "      <td>Partner</td>\n",
       "    </tr>\n",
       "  </tbody>\n",
       "</table>\n",
       "</div>"
      ],
      "text/plain": [
       "  type               explanation direction         agent\n",
       "0  BBU            Cash26 deposit        In       Partner\n",
       "1   CT           Credit Transfer        In  Bank Account\n",
       "2   DR            Debit Reversal        In  Bank Account\n",
       "3  BUB         Cash26 withdrawal       Out       Partner\n",
       "4   DD              Direct Debit       Out  Bank Account\n",
       "5   DT            Debit Transfer       Out  Bank Account\n",
       "6   FT        MoneyBeam Transfer       Out  Bank Account\n",
       "7   PT               Presentment       Out          Card\n",
       "8  TUB  Transferwise Transaction       Out       Partner"
      ]
     },
     "execution_count": 38,
     "metadata": {},
     "output_type": "execute_result"
    }
   ],
   "source": [
    "'''\n",
    "filtered data_transaction based in transaction_type\n",
    "'''\n",
    "\n",
    "# filtering data_transaction.type\n",
    "\n",
    "# data_train_main.user_id.nunique()\n",
    "selected_types = list(data_train_main.transaction_type.unique()); selected_types\n",
    "data_transaction_filtered = data_transaction[data_transaction.type.isin(selected_types)]\n",
    "\n",
    "data_transaction_filtered.reset_index(drop = True, inplace = True); data_transaction_filtered"
   ]
  },
  {
   "cell_type": "code",
   "execution_count": 39,
   "metadata": {},
   "outputs": [
    {
     "data": {
      "text/plain": [
       "(['BBU', 'CT', 'DR'], ['BUB', 'DD', 'DT', 'FT', 'PT', 'TUB'])"
      ]
     },
     "execution_count": 39,
     "metadata": {},
     "output_type": "execute_result"
    }
   ],
   "source": [
    "# Grouping the transaction type into in and out\n",
    "type_in = data_transaction_filtered[data_transaction_filtered.direction == 'In'].type\n",
    "type_out = data_transaction_filtered[data_transaction_filtered.direction == 'Out'].type\n",
    "type_in, type_out = list(type_in), list(type_out); \n",
    "type_in, type_out"
   ]
  },
  {
   "cell_type": "code",
   "execution_count": 40,
   "metadata": {},
   "outputs": [],
   "source": [
    "## adding in/out feature to data_train_main\n",
    "\n",
    "data_train_main['direction'] = data_train_main.transaction_type.apply(lambda x: 'In' if x in type_in else 'Out')"
   ]
  },
  {
   "cell_type": "code",
   "execution_count": 41,
   "metadata": {},
   "outputs": [],
   "source": [
    "# mapping and adding agent feature to data_train_main\n",
    "\n",
    "type_to_agent = {\n",
    "    'BBU': 'Partner',\n",
    "    'CT': 'Bank Account',\n",
    "    'DR': 'Bank Account',\n",
    "    'PF': 'Card',\n",
    "    'PT': 'Card',\n",
    "    'BUB': 'Partner',\n",
    "    'DD': 'Bank Account',\n",
    "    'DT': 'Bank Account',\n",
    "    'FT': 'Bank Account',\n",
    "    'TUB': 'Partner'\n",
    "}\n",
    "\n",
    "data_train_main['agent'] = data_train_main.transaction_type.apply(lambda x: type_to_agent[x])"
   ]
  },
  {
   "cell_type": "code",
   "execution_count": 42,
   "metadata": {},
   "outputs": [
    {
     "data": {
      "text/html": [
       "<div>\n",
       "<style scoped>\n",
       "    .dataframe tbody tr th:only-of-type {\n",
       "        vertical-align: middle;\n",
       "    }\n",
       "\n",
       "    .dataframe tbody tr th {\n",
       "        vertical-align: top;\n",
       "    }\n",
       "\n",
       "    .dataframe thead th {\n",
       "        text-align: right;\n",
       "    }\n",
       "</style>\n",
       "<table border=\"1\" class=\"dataframe\">\n",
       "  <thead>\n",
       "    <tr style=\"text-align: right;\">\n",
       "      <th></th>\n",
       "      <th>user_id</th>\n",
       "      <th>transaction_date</th>\n",
       "      <th>transaction_type</th>\n",
       "      <th>mcc_group</th>\n",
       "      <th>amount_n26_currency</th>\n",
       "      <th>direction</th>\n",
       "      <th>agent</th>\n",
       "    </tr>\n",
       "  </thead>\n",
       "  <tbody>\n",
       "    <tr>\n",
       "      <th>526</th>\n",
       "      <td>bf84257bf1b24c4cd05bae3f5ab14b0f</td>\n",
       "      <td>2016-02-01</td>\n",
       "      <td>PT</td>\n",
       "      <td>4.0</td>\n",
       "      <td>15</td>\n",
       "      <td>Out</td>\n",
       "      <td>Card</td>\n",
       "    </tr>\n",
       "    <tr>\n",
       "      <th>528</th>\n",
       "      <td>86c37c519ed3516d079fc687c9357eb9</td>\n",
       "      <td>2016-02-01</td>\n",
       "      <td>PT</td>\n",
       "      <td>7.0</td>\n",
       "      <td>4</td>\n",
       "      <td>Out</td>\n",
       "      <td>Card</td>\n",
       "    </tr>\n",
       "    <tr>\n",
       "      <th>531</th>\n",
       "      <td>9fed9cf27088374646d08b2356783c25</td>\n",
       "      <td>2016-02-01</td>\n",
       "      <td>PT</td>\n",
       "      <td>2.0</td>\n",
       "      <td>6</td>\n",
       "      <td>Out</td>\n",
       "      <td>Card</td>\n",
       "    </tr>\n",
       "    <tr>\n",
       "      <th>532</th>\n",
       "      <td>9fed9cf27088374646d08b2356783c25</td>\n",
       "      <td>2016-02-01</td>\n",
       "      <td>PT</td>\n",
       "      <td>2.0</td>\n",
       "      <td>4</td>\n",
       "      <td>Out</td>\n",
       "      <td>Card</td>\n",
       "    </tr>\n",
       "    <tr>\n",
       "      <th>535</th>\n",
       "      <td>2d907dc31f7432c76d3700f9044fa562</td>\n",
       "      <td>2016-02-01</td>\n",
       "      <td>PT</td>\n",
       "      <td>8.0</td>\n",
       "      <td>17</td>\n",
       "      <td>Out</td>\n",
       "      <td>Card</td>\n",
       "    </tr>\n",
       "    <tr>\n",
       "      <th>...</th>\n",
       "      <td>...</td>\n",
       "      <td>...</td>\n",
       "      <td>...</td>\n",
       "      <td>...</td>\n",
       "      <td>...</td>\n",
       "      <td>...</td>\n",
       "      <td>...</td>\n",
       "    </tr>\n",
       "    <tr>\n",
       "      <th>408407</th>\n",
       "      <td>b18146b3ddb67fcf0b5b9029f217daa2</td>\n",
       "      <td>2016-07-31</td>\n",
       "      <td>PT</td>\n",
       "      <td>2.0</td>\n",
       "      <td>19</td>\n",
       "      <td>Out</td>\n",
       "      <td>Card</td>\n",
       "    </tr>\n",
       "    <tr>\n",
       "      <th>408408</th>\n",
       "      <td>e00e269b28ca0b3df5bcdacbeef586d4</td>\n",
       "      <td>2016-07-31</td>\n",
       "      <td>PT</td>\n",
       "      <td>1.0</td>\n",
       "      <td>13</td>\n",
       "      <td>Out</td>\n",
       "      <td>Card</td>\n",
       "    </tr>\n",
       "    <tr>\n",
       "      <th>408409</th>\n",
       "      <td>41470ebbb4b34601b1e14615005c6752</td>\n",
       "      <td>2016-07-31</td>\n",
       "      <td>PT</td>\n",
       "      <td>1.0</td>\n",
       "      <td>20</td>\n",
       "      <td>Out</td>\n",
       "      <td>Card</td>\n",
       "    </tr>\n",
       "    <tr>\n",
       "      <th>408410</th>\n",
       "      <td>d0f9d173fc2cbf14092ab878609c233d</td>\n",
       "      <td>2016-07-31</td>\n",
       "      <td>PT</td>\n",
       "      <td>6.0</td>\n",
       "      <td>72</td>\n",
       "      <td>Out</td>\n",
       "      <td>Card</td>\n",
       "    </tr>\n",
       "    <tr>\n",
       "      <th>408411</th>\n",
       "      <td>0cfc403777cb16b7b356e065b2d89bfb</td>\n",
       "      <td>2016-07-31</td>\n",
       "      <td>PT</td>\n",
       "      <td>17.0</td>\n",
       "      <td>6</td>\n",
       "      <td>Out</td>\n",
       "      <td>Card</td>\n",
       "    </tr>\n",
       "  </tbody>\n",
       "</table>\n",
       "<p>258324 rows × 7 columns</p>\n",
       "</div>"
      ],
      "text/plain": [
       "                                 user_id transaction_date transaction_type  \\\n",
       "526     bf84257bf1b24c4cd05bae3f5ab14b0f       2016-02-01               PT   \n",
       "528     86c37c519ed3516d079fc687c9357eb9       2016-02-01               PT   \n",
       "531     9fed9cf27088374646d08b2356783c25       2016-02-01               PT   \n",
       "532     9fed9cf27088374646d08b2356783c25       2016-02-01               PT   \n",
       "535     2d907dc31f7432c76d3700f9044fa562       2016-02-01               PT   \n",
       "...                                  ...              ...              ...   \n",
       "408407  b18146b3ddb67fcf0b5b9029f217daa2       2016-07-31               PT   \n",
       "408408  e00e269b28ca0b3df5bcdacbeef586d4       2016-07-31               PT   \n",
       "408409  41470ebbb4b34601b1e14615005c6752       2016-07-31               PT   \n",
       "408410  d0f9d173fc2cbf14092ab878609c233d       2016-07-31               PT   \n",
       "408411  0cfc403777cb16b7b356e065b2d89bfb       2016-07-31               PT   \n",
       "\n",
       "        mcc_group  amount_n26_currency direction agent  \n",
       "526           4.0                   15       Out  Card  \n",
       "528           7.0                    4       Out  Card  \n",
       "531           2.0                    6       Out  Card  \n",
       "532           2.0                    4       Out  Card  \n",
       "535           8.0                   17       Out  Card  \n",
       "...           ...                  ...       ...   ...  \n",
       "408407        2.0                   19       Out  Card  \n",
       "408408        1.0                   13       Out  Card  \n",
       "408409        1.0                   20       Out  Card  \n",
       "408410        6.0                   72       Out  Card  \n",
       "408411       17.0                    6       Out  Card  \n",
       "\n",
       "[258324 rows x 7 columns]"
      ]
     },
     "execution_count": 42,
     "metadata": {},
     "output_type": "execute_result"
    }
   ],
   "source": [
    "# A quick check on the data_train_main\n",
    "data_train_main[data_train_main.transaction_type == 'PT']"
   ]
  },
  {
   "cell_type": "markdown",
   "metadata": {},
   "source": [
    "====================================="
   ]
  },
  {
   "cell_type": "code",
   "execution_count": 43,
   "metadata": {},
   "outputs": [],
   "source": [
    "# extract day/month from data_train_main.transaction_date\n",
    "data_train_main['transaction_date'] = pd.to_datetime(data_train_main.transaction_date)\n",
    "data_train_main['day'] = data_train_main.transaction_date.dt.day\n",
    "data_train_main['month'] = data_train_main.transaction_date.dt.month"
   ]
  },
  {
   "cell_type": "markdown",
   "metadata": {},
   "source": [
    "### Filling in the missing values in mcc_group feature"
   ]
  },
  {
   "cell_type": "markdown",
   "metadata": {},
   "source": [
    "====================================="
   ]
  },
  {
   "cell_type": "markdown",
   "metadata": {},
   "source": [
    "![title](./img/na_fill.png)\n",
    "\n",
    "\n",
    "As shown above, we filled the NAs locally per user. Specifically, we take the ```mcc_group``` of a user and check for the most frequent transaction type and use this mode to replace any NA for such user. In the event there is no mode, we simply categorize this as miscellaneous (i.e. 16) since no modal value."
   ]
  },
  {
   "cell_type": "code",
   "execution_count": 44,
   "metadata": {},
   "outputs": [],
   "source": [
    "# Function to fill missing values with mode or miscellaneous\n",
    "def fill_missing_with_mode(df, group_col, target_col):\n",
    "    \n",
    "    def mode_function(x):\n",
    "        modes = x.mode()\n",
    "        if not modes.empty:\n",
    "            return modes[0]\n",
    "        else:\n",
    "            return 16 #miscellaneous\n",
    "    \n",
    "    df[target_col] = df.groupby(group_col)[target_col].transform(lambda x: x.fillna(mode_function(x)))\n",
    "    \n",
    "    return df\n",
    "\n",
    "\n",
    "data_train_main_filled = fill_missing_with_mode(data_train_main, 'user_id', 'mcc_group')\n"
   ]
  },
  {
   "cell_type": "code",
   "execution_count": 45,
   "metadata": {},
   "outputs": [
    {
     "data": {
      "text/plain": [
       "[0         False\n",
       " 1         False\n",
       " 2         False\n",
       " 3         False\n",
       " 4         False\n",
       "           ...  \n",
       " 408541    False\n",
       " 408542    False\n",
       " 408543    False\n",
       " 408544    False\n",
       " 408545    False\n",
       " Name: user_id, Length: 408546, dtype: bool]"
      ]
     },
     "execution_count": 45,
     "metadata": {},
     "output_type": "execute_result"
    }
   ],
   "source": [
    "# Testing the result for a user\n",
    "[data_train_main_filled['user_id']=='001f9baedaf3c8487c344d25b0eda9fc']"
   ]
  },
  {
   "cell_type": "code",
   "execution_count": 51,
   "metadata": {},
   "outputs": [
    {
     "data": {
      "text/plain": [
       "<Axes: xlabel='mcc_group'>"
      ]
     },
     "execution_count": 51,
     "metadata": {},
     "output_type": "execute_result"
    },
    {
     "data": {
      "image/png": "[encoded data removed]",
      "text/plain": [
       "<Figure size 1080x432 with 1 Axes>"
      ]
     },
     "metadata": {
      "needs_background": "light"
     },
     "output_type": "display_data"
    }
   ],
   "source": [
    "# Distribution of mcc_group before filling NAs\n",
    "\n",
    "plt.figure(figsize=(15, 6))\n",
    "data_train.mcc_group.value_counts().plot(kind = 'bar')"
   ]
  },
  {
   "cell_type": "code",
   "execution_count": 53,
   "metadata": {},
   "outputs": [
    {
     "data": {
      "text/plain": [
       "mcc_group\n",
       "1.0     69807\n",
       "2.0     50586\n",
       "6.0     24672\n",
       "3.0     20875\n",
       "8.0     20610\n",
       "4.0     20194\n",
       "17.0    11466\n",
       "16.0    11150\n",
       "7.0     10888\n",
       "10.0     7282\n",
       "11.0     5803\n",
       "5.0      3337\n",
       "12.0      873\n",
       "15.0      329\n",
       "9.0       287\n",
       "13.0      141\n",
       "14.0       24\n",
       "Name: count, dtype: int64"
      ]
     },
     "execution_count": 53,
     "metadata": {},
     "output_type": "execute_result"
    }
   ],
   "source": [
    "data_train.mcc_group.value_counts()"
   ]
  },
  {
   "cell_type": "code",
   "execution_count": 52,
   "metadata": {},
   "outputs": [
    {
     "data": {
      "text/plain": [
       "mcc_group\n",
       "1.0     135865\n",
       "2.0      86694\n",
       "6.0      34601\n",
       "8.0      29771\n",
       "3.0      26494\n",
       "4.0      25830\n",
       "16.0     21238\n",
       "17.0     13472\n",
       "7.0      13094\n",
       "10.0      9543\n",
       "11.0      6034\n",
       "5.0       3722\n",
       "12.0      1355\n",
       "15.0       345\n",
       "9.0        295\n",
       "13.0       163\n",
       "14.0        30\n",
       "Name: count, dtype: int64"
      ]
     },
     "execution_count": 52,
     "metadata": {},
     "output_type": "execute_result"
    }
   ],
   "source": [
    "data_train_main_filled.mcc_group.value_counts()"
   ]
  },
  {
   "cell_type": "code",
   "execution_count": 47,
   "metadata": {},
   "outputs": [
    {
     "data": {
      "text/plain": [
       "<Axes: xlabel='mcc_group'>"
      ]
     },
     "execution_count": 47,
     "metadata": {},
     "output_type": "execute_result"
    },
    {
     "data": {
      "image/png": "[encoded data removed]",
      "text/plain": [
       "<Figure size 1080x432 with 1 Axes>"
      ]
     },
     "metadata": {
      "needs_background": "light"
     },
     "output_type": "display_data"
    }
   ],
   "source": [
    "# Distribution of mcc_group after fill\n",
    "\n",
    "plt.figure(figsize=(15, 6))\n",
    "data_train_main_filled.mcc_group.value_counts().plot(kind = 'bar')"
   ]
  },
  {
   "cell_type": "markdown",
   "metadata": {},
   "source": [
    "# checking distribution of response feature"
   ]
  },
  {
   "cell_type": "code",
   "execution_count": 26,
   "metadata": {},
   "outputs": [
    {
     "data": {
      "text/plain": [
       "<Axes: xlabel='direction'>"
      ]
     },
     "execution_count": 26,
     "metadata": {},
     "output_type": "execute_result"
    },
    {
     "data": {
      "image/png": "[encoded data removed]",
      "text/plain": [
       "<Figure size 432x288 with 1 Axes>"
      ]
     },
     "metadata": {
      "needs_background": "light"
     },
     "output_type": "display_data"
    }
   ],
   "source": [
    "# Distribution of direction\n",
    "data_train_main_filled.direction.value_counts().plot(kind = 'bar')"
   ]
  },
  {
   "cell_type": "markdown",
   "metadata": {},
   "source": [
    "The plot shows that the target variable `direction` is imbalanced. With income accounting for 18% and expenses 82%. "
   ]
  },
  {
   "cell_type": "code",
   "execution_count": 27,
   "metadata": {},
   "outputs": [
    {
     "data": {
      "text/plain": [
       "direction\n",
       "Out    82.196647\n",
       "In     17.803353\n",
       "Name: proportion, dtype: float64"
      ]
     },
     "execution_count": 27,
     "metadata": {},
     "output_type": "execute_result"
    }
   ],
   "source": [
    "#percentage distribution of direction\n",
    "data_train_main_filled.direction.value_counts(normalize=True) * 100"
   ]
  },
  {
   "cell_type": "markdown",
   "metadata": {},
   "source": [
    "## Feature engineering"
   ]
  },
  {
   "cell_type": "code",
   "execution_count": null,
   "metadata": {},
   "outputs": [],
   "source": [
    "# encoding categorical columns\n",
    "\n",
    "categorical_cols = data_train_main_filled.select_dtypes(include = 'object').columns\n",
    "print(f'categorical_cols:{categorical_cols}')\n",
    "for col in categorical_cols[1:]:\n",
    "    data_train_main_filled[col] = LabelEncoder().fit_transform(data_train_main_filled[col])\n",
    "\n",
    "\n",
    "\n",
    "# set mcc_group into integer\n",
    "\n",
    "data_train_main_filled['mcc_group'] = data_train_main_filled['mcc_group'].astype(int)"
   ]
  },
  {
   "cell_type": "code",
   "execution_count": null,
   "metadata": {},
   "outputs": [],
   "source": [
    "# A view of the updated data\n",
    "data_train_main_filled.head()"
   ]
  },
  {
   "cell_type": "code",
   "execution_count": 37,
   "metadata": {},
   "outputs": [],
   "source": [
    "# Dropping transaction_date, transaction_type, user_id\n",
    "data_train_main_filled.drop(['user_id', 'transaction_date', 'transaction_type'], axis=1, inplace=True)\n"
   ]
  },
  {
   "cell_type": "code",
   "execution_count": null,
   "metadata": {},
   "outputs": [],
   "source": [
    "# A quick correlation check\n",
    "data_train_main_filled.corr()"
   ]
  },
  {
   "cell_type": "markdown",
   "metadata": {},
   "source": [
    "## splitting"
   ]
  },
  {
   "cell_type": "code",
   "execution_count": 41,
   "metadata": {},
   "outputs": [],
   "source": [
    "'''\n",
    "split data\n",
    "'''\n",
    "X = data_train_main_filled.drop('direction', axis=1)\n",
    "y = data_train_main_filled['direction']\n",
    "\n",
    "X_train, X_temp, y_train, y_temp = train_test_split(X, y, test_size=0.2, random_state=42, stratify=y)\n",
    "X_val, X_test, y_val, y_test = train_test_split(X_temp, y_temp, test_size=0.5, random_state=42, stratify=y_temp)\n",
    "\n",
    "\n",
    "scaler = StandardScaler()\n",
    "X_train = scaler.fit_transform(X_train)\n",
    "X_val = scaler.transform(X_val)\n",
    "X_test = scaler.transform(X_test)\n"
   ]
  },
  {
   "cell_type": "code",
   "execution_count": null,
   "metadata": {},
   "outputs": [],
   "source": [
    "# Checking the proportion of the classes in the train, validation and test sets\n",
    "y_train.value_counts(normalize=True) * 100, y_val.value_counts(normalize=True) * 100, y_test.value_counts(normalize=True) * 100"
   ]
  },
  {
   "cell_type": "code",
   "execution_count": 45,
   "metadata": {},
   "outputs": [],
   "source": [
    "'''\n",
    "grids search on RF\n",
    "'''\n",
    "\n",
    "run_grid_search = False\n",
    "if run_grid_search:\n",
    "    \n",
    "    param_grid = {\n",
    "        'class_weight': [{0: 1.3, 1: 1.0},{0: 1.4, 1: 1.0}, {0: 1.45, 1: 1.0}, {0: 1.5, 1: 1.0}],\n",
    "        # 'class_weight': [{0: 2.8, 1: 0.6}, {0: 2.4, 1: 0.6},  {0: 2.2, 1: 0.6}],\n",
    "        'n_estimators': [50, 100],\n",
    "        'max_depth': [None, 10, 20],\n",
    "    }\n",
    "    \n",
    "\n",
    "    grid_search = GridSearchCV(RandomForestClassifier(random_state=42), param_grid, scoring='roc_auc', cv=3, verbose=3)\n",
    "   \n",
    "    grid_search.fit(X_train, y_train)\n",
    "    best_params = grid_search.best_params_;best_params\n",
    "    print(\"Best parameters:\", best_params)"
   ]
  },
  {
   "cell_type": "markdown",
   "metadata": {},
   "source": [
    "# Methods\n",
    "\n",
    "![title](../img/lr.png)\n",
    "## 1. LR (logistic regression): \n",
    "we use the LR methods as baseline and in addition, we add penalties to the cost function to balance the target variable.\n",
    "\n",
    "## 2. RF (random forest)\n",
    "\n",
    "![title](../img/rfTree.png)\n",
    "`(image source: https://upload.wikimedia.org/wikipedia/commons/4/4e/Random_forest_explain.png)`\n",
    "\n",
    "In classification problem, the RF method works by constructing multiple decision trees during training and returns the majority vote from these trees.\n",
    "\n",
    "baseline RF assumes equal importance for all classes, and the weighted approach introduces class weights to modify the splitting criteria of the labels to prioritize minority class.\n",
    "\n",
    "## 3. MLP (multilayer perceptron)\n",
    "mlp is a feedforward neural network consisting of fully connected neurons with nonlinear activation functions \n",
    "\n",
    "\n",
    "\n"
   ]
  },
  {
   "cell_type": "markdown",
   "metadata": {},
   "source": [
    "paramter:\n",
    "\n",
    "- `class_weight`: in the weighted RF, changes to `class_weight` will modify the outcome of the model. after some experiments, the class weight is set as `class_weight={0:1.45, 1:1.0}`\n",
    "- `max_depth`: the maximum depth of the tree\n",
    "- `n_estimator`: higher (lower) `n_estimator` could increase (reduce) model accuracy\n",
    "- weights on LR: to tune the model sensitivity to imbalanced response feature, use `weight_positive=1.` and  `weight_negative=1.45`. these values are thesame as in `class_weight`\n",
    "- `hidden_layer_sizes`: The ith element represents the number of neurons in the ith hidden layer.\n",
    "- `activation`: activation function for the hidden layer. other options are {identity, logistic, tanh}.\n",
    "- `solver`: the solver for weight optimization. other options to try are `lbfgs` and `sgd`."
   ]
  },
  {
   "cell_type": "code",
   "execution_count": null,
   "metadata": {},
   "outputs": [],
   "source": [
    "'''\n",
    "train model\n",
    "'''\n",
    "\n",
    "n_estimator = 100\n",
    "seedS = 42\n",
    "lr = 0.01\n",
    "max_iter = 1000\n",
    "max_depth = 15\n",
    "\n",
    "models = {\n",
    "    \"Baseline RF\": RandomForestClassifier(n_estimators=n_estimator, random_state=seedS),\n",
    "    \"Weighted RF\": RandomForestClassifier(n_estimators=n_estimator, class_weight={0:1.45, 1:1.0}, max_depth=max_depth, random_state=seedS),\n",
    "    \"Baseline LR\": LogisticRegressionModels(model_type=\"baseline\", learning_rate=lr, max_iter=max_iter),\n",
    "    \"cost LR\": LogisticRegressionModels(model_type=\"cost_sensitive\", weight_positive=1., weight_negative=1.45, learning_rate=lr, max_iter=max_iter),\n",
    "    \"MLP\": MLPClassifier(hidden_layer_sizes=(50,), activation='relu', solver='adam', verbose=False,learning_rate_init=lr, max_iter=max_iter, random_state=seedS),\n",
    "} #relu\n",
    "\n",
    "results = {}\n",
    "for name, model in models.items():\n",
    "    print(f\"Training {name}\")\n",
    "    if model.__class__.__name__ in ['RandomForestClassifier', 'MLPClassifier']:\n",
    "        model.fit(X_train, y_train)\n",
    "    elif model.__class__.__name__ == 'LogisticRegressionModels':\n",
    "        model.fit(X_train, y_train, X_val, y_val)\n",
    "    else:\n",
    "        raise ValueError(\"Model not supported\")\n",
    "        \n",
    "    show_curves = False\n",
    "    if show_curves:\n",
    "        if isinstance(model, (LogisticRegressionModels)):  \n",
    "            plt.figure(figsize=(10, 6))\n",
    "            plt.plot(model.train_losses, label='Training Loss')\n",
    "            plt.plot(model.val_losses, label='Validation Loss')\n",
    "            plt.xlabel('Iteration')\n",
    "            plt.ylabel('Loss')\n",
    "            plt.title(f'{name} Training and Validation Loss Curves')\n",
    "            plt.legend()\n",
    "            plt.grid()\n",
    "            plt.show()\n",
    "\n",
    "    # pred\n",
    "    y_pred_train = model.predict(X_train)\n",
    "    y_pred_val = model.predict(X_val)\n",
    "    y_pred_test = model.predict(X_test)\n",
    "    \n",
    "\n",
    "    # metric\n",
    "    train_accuracy = accuracy_score(y_train, y_pred_train)\n",
    "    val_accuracy = accuracy_score(y_val, y_pred_val)\n",
    "    test_accuracy = accuracy_score(y_test, y_pred_test)\n",
    "    f1 = f1_score(y_test, y_pred_test)\n",
    "    \n",
    "    if model.__class__.__name__ in ['RandomForestClassifier', 'MLPClassifier']:\n",
    "        y_pred_proba_test = model.predict_proba(X_test)[:, 1]\n",
    "        auc = roc_auc_score(y_test, y_pred_proba_test)\n",
    "    elif model.__class__.__name__ == 'LogisticRegressionModels':\n",
    "        y_pred_proba_test = model.predict_proba(X_test)\n",
    "        auc = roc_auc_score(y_test, y_pred_proba_test)\n",
    "\n",
    "    # Save model\n",
    "     # joblib.dump(model, f\"models/{name.replace(' ', '_')}_model.pkl\")\n",
    "    \n",
    "    results[name] = {\n",
    "        \"Train Accuracy\": train_accuracy,\n",
    "        \"Val Accuracy\": val_accuracy,\n",
    "        \"Test Accuracy\": test_accuracy,\n",
    "        \"AUC\": auc,\n",
    "        \"f1\": f1,\n",
    "        \"Model\": model,\n",
    "        }\n",
    "    print(f\"--- {name} saved ---\")\n",
    "    print(f\"Train Accuracy: {train_accuracy:.2f}\")\n",
    "    print(f\"Val Accuracy: {val_accuracy:.2f}\")\n",
    "    print(f\"Test Accuracy: {test_accuracy:.2f}\")"
   ]
  },
  {
   "cell_type": "code",
   "execution_count": null,
   "metadata": {},
   "outputs": [],
   "source": [
    "#Check test accuracy\n",
    "methods = list(results.keys())\n",
    "test_accuracies_ = [metrics['Test Accuracy'] for metrics in results.values()]\n",
    "\n",
    "list(zip(methods,test_accuracies_))"
   ]
  },
  {
   "cell_type": "code",
   "execution_count": null,
   "metadata": {},
   "outputs": [],
   "source": [
    "'''\n",
    "plot accuraries\n",
    "'''\n",
    "\n",
    "labels = list(results.keys())\n",
    "train_accuracies = [metrics['Train Accuracy'] for metrics in results.values()]\n",
    "val_accuracies = [metrics['Val Accuracy'] for metrics in results.values()]\n",
    "test_accuracies = [metrics['Test Accuracy'] for metrics in results.values()]\n",
    "\n",
    "bar_width = 0.2\n",
    "indices = np.arange(len(labels))\n",
    "figsize = (16, 8)\n",
    "plotter.plot_barplot( indices, train_accuracies, val_accuracies, test_accuracies, labels, bar_width=bar_width, figsize=figsize)\n"
   ]
  },
  {
   "cell_type": "code",
   "execution_count": null,
   "metadata": {},
   "outputs": [],
   "source": [
    "# Check the F1 score\n",
    "f1_ = [metrics['f1'] for metrics in results.values()]\n",
    "\n",
    "list(zip(methods,f1_))"
   ]
  },
  {
   "cell_type": "code",
   "execution_count": null,
   "metadata": {},
   "outputs": [],
   "source": [
    "'''\n",
    "plot AUC curves\n",
    "'''\n",
    "from sklearn.metrics import roc_curve\n",
    "\n",
    "def plot_auc_curves(results, X_test, y_test, figsize=(10, 6)):\n",
    "    \"\"\"\n",
    "    ROC curves here.\n",
    "    \"\"\"\n",
    "    plt.figure(figsize=figsize)\n",
    "    for name, metrics in results.items():\n",
    "        model = metrics[\"Model\"]\n",
    "        if model.__class__.__name__ in ['RandomForestClassifier', 'MLPClassifier']:\n",
    "            y_pred_proba_test = model.predict_proba(X_test)[:, 1]\n",
    "            fpr, tpr, _ = roc_curve(y_test, y_pred_proba_test)\n",
    "        elif model.__class__.__name__ == 'LogisticRegressionModels':\n",
    "            y_pred_proba_test = model.predict_proba(X_test)\n",
    "            fpr, tpr, _ = roc_curve(y_test, y_pred_proba_test)\n",
    "        else:\n",
    "            continue \n",
    "        \n",
    "        plt.plot(fpr, tpr, label=f'{name} (AUC = {metrics[\"AUC\"]:.2f})')\n",
    "    plt.plot([0, 1], [0, 1], \"k--\", label=\"Random Guessing\")\n",
    "    plt.xlabel(\"False Positive Rate\")\n",
    "    plt.ylabel(\"True Positive Rate\")\n",
    "    plt.legend(loc=\"best\", fontsize=20)\n",
    "    plt.grid(axis=\"y\", linestyle=\"--\", alpha=0.7)\n",
    "    plt.show()\n",
    "\n",
    "figsize=(12, 8)\n",
    "plotter.plot_auc_curves(results, X_test, y_test, figsize=figsize)"
   ]
  },
  {
   "cell_type": "markdown",
   "metadata": {},
   "source": [
    "## Test case"
   ]
  },
  {
   "cell_type": "code",
   "execution_count": 11,
   "metadata": {},
   "outputs": [],
   "source": [
    "import importlib\n",
    "from preprocessing import load_and_preprocess\n",
    "import preprocessing2 #import load_and_preprocessT"
   ]
  },
  {
   "cell_type": "markdown",
   "metadata": {},
   "source": [
    "# lets compare `July_data` with `predict_df`"
   ]
  },
  {
   "cell_type": "code",
   "execution_count": null,
   "metadata": {},
   "outputs": [],
   "source": [
    "#Predicted Data\n",
    "output_csv_path = \"./result/predictions_all_models.csv\"\n",
    "prediction_df_ = pd.read_csv(output_csv_path)\n",
    "prediction_df_.head()"
   ]
  },
  {
   "cell_type": "code",
   "execution_count": null,
   "metadata": {},
   "outputs": [],
   "source": [
    "importlib.reload(preprocessing2)"
   ]
  },
  {
   "cell_type": "code",
   "execution_count": null,
   "metadata": {},
   "outputs": [],
   "source": [
    "# July data\n",
    "new_data_dir = \"../data/2016-09-19_79351_training_july.csv\" \n",
    "new_data = preprocessing2.load_and_preprocessT(new_data_dir, training=False)\n",
    "\n",
    "new_data.head(2)"
   ]
  },
  {
   "cell_type": "markdown",
   "metadata": {},
   "source": []
  }
 ],
 "metadata": {
  "kernelspec": {
   "display_name": "abdulGeneral",
   "language": "python",
   "name": "python3"
  },
  "language_info": {
   "codemirror_mode": {
    "name": "ipython",
    "version": 3
   },
   "file_extension": ".py",
   "mimetype": "text/x-python",
   "name": "python",
   "nbconvert_exporter": "python",
   "pygments_lexer": "ipython3",
   "version": "3.8.20"
  }
 },
 "nbformat": 4,
 "nbformat_minor": 4
}
