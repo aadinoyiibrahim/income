{
 "cells": [
  {
   "cell_type": "markdown",
   "metadata": {},
   "source": [
    "# Example"
   ]
  },
  {
   "cell_type": "code",
   "execution_count": 1,
   "metadata": {},
   "outputs": [],
   "source": [
    "# library\n",
    "import numpy as np\n",
    "import matplotlib.pyplot as plt\n",
    "import pandas as pd\n",
    "from sklearn.model_selection import train_test_split, GridSearchCV\n",
    "from sklearn.preprocessing import StandardScaler, LabelEncoder\n",
    "from sklearn.ensemble import RandomForestClassifier\n",
    "from sklearn.metrics import accuracy_score, roc_auc_score, f1_score\n",
    "from sklearn.neural_network import MLPClassifier\n",
    "import joblib\n",
    "import os\n",
    "\n",
    "# custom modules\n",
    "from model import LogisticRegressionModels\n",
    "import plotter\n",
    "from preprocessing import load_and_preprocess\n"
   ]
  },
  {
   "cell_type": "code",
   "execution_count": 2,
   "metadata": {},
   "outputs": [],
   "source": [
    "'''\n",
    "data\n",
    "'''\n",
    "# data_train = pd.read_csv('./data/2016-09-19_79351_training.csv')\n",
    "data_train = pd.read_csv(\"./data/2016-09-19_79351_training_feb_june.csv\")\n",
    "data_mcc_group = pd.read_csv('./data/mcc_group_definition.csv')\n",
    "data_transaction = pd.read_csv('./data/transaction_types.csv')\n"
   ]
  },
  {
   "cell_type": "code",
   "execution_count": 3,
   "metadata": {},
   "outputs": [],
   "source": [
    "data_train_main = data_train.copy()"
   ]
  },
  {
   "cell_type": "code",
   "execution_count": 4,
   "metadata": {},
   "outputs": [
    {
     "data": {
      "text/html": [
       "<div>\n",
       "<style scoped>\n",
       "    .dataframe tbody tr th:only-of-type {\n",
       "        vertical-align: middle;\n",
       "    }\n",
       "\n",
       "    .dataframe tbody tr th {\n",
       "        vertical-align: top;\n",
       "    }\n",
       "\n",
       "    .dataframe thead th {\n",
       "        text-align: right;\n",
       "    }\n",
       "</style>\n",
       "<table border=\"1\" class=\"dataframe\">\n",
       "  <thead>\n",
       "    <tr style=\"text-align: right;\">\n",
       "      <th></th>\n",
       "      <th>user_id</th>\n",
       "      <th>transaction_date</th>\n",
       "      <th>transaction_type</th>\n",
       "      <th>mcc_group</th>\n",
       "      <th>amount_n26_currency</th>\n",
       "      <th>dataset_transaction</th>\n",
       "      <th>dataset_user</th>\n",
       "    </tr>\n",
       "  </thead>\n",
       "  <tbody>\n",
       "    <tr>\n",
       "      <th>0</th>\n",
       "      <td>a78884f5e76951188c1e719d4956773a</td>\n",
       "      <td>01.02.16</td>\n",
       "      <td>DT</td>\n",
       "      <td>NaN</td>\n",
       "      <td>350</td>\n",
       "      <td>training</td>\n",
       "      <td>training</td>\n",
       "    </tr>\n",
       "    <tr>\n",
       "      <th>1</th>\n",
       "      <td>b0333294fef6ff1299102a70ad46b126</td>\n",
       "      <td>01.02.16</td>\n",
       "      <td>DT</td>\n",
       "      <td>NaN</td>\n",
       "      <td>202</td>\n",
       "      <td>training</td>\n",
       "      <td>training</td>\n",
       "    </tr>\n",
       "    <tr>\n",
       "      <th>2</th>\n",
       "      <td>7b8d2a2780adae0cd0c248e92c1b28dc</td>\n",
       "      <td>01.02.16</td>\n",
       "      <td>DT</td>\n",
       "      <td>NaN</td>\n",
       "      <td>291</td>\n",
       "      <td>training</td>\n",
       "      <td>training</td>\n",
       "    </tr>\n",
       "    <tr>\n",
       "      <th>3</th>\n",
       "      <td>cc4abaa500f7db4390ae3f02bd36d805</td>\n",
       "      <td>01.02.16</td>\n",
       "      <td>DT</td>\n",
       "      <td>NaN</td>\n",
       "      <td>214</td>\n",
       "      <td>training</td>\n",
       "      <td>training</td>\n",
       "    </tr>\n",
       "    <tr>\n",
       "      <th>4</th>\n",
       "      <td>49b99d1d5ba028566639e8b3eb7c055b</td>\n",
       "      <td>01.02.16</td>\n",
       "      <td>DT</td>\n",
       "      <td>NaN</td>\n",
       "      <td>272</td>\n",
       "      <td>training</td>\n",
       "      <td>training</td>\n",
       "    </tr>\n",
       "  </tbody>\n",
       "</table>\n",
       "</div>"
      ],
      "text/plain": [
       "                            user_id transaction_date transaction_type  \\\n",
       "0  a78884f5e76951188c1e719d4956773a         01.02.16               DT   \n",
       "1  b0333294fef6ff1299102a70ad46b126         01.02.16               DT   \n",
       "2  7b8d2a2780adae0cd0c248e92c1b28dc         01.02.16               DT   \n",
       "3  cc4abaa500f7db4390ae3f02bd36d805         01.02.16               DT   \n",
       "4  49b99d1d5ba028566639e8b3eb7c055b         01.02.16               DT   \n",
       "\n",
       "   mcc_group  amount_n26_currency dataset_transaction dataset_user  \n",
       "0        NaN                  350            training     training  \n",
       "1        NaN                  202            training     training  \n",
       "2        NaN                  291            training     training  \n",
       "3        NaN                  214            training     training  \n",
       "4        NaN                  272            training     training  "
      ]
     },
     "execution_count": 4,
     "metadata": {},
     "output_type": "execute_result"
    }
   ],
   "source": [
    "data_train_main.head()"
   ]
  },
  {
   "cell_type": "code",
   "execution_count": 5,
   "metadata": {},
   "outputs": [
    {
     "data": {
      "text/plain": [
       "(array(['training'], dtype=object), array(['training'], dtype=object))"
      ]
     },
     "execution_count": 5,
     "metadata": {},
     "output_type": "execute_result"
    }
   ],
   "source": [
    "data_train_main.dataset_transaction.unique(), data_train_main.dataset_user.unique()"
   ]
  },
  {
   "cell_type": "code",
   "execution_count": 6,
   "metadata": {},
   "outputs": [
    {
     "name": "stdout",
     "output_type": "stream",
     "text": [
      "<class 'pandas.core.frame.DataFrame'>\n",
      "RangeIndex: 337560 entries, 0 to 337559\n",
      "Data columns (total 7 columns):\n",
      " #   Column               Non-Null Count   Dtype  \n",
      "---  ------               --------------   -----  \n",
      " 0   user_id              337560 non-null  object \n",
      " 1   transaction_date     337560 non-null  object \n",
      " 2   transaction_type     337560 non-null  object \n",
      " 3   mcc_group            213233 non-null  float64\n",
      " 4   amount_n26_currency  337560 non-null  int64  \n",
      " 5   dataset_transaction  337560 non-null  object \n",
      " 6   dataset_user         337560 non-null  object \n",
      "dtypes: float64(1), int64(1), object(5)\n",
      "memory usage: 18.0+ MB\n"
     ]
    }
   ],
   "source": [
    "data_train_main.info()"
   ]
  },
  {
   "cell_type": "code",
   "execution_count": 7,
   "metadata": {},
   "outputs": [],
   "source": [
    "data_train_main = data_train_main.drop(['dataset_transaction', 'dataset_user'], axis=1)"
   ]
  },
  {
   "cell_type": "code",
   "execution_count": 8,
   "metadata": {},
   "outputs": [
    {
     "data": {
      "text/html": [
       "<div>\n",
       "<style scoped>\n",
       "    .dataframe tbody tr th:only-of-type {\n",
       "        vertical-align: middle;\n",
       "    }\n",
       "\n",
       "    .dataframe tbody tr th {\n",
       "        vertical-align: top;\n",
       "    }\n",
       "\n",
       "    .dataframe thead th {\n",
       "        text-align: right;\n",
       "    }\n",
       "</style>\n",
       "<table border=\"1\" class=\"dataframe\">\n",
       "  <thead>\n",
       "    <tr style=\"text-align: right;\">\n",
       "      <th></th>\n",
       "      <th>user_id</th>\n",
       "      <th>transaction_date</th>\n",
       "      <th>transaction_type</th>\n",
       "      <th>mcc_group</th>\n",
       "      <th>amount_n26_currency</th>\n",
       "    </tr>\n",
       "  </thead>\n",
       "  <tbody>\n",
       "    <tr>\n",
       "      <th>0</th>\n",
       "      <td>a78884f5e76951188c1e719d4956773a</td>\n",
       "      <td>01.02.16</td>\n",
       "      <td>DT</td>\n",
       "      <td>NaN</td>\n",
       "      <td>350</td>\n",
       "    </tr>\n",
       "    <tr>\n",
       "      <th>1</th>\n",
       "      <td>b0333294fef6ff1299102a70ad46b126</td>\n",
       "      <td>01.02.16</td>\n",
       "      <td>DT</td>\n",
       "      <td>NaN</td>\n",
       "      <td>202</td>\n",
       "    </tr>\n",
       "  </tbody>\n",
       "</table>\n",
       "</div>"
      ],
      "text/plain": [
       "                            user_id transaction_date transaction_type  \\\n",
       "0  a78884f5e76951188c1e719d4956773a         01.02.16               DT   \n",
       "1  b0333294fef6ff1299102a70ad46b126         01.02.16               DT   \n",
       "\n",
       "   mcc_group  amount_n26_currency  \n",
       "0        NaN                  350  \n",
       "1        NaN                  202  "
      ]
     },
     "execution_count": 8,
     "metadata": {},
     "output_type": "execute_result"
    }
   ],
   "source": [
    "data_train_main.head(2)"
   ]
  },
  {
   "cell_type": "code",
   "execution_count": 9,
   "metadata": {},
   "outputs": [],
   "source": [
    "# data_transaction[data_transaction.direction == 'Out']\n",
    "\n",
    "# print(data_transaction.type)"
   ]
  },
  {
   "cell_type": "markdown",
   "metadata": {},
   "source": [
    "## Tasks\n",
    " - create ```direction``` (i.e. in/out) feature: the ```in``` and ```out``` represents the income and expenses, respectively. ```in``` denotes money coming into the user acccount and ```out``` denotes money going out of the user account.\n",
    "\n",
    " - creating month/day feature from the transaction date.\n",
    "\n",
    " - fill NAs in ```mcc_group``` with mode and miscellaneous. We will fill the NAs locally per user. Specifically, we will take the ```mcc_group``` of a user and check for the most frequent transaction type and use this mode to replace any NA for such user. In the event there is no mode, we will simply categorize this as miscellaneous (i.e. 16) since no modal value."
   ]
  },
  {
   "cell_type": "code",
   "execution_count": 10,
   "metadata": {},
   "outputs": [
    {
     "data": {
      "text/html": [
       "<div>\n",
       "<style scoped>\n",
       "    .dataframe tbody tr th:only-of-type {\n",
       "        vertical-align: middle;\n",
       "    }\n",
       "\n",
       "    .dataframe tbody tr th {\n",
       "        vertical-align: top;\n",
       "    }\n",
       "\n",
       "    .dataframe thead th {\n",
       "        text-align: right;\n",
       "    }\n",
       "</style>\n",
       "<table border=\"1\" class=\"dataframe\">\n",
       "  <thead>\n",
       "    <tr style=\"text-align: right;\">\n",
       "      <th></th>\n",
       "      <th>type</th>\n",
       "      <th>explanation</th>\n",
       "      <th>direction</th>\n",
       "      <th>agent</th>\n",
       "    </tr>\n",
       "  </thead>\n",
       "  <tbody>\n",
       "    <tr>\n",
       "      <th>0</th>\n",
       "      <td>BBU</td>\n",
       "      <td>Cash26 deposit</td>\n",
       "      <td>In</td>\n",
       "      <td>Partner</td>\n",
       "    </tr>\n",
       "    <tr>\n",
       "      <th>1</th>\n",
       "      <td>CT</td>\n",
       "      <td>Credit Transfer</td>\n",
       "      <td>In</td>\n",
       "      <td>Bank Account</td>\n",
       "    </tr>\n",
       "    <tr>\n",
       "      <th>2</th>\n",
       "      <td>DR</td>\n",
       "      <td>Debit Reversal</td>\n",
       "      <td>In</td>\n",
       "      <td>Bank Account</td>\n",
       "    </tr>\n",
       "    <tr>\n",
       "      <th>3</th>\n",
       "      <td>BUB</td>\n",
       "      <td>Cash26 withdrawal</td>\n",
       "      <td>Out</td>\n",
       "      <td>Partner</td>\n",
       "    </tr>\n",
       "    <tr>\n",
       "      <th>4</th>\n",
       "      <td>DD</td>\n",
       "      <td>Direct Debit</td>\n",
       "      <td>Out</td>\n",
       "      <td>Bank Account</td>\n",
       "    </tr>\n",
       "    <tr>\n",
       "      <th>5</th>\n",
       "      <td>DT</td>\n",
       "      <td>Debit Transfer</td>\n",
       "      <td>Out</td>\n",
       "      <td>Bank Account</td>\n",
       "    </tr>\n",
       "    <tr>\n",
       "      <th>6</th>\n",
       "      <td>FT</td>\n",
       "      <td>MoneyBeam Transfer</td>\n",
       "      <td>Out</td>\n",
       "      <td>Bank Account</td>\n",
       "    </tr>\n",
       "    <tr>\n",
       "      <th>7</th>\n",
       "      <td>PT</td>\n",
       "      <td>Presentment</td>\n",
       "      <td>Out</td>\n",
       "      <td>Card</td>\n",
       "    </tr>\n",
       "    <tr>\n",
       "      <th>8</th>\n",
       "      <td>TUB</td>\n",
       "      <td>Transferwise Transaction</td>\n",
       "      <td>Out</td>\n",
       "      <td>Partner</td>\n",
       "    </tr>\n",
       "  </tbody>\n",
       "</table>\n",
       "</div>"
      ],
      "text/plain": [
       "  type               explanation direction         agent\n",
       "0  BBU            Cash26 deposit        In       Partner\n",
       "1   CT           Credit Transfer        In  Bank Account\n",
       "2   DR            Debit Reversal        In  Bank Account\n",
       "3  BUB         Cash26 withdrawal       Out       Partner\n",
       "4   DD              Direct Debit       Out  Bank Account\n",
       "5   DT            Debit Transfer       Out  Bank Account\n",
       "6   FT        MoneyBeam Transfer       Out  Bank Account\n",
       "7   PT               Presentment       Out          Card\n",
       "8  TUB  Transferwise Transaction       Out       Partner"
      ]
     },
     "execution_count": 10,
     "metadata": {},
     "output_type": "execute_result"
    }
   ],
   "source": [
    "'''\n",
    "filtered data_transaction based in transaction_type\n",
    "'''\n",
    "\n",
    "# filtering data_transaction.type\n",
    "\n",
    "# data_train_main.user_id.nunique()\n",
    "selected_types = list(data_train_main.transaction_type.unique()); selected_types\n",
    "data_transaction_filtered = data_transaction[data_transaction.type.isin(selected_types)]\n",
    "\n",
    "data_transaction_filtered.reset_index(drop = True, inplace = True); data_transaction_filtered"
   ]
  },
  {
   "cell_type": "code",
   "execution_count": 11,
   "metadata": {},
   "outputs": [
    {
     "data": {
      "text/plain": [
       "0    BBU\n",
       "1     CT\n",
       "2     DR\n",
       "Name: type, dtype: object"
      ]
     },
     "execution_count": 11,
     "metadata": {},
     "output_type": "execute_result"
    }
   ],
   "source": [
    "data_transaction_filtered[data_transaction_filtered.direction == 'In'].type"
   ]
  },
  {
   "cell_type": "code",
   "execution_count": 12,
   "metadata": {},
   "outputs": [
    {
     "data": {
      "text/plain": [
       "3    BUB\n",
       "4     DD\n",
       "5     DT\n",
       "6     FT\n",
       "7     PT\n",
       "8    TUB\n",
       "Name: type, dtype: object"
      ]
     },
     "execution_count": 12,
     "metadata": {},
     "output_type": "execute_result"
    }
   ],
   "source": [
    "data_transaction_filtered[data_transaction_filtered.direction == 'Out'].type"
   ]
  },
  {
   "cell_type": "code",
   "execution_count": 13,
   "metadata": {},
   "outputs": [
    {
     "data": {
      "text/plain": [
       "(['BBU', 'CT', 'DR'], ['BUB', 'DD', 'DT', 'FT', 'PT', 'TUB'])"
      ]
     },
     "execution_count": 13,
     "metadata": {},
     "output_type": "execute_result"
    }
   ],
   "source": [
    "type_in = data_transaction_filtered[data_transaction_filtered.direction == 'In'].type\n",
    "type_out = data_transaction_filtered[data_transaction_filtered.direction == 'Out'].type\n",
    "type_in, type_out = list(type_in), list(type_out); \n",
    "type_in, type_out"
   ]
  },
  {
   "cell_type": "code",
   "execution_count": 14,
   "metadata": {},
   "outputs": [
    {
     "data": {
      "text/html": [
       "<div>\n",
       "<style scoped>\n",
       "    .dataframe tbody tr th:only-of-type {\n",
       "        vertical-align: middle;\n",
       "    }\n",
       "\n",
       "    .dataframe tbody tr th {\n",
       "        vertical-align: top;\n",
       "    }\n",
       "\n",
       "    .dataframe thead th {\n",
       "        text-align: right;\n",
       "    }\n",
       "</style>\n",
       "<table border=\"1\" class=\"dataframe\">\n",
       "  <thead>\n",
       "    <tr style=\"text-align: right;\">\n",
       "      <th></th>\n",
       "      <th>user_id</th>\n",
       "      <th>transaction_date</th>\n",
       "      <th>transaction_type</th>\n",
       "      <th>mcc_group</th>\n",
       "      <th>amount_n26_currency</th>\n",
       "    </tr>\n",
       "  </thead>\n",
       "  <tbody>\n",
       "    <tr>\n",
       "      <th>0</th>\n",
       "      <td>a78884f5e76951188c1e719d4956773a</td>\n",
       "      <td>01.02.16</td>\n",
       "      <td>DT</td>\n",
       "      <td>NaN</td>\n",
       "      <td>350</td>\n",
       "    </tr>\n",
       "    <tr>\n",
       "      <th>1</th>\n",
       "      <td>b0333294fef6ff1299102a70ad46b126</td>\n",
       "      <td>01.02.16</td>\n",
       "      <td>DT</td>\n",
       "      <td>NaN</td>\n",
       "      <td>202</td>\n",
       "    </tr>\n",
       "    <tr>\n",
       "      <th>2</th>\n",
       "      <td>7b8d2a2780adae0cd0c248e92c1b28dc</td>\n",
       "      <td>01.02.16</td>\n",
       "      <td>DT</td>\n",
       "      <td>NaN</td>\n",
       "      <td>291</td>\n",
       "    </tr>\n",
       "    <tr>\n",
       "      <th>3</th>\n",
       "      <td>cc4abaa500f7db4390ae3f02bd36d805</td>\n",
       "      <td>01.02.16</td>\n",
       "      <td>DT</td>\n",
       "      <td>NaN</td>\n",
       "      <td>214</td>\n",
       "    </tr>\n",
       "    <tr>\n",
       "      <th>4</th>\n",
       "      <td>49b99d1d5ba028566639e8b3eb7c055b</td>\n",
       "      <td>01.02.16</td>\n",
       "      <td>DT</td>\n",
       "      <td>NaN</td>\n",
       "      <td>272</td>\n",
       "    </tr>\n",
       "  </tbody>\n",
       "</table>\n",
       "</div>"
      ],
      "text/plain": [
       "                            user_id transaction_date transaction_type  \\\n",
       "0  a78884f5e76951188c1e719d4956773a         01.02.16               DT   \n",
       "1  b0333294fef6ff1299102a70ad46b126         01.02.16               DT   \n",
       "2  7b8d2a2780adae0cd0c248e92c1b28dc         01.02.16               DT   \n",
       "3  cc4abaa500f7db4390ae3f02bd36d805         01.02.16               DT   \n",
       "4  49b99d1d5ba028566639e8b3eb7c055b         01.02.16               DT   \n",
       "\n",
       "   mcc_group  amount_n26_currency  \n",
       "0        NaN                  350  \n",
       "1        NaN                  202  \n",
       "2        NaN                  291  \n",
       "3        NaN                  214  \n",
       "4        NaN                  272  "
      ]
     },
     "execution_count": 14,
     "metadata": {},
     "output_type": "execute_result"
    }
   ],
   "source": [
    "data_train_main.head()"
   ]
  },
  {
   "cell_type": "code",
   "execution_count": 15,
   "metadata": {},
   "outputs": [],
   "source": [
    "## adding in/out feature to data_train_main\n",
    "\n",
    "data_train_main['direction'] = data_train_main.transaction_type.apply(lambda x: 'In' if x in type_in else 'Out')"
   ]
  },
  {
   "cell_type": "code",
   "execution_count": 16,
   "metadata": {},
   "outputs": [],
   "source": [
    "# mapping\n",
    "\n",
    "type_to_agent = {\n",
    "    'BBU': 'Partner',\n",
    "    'CT': 'Bank Account',\n",
    "    'DR': 'Bank Account',\n",
    "    'PF': 'Card',\n",
    "    'PT': 'Card',\n",
    "    'BUB': 'Partner',\n",
    "    'DD': 'Bank Account',\n",
    "    'DT': 'Bank Account',\n",
    "    'FT': 'Bank Account',\n",
    "    'TUB': 'Partner'\n",
    "}\n",
    "\n",
    "data_train_main['agent'] = data_train_main.transaction_type.apply(lambda x: type_to_agent[x])"
   ]
  },
  {
   "cell_type": "code",
   "execution_count": 17,
   "metadata": {},
   "outputs": [
    {
     "data": {
      "text/html": [
       "<div>\n",
       "<style scoped>\n",
       "    .dataframe tbody tr th:only-of-type {\n",
       "        vertical-align: middle;\n",
       "    }\n",
       "\n",
       "    .dataframe tbody tr th {\n",
       "        vertical-align: top;\n",
       "    }\n",
       "\n",
       "    .dataframe thead th {\n",
       "        text-align: right;\n",
       "    }\n",
       "</style>\n",
       "<table border=\"1\" class=\"dataframe\">\n",
       "  <thead>\n",
       "    <tr style=\"text-align: right;\">\n",
       "      <th></th>\n",
       "      <th>user_id</th>\n",
       "      <th>transaction_date</th>\n",
       "      <th>transaction_type</th>\n",
       "      <th>mcc_group</th>\n",
       "      <th>amount_n26_currency</th>\n",
       "      <th>direction</th>\n",
       "      <th>agent</th>\n",
       "    </tr>\n",
       "  </thead>\n",
       "  <tbody>\n",
       "    <tr>\n",
       "      <th>526</th>\n",
       "      <td>bf84257bf1b24c4cd05bae3f5ab14b0f</td>\n",
       "      <td>01.02.16</td>\n",
       "      <td>PT</td>\n",
       "      <td>4.0</td>\n",
       "      <td>15</td>\n",
       "      <td>Out</td>\n",
       "      <td>Card</td>\n",
       "    </tr>\n",
       "    <tr>\n",
       "      <th>528</th>\n",
       "      <td>86c37c519ed3516d079fc687c9357eb9</td>\n",
       "      <td>01.02.16</td>\n",
       "      <td>PT</td>\n",
       "      <td>7.0</td>\n",
       "      <td>4</td>\n",
       "      <td>Out</td>\n",
       "      <td>Card</td>\n",
       "    </tr>\n",
       "    <tr>\n",
       "      <th>531</th>\n",
       "      <td>9fed9cf27088374646d08b2356783c25</td>\n",
       "      <td>01.02.16</td>\n",
       "      <td>PT</td>\n",
       "      <td>2.0</td>\n",
       "      <td>6</td>\n",
       "      <td>Out</td>\n",
       "      <td>Card</td>\n",
       "    </tr>\n",
       "    <tr>\n",
       "      <th>532</th>\n",
       "      <td>9fed9cf27088374646d08b2356783c25</td>\n",
       "      <td>01.02.16</td>\n",
       "      <td>PT</td>\n",
       "      <td>2.0</td>\n",
       "      <td>4</td>\n",
       "      <td>Out</td>\n",
       "      <td>Card</td>\n",
       "    </tr>\n",
       "    <tr>\n",
       "      <th>535</th>\n",
       "      <td>2d907dc31f7432c76d3700f9044fa562</td>\n",
       "      <td>01.02.16</td>\n",
       "      <td>PT</td>\n",
       "      <td>8.0</td>\n",
       "      <td>17</td>\n",
       "      <td>Out</td>\n",
       "      <td>Card</td>\n",
       "    </tr>\n",
       "    <tr>\n",
       "      <th>...</th>\n",
       "      <td>...</td>\n",
       "      <td>...</td>\n",
       "      <td>...</td>\n",
       "      <td>...</td>\n",
       "      <td>...</td>\n",
       "      <td>...</td>\n",
       "      <td>...</td>\n",
       "    </tr>\n",
       "    <tr>\n",
       "      <th>337038</th>\n",
       "      <td>9d58b8d99ce87647e156c1c6b80f535c</td>\n",
       "      <td>30.06.16</td>\n",
       "      <td>PT</td>\n",
       "      <td>12.0</td>\n",
       "      <td>7</td>\n",
       "      <td>Out</td>\n",
       "      <td>Card</td>\n",
       "    </tr>\n",
       "    <tr>\n",
       "      <th>337039</th>\n",
       "      <td>a71164041a6a1210f0ee2b30c6b24148</td>\n",
       "      <td>30.06.16</td>\n",
       "      <td>PT</td>\n",
       "      <td>12.0</td>\n",
       "      <td>194</td>\n",
       "      <td>Out</td>\n",
       "      <td>Card</td>\n",
       "    </tr>\n",
       "    <tr>\n",
       "      <th>337040</th>\n",
       "      <td>58ca84e181b7a63c24f685f4c4e04bc5</td>\n",
       "      <td>30.06.16</td>\n",
       "      <td>PT</td>\n",
       "      <td>1.0</td>\n",
       "      <td>38</td>\n",
       "      <td>Out</td>\n",
       "      <td>Card</td>\n",
       "    </tr>\n",
       "    <tr>\n",
       "      <th>337041</th>\n",
       "      <td>2331ec0969b65cfaa3c8df16a3cd5ec7</td>\n",
       "      <td>30.06.16</td>\n",
       "      <td>PT</td>\n",
       "      <td>1.0</td>\n",
       "      <td>70</td>\n",
       "      <td>Out</td>\n",
       "      <td>Card</td>\n",
       "    </tr>\n",
       "    <tr>\n",
       "      <th>337042</th>\n",
       "      <td>5946ce5fad76feb0517cd6c2b480a70d</td>\n",
       "      <td>30.06.16</td>\n",
       "      <td>PT</td>\n",
       "      <td>6.0</td>\n",
       "      <td>12</td>\n",
       "      <td>Out</td>\n",
       "      <td>Card</td>\n",
       "    </tr>\n",
       "  </tbody>\n",
       "</table>\n",
       "<p>213233 rows × 7 columns</p>\n",
       "</div>"
      ],
      "text/plain": [
       "                                 user_id transaction_date transaction_type  \\\n",
       "526     bf84257bf1b24c4cd05bae3f5ab14b0f         01.02.16               PT   \n",
       "528     86c37c519ed3516d079fc687c9357eb9         01.02.16               PT   \n",
       "531     9fed9cf27088374646d08b2356783c25         01.02.16               PT   \n",
       "532     9fed9cf27088374646d08b2356783c25         01.02.16               PT   \n",
       "535     2d907dc31f7432c76d3700f9044fa562         01.02.16               PT   \n",
       "...                                  ...              ...              ...   \n",
       "337038  9d58b8d99ce87647e156c1c6b80f535c         30.06.16               PT   \n",
       "337039  a71164041a6a1210f0ee2b30c6b24148         30.06.16               PT   \n",
       "337040  58ca84e181b7a63c24f685f4c4e04bc5         30.06.16               PT   \n",
       "337041  2331ec0969b65cfaa3c8df16a3cd5ec7         30.06.16               PT   \n",
       "337042  5946ce5fad76feb0517cd6c2b480a70d         30.06.16               PT   \n",
       "\n",
       "        mcc_group  amount_n26_currency direction agent  \n",
       "526           4.0                   15       Out  Card  \n",
       "528           7.0                    4       Out  Card  \n",
       "531           2.0                    6       Out  Card  \n",
       "532           2.0                    4       Out  Card  \n",
       "535           8.0                   17       Out  Card  \n",
       "...           ...                  ...       ...   ...  \n",
       "337038       12.0                    7       Out  Card  \n",
       "337039       12.0                  194       Out  Card  \n",
       "337040        1.0                   38       Out  Card  \n",
       "337041        1.0                   70       Out  Card  \n",
       "337042        6.0                   12       Out  Card  \n",
       "\n",
       "[213233 rows x 7 columns]"
      ]
     },
     "execution_count": 17,
     "metadata": {},
     "output_type": "execute_result"
    }
   ],
   "source": [
    "data_train_main[data_train_main.transaction_type == 'PT']"
   ]
  },
  {
   "cell_type": "code",
   "execution_count": 18,
   "metadata": {},
   "outputs": [],
   "source": [
    "# df3 = data_train_main[data_train_main.direction == 'Out']\n",
    "# df3.transaction_type.unique()"
   ]
  },
  {
   "cell_type": "markdown",
   "metadata": {},
   "source": [
    "====================================="
   ]
  },
  {
   "cell_type": "code",
   "execution_count": 19,
   "metadata": {},
   "outputs": [
    {
     "name": "stderr",
     "output_type": "stream",
     "text": [
      "<ipython-input-19-c59819a4095d>:2: UserWarning: Could not infer format, so each element will be parsed individually, falling back to `dateutil`. To ensure parsing is consistent and as-expected, please specify a format.\n",
      "  data_train_main['transaction_date'] = pd.to_datetime(data_train_main.transaction_date)\n"
     ]
    }
   ],
   "source": [
    "# extract day/month from data_train_main.transaction_date\n",
    "data_train_main['transaction_date'] = pd.to_datetime(data_train_main.transaction_date)"
   ]
  },
  {
   "cell_type": "code",
   "execution_count": 20,
   "metadata": {},
   "outputs": [
    {
     "name": "stdout",
     "output_type": "stream",
     "text": [
      "<class 'pandas.core.frame.DataFrame'>\n",
      "RangeIndex: 337560 entries, 0 to 337559\n",
      "Data columns (total 7 columns):\n",
      " #   Column               Non-Null Count   Dtype         \n",
      "---  ------               --------------   -----         \n",
      " 0   user_id              337560 non-null  object        \n",
      " 1   transaction_date     337560 non-null  datetime64[ns]\n",
      " 2   transaction_type     337560 non-null  object        \n",
      " 3   mcc_group            213233 non-null  float64       \n",
      " 4   amount_n26_currency  337560 non-null  int64         \n",
      " 5   direction            337560 non-null  object        \n",
      " 6   agent                337560 non-null  object        \n",
      "dtypes: datetime64[ns](1), float64(1), int64(1), object(4)\n",
      "memory usage: 18.0+ MB\n"
     ]
    }
   ],
   "source": [
    "data_train_main.info()"
   ]
  },
  {
   "cell_type": "code",
   "execution_count": 21,
   "metadata": {},
   "outputs": [],
   "source": [
    "data_train_main['day'] = data_train_main.transaction_date.dt.day\n",
    "data_train_main['month'] = data_train_main.transaction_date.dt.month"
   ]
  },
  {
   "cell_type": "code",
   "execution_count": 22,
   "metadata": {},
   "outputs": [
    {
     "data": {
      "text/html": [
       "<div>\n",
       "<style scoped>\n",
       "    .dataframe tbody tr th:only-of-type {\n",
       "        vertical-align: middle;\n",
       "    }\n",
       "\n",
       "    .dataframe tbody tr th {\n",
       "        vertical-align: top;\n",
       "    }\n",
       "\n",
       "    .dataframe thead th {\n",
       "        text-align: right;\n",
       "    }\n",
       "</style>\n",
       "<table border=\"1\" class=\"dataframe\">\n",
       "  <thead>\n",
       "    <tr style=\"text-align: right;\">\n",
       "      <th></th>\n",
       "      <th>user_id</th>\n",
       "      <th>transaction_date</th>\n",
       "      <th>transaction_type</th>\n",
       "      <th>mcc_group</th>\n",
       "      <th>amount_n26_currency</th>\n",
       "      <th>direction</th>\n",
       "      <th>agent</th>\n",
       "      <th>day</th>\n",
       "      <th>month</th>\n",
       "    </tr>\n",
       "  </thead>\n",
       "  <tbody>\n",
       "    <tr>\n",
       "      <th>0</th>\n",
       "      <td>a78884f5e76951188c1e719d4956773a</td>\n",
       "      <td>2016-01-02</td>\n",
       "      <td>DT</td>\n",
       "      <td>NaN</td>\n",
       "      <td>350</td>\n",
       "      <td>Out</td>\n",
       "      <td>Bank Account</td>\n",
       "      <td>2</td>\n",
       "      <td>1</td>\n",
       "    </tr>\n",
       "    <tr>\n",
       "      <th>1</th>\n",
       "      <td>b0333294fef6ff1299102a70ad46b126</td>\n",
       "      <td>2016-01-02</td>\n",
       "      <td>DT</td>\n",
       "      <td>NaN</td>\n",
       "      <td>202</td>\n",
       "      <td>Out</td>\n",
       "      <td>Bank Account</td>\n",
       "      <td>2</td>\n",
       "      <td>1</td>\n",
       "    </tr>\n",
       "    <tr>\n",
       "      <th>2</th>\n",
       "      <td>7b8d2a2780adae0cd0c248e92c1b28dc</td>\n",
       "      <td>2016-01-02</td>\n",
       "      <td>DT</td>\n",
       "      <td>NaN</td>\n",
       "      <td>291</td>\n",
       "      <td>Out</td>\n",
       "      <td>Bank Account</td>\n",
       "      <td>2</td>\n",
       "      <td>1</td>\n",
       "    </tr>\n",
       "    <tr>\n",
       "      <th>3</th>\n",
       "      <td>cc4abaa500f7db4390ae3f02bd36d805</td>\n",
       "      <td>2016-01-02</td>\n",
       "      <td>DT</td>\n",
       "      <td>NaN</td>\n",
       "      <td>214</td>\n",
       "      <td>Out</td>\n",
       "      <td>Bank Account</td>\n",
       "      <td>2</td>\n",
       "      <td>1</td>\n",
       "    </tr>\n",
       "    <tr>\n",
       "      <th>4</th>\n",
       "      <td>49b99d1d5ba028566639e8b3eb7c055b</td>\n",
       "      <td>2016-01-02</td>\n",
       "      <td>DT</td>\n",
       "      <td>NaN</td>\n",
       "      <td>272</td>\n",
       "      <td>Out</td>\n",
       "      <td>Bank Account</td>\n",
       "      <td>2</td>\n",
       "      <td>1</td>\n",
       "    </tr>\n",
       "  </tbody>\n",
       "</table>\n",
       "</div>"
      ],
      "text/plain": [
       "                            user_id transaction_date transaction_type  \\\n",
       "0  a78884f5e76951188c1e719d4956773a       2016-01-02               DT   \n",
       "1  b0333294fef6ff1299102a70ad46b126       2016-01-02               DT   \n",
       "2  7b8d2a2780adae0cd0c248e92c1b28dc       2016-01-02               DT   \n",
       "3  cc4abaa500f7db4390ae3f02bd36d805       2016-01-02               DT   \n",
       "4  49b99d1d5ba028566639e8b3eb7c055b       2016-01-02               DT   \n",
       "\n",
       "   mcc_group  amount_n26_currency direction         agent  day  month  \n",
       "0        NaN                  350       Out  Bank Account    2      1  \n",
       "1        NaN                  202       Out  Bank Account    2      1  \n",
       "2        NaN                  291       Out  Bank Account    2      1  \n",
       "3        NaN                  214       Out  Bank Account    2      1  \n",
       "4        NaN                  272       Out  Bank Account    2      1  "
      ]
     },
     "execution_count": 22,
     "metadata": {},
     "output_type": "execute_result"
    }
   ],
   "source": [
    "data_train_main.head()"
   ]
  },
  {
   "cell_type": "markdown",
   "metadata": {},
   "source": [
    "====================================="
   ]
  },
  {
   "cell_type": "code",
   "execution_count": 23,
   "metadata": {},
   "outputs": [],
   "source": [
    "# data_train_main_fill[data_train_main_fill['user_id']=='000295594379774ab9ac2c78c946d615']"
   ]
  },
  {
   "cell_type": "code",
   "execution_count": 24,
   "metadata": {},
   "outputs": [],
   "source": [
    "def fill_missing_with_mode(df, group_col, target_col):\n",
    "    \n",
    "    def mode_function(x):\n",
    "        modes = x.mode()\n",
    "        if not modes.empty:\n",
    "            return modes[0]\n",
    "        else:\n",
    "            return 16 #miscellaneous\n",
    "    \n",
    "    df[target_col] = df.groupby(group_col)[target_col].transform(lambda x: x.fillna(mode_function(x)))\n",
    "    \n",
    "    return df\n",
    "\n",
    "\n",
    "data_train_main_filled = fill_missing_with_mode(data_train_main, 'user_id', 'mcc_group')\n"
   ]
  },
  {
   "cell_type": "code",
   "execution_count": 25,
   "metadata": {},
   "outputs": [
    {
     "data": {
      "text/html": [
       "<div>\n",
       "<style scoped>\n",
       "    .dataframe tbody tr th:only-of-type {\n",
       "        vertical-align: middle;\n",
       "    }\n",
       "\n",
       "    .dataframe tbody tr th {\n",
       "        vertical-align: top;\n",
       "    }\n",
       "\n",
       "    .dataframe thead th {\n",
       "        text-align: right;\n",
       "    }\n",
       "</style>\n",
       "<table border=\"1\" class=\"dataframe\">\n",
       "  <thead>\n",
       "    <tr style=\"text-align: right;\">\n",
       "      <th></th>\n",
       "      <th>user_id</th>\n",
       "      <th>transaction_date</th>\n",
       "      <th>transaction_type</th>\n",
       "      <th>mcc_group</th>\n",
       "      <th>amount_n26_currency</th>\n",
       "      <th>direction</th>\n",
       "      <th>agent</th>\n",
       "      <th>day</th>\n",
       "      <th>month</th>\n",
       "    </tr>\n",
       "  </thead>\n",
       "  <tbody>\n",
       "    <tr>\n",
       "      <th>10443</th>\n",
       "      <td>001f9baedaf3c8487c344d25b0eda9fc</td>\n",
       "      <td>2016-04-02</td>\n",
       "      <td>BBU</td>\n",
       "      <td>6.0</td>\n",
       "      <td>19</td>\n",
       "      <td>In</td>\n",
       "      <td>Partner</td>\n",
       "      <td>2</td>\n",
       "      <td>4</td>\n",
       "    </tr>\n",
       "    <tr>\n",
       "      <th>37887</th>\n",
       "      <td>001f9baedaf3c8487c344d25b0eda9fc</td>\n",
       "      <td>2016-02-18</td>\n",
       "      <td>PT</td>\n",
       "      <td>6.0</td>\n",
       "      <td>5</td>\n",
       "      <td>Out</td>\n",
       "      <td>Card</td>\n",
       "      <td>18</td>\n",
       "      <td>2</td>\n",
       "    </tr>\n",
       "    <tr>\n",
       "      <th>40685</th>\n",
       "      <td>001f9baedaf3c8487c344d25b0eda9fc</td>\n",
       "      <td>2016-02-19</td>\n",
       "      <td>PT</td>\n",
       "      <td>8.0</td>\n",
       "      <td>9</td>\n",
       "      <td>Out</td>\n",
       "      <td>Card</td>\n",
       "      <td>19</td>\n",
       "      <td>2</td>\n",
       "    </tr>\n",
       "    <tr>\n",
       "      <th>55226</th>\n",
       "      <td>001f9baedaf3c8487c344d25b0eda9fc</td>\n",
       "      <td>2016-02-27</td>\n",
       "      <td>PT</td>\n",
       "      <td>6.0</td>\n",
       "      <td>5</td>\n",
       "      <td>Out</td>\n",
       "      <td>Card</td>\n",
       "      <td>27</td>\n",
       "      <td>2</td>\n",
       "    </tr>\n",
       "    <tr>\n",
       "      <th>80262</th>\n",
       "      <td>001f9baedaf3c8487c344d25b0eda9fc</td>\n",
       "      <td>2016-08-03</td>\n",
       "      <td>CT</td>\n",
       "      <td>6.0</td>\n",
       "      <td>58</td>\n",
       "      <td>In</td>\n",
       "      <td>Bank Account</td>\n",
       "      <td>3</td>\n",
       "      <td>8</td>\n",
       "    </tr>\n",
       "    <tr>\n",
       "      <th>86543</th>\n",
       "      <td>001f9baedaf3c8487c344d25b0eda9fc</td>\n",
       "      <td>2016-11-03</td>\n",
       "      <td>PT</td>\n",
       "      <td>6.0</td>\n",
       "      <td>4</td>\n",
       "      <td>Out</td>\n",
       "      <td>Card</td>\n",
       "      <td>3</td>\n",
       "      <td>11</td>\n",
       "    </tr>\n",
       "    <tr>\n",
       "      <th>92413</th>\n",
       "      <td>001f9baedaf3c8487c344d25b0eda9fc</td>\n",
       "      <td>2016-03-15</td>\n",
       "      <td>PT</td>\n",
       "      <td>6.0</td>\n",
       "      <td>6</td>\n",
       "      <td>Out</td>\n",
       "      <td>Card</td>\n",
       "      <td>15</td>\n",
       "      <td>3</td>\n",
       "    </tr>\n",
       "    <tr>\n",
       "      <th>95978</th>\n",
       "      <td>001f9baedaf3c8487c344d25b0eda9fc</td>\n",
       "      <td>2016-03-16</td>\n",
       "      <td>PT</td>\n",
       "      <td>16.0</td>\n",
       "      <td>4</td>\n",
       "      <td>Out</td>\n",
       "      <td>Card</td>\n",
       "      <td>16</td>\n",
       "      <td>3</td>\n",
       "    </tr>\n",
       "    <tr>\n",
       "      <th>99827</th>\n",
       "      <td>001f9baedaf3c8487c344d25b0eda9fc</td>\n",
       "      <td>2016-03-17</td>\n",
       "      <td>CT</td>\n",
       "      <td>6.0</td>\n",
       "      <td>4</td>\n",
       "      <td>In</td>\n",
       "      <td>Bank Account</td>\n",
       "      <td>17</td>\n",
       "      <td>3</td>\n",
       "    </tr>\n",
       "    <tr>\n",
       "      <th>104097</th>\n",
       "      <td>001f9baedaf3c8487c344d25b0eda9fc</td>\n",
       "      <td>2016-03-20</td>\n",
       "      <td>PT</td>\n",
       "      <td>2.0</td>\n",
       "      <td>11</td>\n",
       "      <td>Out</td>\n",
       "      <td>Card</td>\n",
       "      <td>20</td>\n",
       "      <td>3</td>\n",
       "    </tr>\n",
       "    <tr>\n",
       "      <th>115444</th>\n",
       "      <td>001f9baedaf3c8487c344d25b0eda9fc</td>\n",
       "      <td>2016-03-26</td>\n",
       "      <td>PT</td>\n",
       "      <td>6.0</td>\n",
       "      <td>5</td>\n",
       "      <td>Out</td>\n",
       "      <td>Card</td>\n",
       "      <td>26</td>\n",
       "      <td>3</td>\n",
       "    </tr>\n",
       "    <tr>\n",
       "      <th>142503</th>\n",
       "      <td>001f9baedaf3c8487c344d25b0eda9fc</td>\n",
       "      <td>2016-01-04</td>\n",
       "      <td>DD</td>\n",
       "      <td>6.0</td>\n",
       "      <td>5</td>\n",
       "      <td>Out</td>\n",
       "      <td>Bank Account</td>\n",
       "      <td>4</td>\n",
       "      <td>1</td>\n",
       "    </tr>\n",
       "    <tr>\n",
       "      <th>150743</th>\n",
       "      <td>001f9baedaf3c8487c344d25b0eda9fc</td>\n",
       "      <td>2016-04-04</td>\n",
       "      <td>CT</td>\n",
       "      <td>6.0</td>\n",
       "      <td>58</td>\n",
       "      <td>In</td>\n",
       "      <td>Bank Account</td>\n",
       "      <td>4</td>\n",
       "      <td>4</td>\n",
       "    </tr>\n",
       "    <tr>\n",
       "      <th>161113</th>\n",
       "      <td>001f9baedaf3c8487c344d25b0eda9fc</td>\n",
       "      <td>2016-08-04</td>\n",
       "      <td>PT</td>\n",
       "      <td>4.0</td>\n",
       "      <td>26</td>\n",
       "      <td>Out</td>\n",
       "      <td>Card</td>\n",
       "      <td>4</td>\n",
       "      <td>8</td>\n",
       "    </tr>\n",
       "    <tr>\n",
       "      <th>178699</th>\n",
       "      <td>001f9baedaf3c8487c344d25b0eda9fc</td>\n",
       "      <td>2016-04-16</td>\n",
       "      <td>PT</td>\n",
       "      <td>1.0</td>\n",
       "      <td>19</td>\n",
       "      <td>Out</td>\n",
       "      <td>Card</td>\n",
       "      <td>16</td>\n",
       "      <td>4</td>\n",
       "    </tr>\n",
       "    <tr>\n",
       "      <th>208070</th>\n",
       "      <td>001f9baedaf3c8487c344d25b0eda9fc</td>\n",
       "      <td>2016-03-05</td>\n",
       "      <td>CT</td>\n",
       "      <td>6.0</td>\n",
       "      <td>50</td>\n",
       "      <td>In</td>\n",
       "      <td>Bank Account</td>\n",
       "      <td>5</td>\n",
       "      <td>3</td>\n",
       "    </tr>\n",
       "    <tr>\n",
       "      <th>215029</th>\n",
       "      <td>001f9baedaf3c8487c344d25b0eda9fc</td>\n",
       "      <td>2016-11-05</td>\n",
       "      <td>DD</td>\n",
       "      <td>6.0</td>\n",
       "      <td>9</td>\n",
       "      <td>Out</td>\n",
       "      <td>Bank Account</td>\n",
       "      <td>5</td>\n",
       "      <td>11</td>\n",
       "    </tr>\n",
       "    <tr>\n",
       "      <th>226924</th>\n",
       "      <td>001f9baedaf3c8487c344d25b0eda9fc</td>\n",
       "      <td>2016-12-05</td>\n",
       "      <td>DT</td>\n",
       "      <td>6.0</td>\n",
       "      <td>31</td>\n",
       "      <td>Out</td>\n",
       "      <td>Bank Account</td>\n",
       "      <td>5</td>\n",
       "      <td>12</td>\n",
       "    </tr>\n",
       "    <tr>\n",
       "      <th>280915</th>\n",
       "      <td>001f9baedaf3c8487c344d25b0eda9fc</td>\n",
       "      <td>2016-03-06</td>\n",
       "      <td>CT</td>\n",
       "      <td>6.0</td>\n",
       "      <td>52</td>\n",
       "      <td>In</td>\n",
       "      <td>Bank Account</td>\n",
       "      <td>6</td>\n",
       "      <td>3</td>\n",
       "    </tr>\n",
       "    <tr>\n",
       "      <th>295256</th>\n",
       "      <td>001f9baedaf3c8487c344d25b0eda9fc</td>\n",
       "      <td>2016-09-06</td>\n",
       "      <td>DT</td>\n",
       "      <td>6.0</td>\n",
       "      <td>51</td>\n",
       "      <td>Out</td>\n",
       "      <td>Bank Account</td>\n",
       "      <td>6</td>\n",
       "      <td>9</td>\n",
       "    </tr>\n",
       "    <tr>\n",
       "      <th>295689</th>\n",
       "      <td>001f9baedaf3c8487c344d25b0eda9fc</td>\n",
       "      <td>2016-10-06</td>\n",
       "      <td>DT</td>\n",
       "      <td>6.0</td>\n",
       "      <td>20</td>\n",
       "      <td>Out</td>\n",
       "      <td>Bank Account</td>\n",
       "      <td>6</td>\n",
       "      <td>10</td>\n",
       "    </tr>\n",
       "  </tbody>\n",
       "</table>\n",
       "</div>"
      ],
      "text/plain": [
       "                                 user_id transaction_date transaction_type  \\\n",
       "10443   001f9baedaf3c8487c344d25b0eda9fc       2016-04-02              BBU   \n",
       "37887   001f9baedaf3c8487c344d25b0eda9fc       2016-02-18               PT   \n",
       "40685   001f9baedaf3c8487c344d25b0eda9fc       2016-02-19               PT   \n",
       "55226   001f9baedaf3c8487c344d25b0eda9fc       2016-02-27               PT   \n",
       "80262   001f9baedaf3c8487c344d25b0eda9fc       2016-08-03               CT   \n",
       "86543   001f9baedaf3c8487c344d25b0eda9fc       2016-11-03               PT   \n",
       "92413   001f9baedaf3c8487c344d25b0eda9fc       2016-03-15               PT   \n",
       "95978   001f9baedaf3c8487c344d25b0eda9fc       2016-03-16               PT   \n",
       "99827   001f9baedaf3c8487c344d25b0eda9fc       2016-03-17               CT   \n",
       "104097  001f9baedaf3c8487c344d25b0eda9fc       2016-03-20               PT   \n",
       "115444  001f9baedaf3c8487c344d25b0eda9fc       2016-03-26               PT   \n",
       "142503  001f9baedaf3c8487c344d25b0eda9fc       2016-01-04               DD   \n",
       "150743  001f9baedaf3c8487c344d25b0eda9fc       2016-04-04               CT   \n",
       "161113  001f9baedaf3c8487c344d25b0eda9fc       2016-08-04               PT   \n",
       "178699  001f9baedaf3c8487c344d25b0eda9fc       2016-04-16               PT   \n",
       "208070  001f9baedaf3c8487c344d25b0eda9fc       2016-03-05               CT   \n",
       "215029  001f9baedaf3c8487c344d25b0eda9fc       2016-11-05               DD   \n",
       "226924  001f9baedaf3c8487c344d25b0eda9fc       2016-12-05               DT   \n",
       "280915  001f9baedaf3c8487c344d25b0eda9fc       2016-03-06               CT   \n",
       "295256  001f9baedaf3c8487c344d25b0eda9fc       2016-09-06               DT   \n",
       "295689  001f9baedaf3c8487c344d25b0eda9fc       2016-10-06               DT   \n",
       "\n",
       "        mcc_group  amount_n26_currency direction         agent  day  month  \n",
       "10443         6.0                   19        In       Partner    2      4  \n",
       "37887         6.0                    5       Out          Card   18      2  \n",
       "40685         8.0                    9       Out          Card   19      2  \n",
       "55226         6.0                    5       Out          Card   27      2  \n",
       "80262         6.0                   58        In  Bank Account    3      8  \n",
       "86543         6.0                    4       Out          Card    3     11  \n",
       "92413         6.0                    6       Out          Card   15      3  \n",
       "95978        16.0                    4       Out          Card   16      3  \n",
       "99827         6.0                    4        In  Bank Account   17      3  \n",
       "104097        2.0                   11       Out          Card   20      3  \n",
       "115444        6.0                    5       Out          Card   26      3  \n",
       "142503        6.0                    5       Out  Bank Account    4      1  \n",
       "150743        6.0                   58        In  Bank Account    4      4  \n",
       "161113        4.0                   26       Out          Card    4      8  \n",
       "178699        1.0                   19       Out          Card   16      4  \n",
       "208070        6.0                   50        In  Bank Account    5      3  \n",
       "215029        6.0                    9       Out  Bank Account    5     11  \n",
       "226924        6.0                   31       Out  Bank Account    5     12  \n",
       "280915        6.0                   52        In  Bank Account    6      3  \n",
       "295256        6.0                   51       Out  Bank Account    6      9  \n",
       "295689        6.0                   20       Out  Bank Account    6     10  "
      ]
     },
     "execution_count": 25,
     "metadata": {},
     "output_type": "execute_result"
    }
   ],
   "source": [
    "data_train_main_filled[data_train_main_filled['user_id']=='001f9baedaf3c8487c344d25b0eda9fc']"
   ]
  },
  {
   "cell_type": "code",
   "execution_count": 26,
   "metadata": {},
   "outputs": [
    {
     "data": {
      "text/plain": [
       "<Axes: xlabel='mcc_group'>"
      ]
     },
     "execution_count": 26,
     "metadata": {},
     "output_type": "execute_result"
    },
    {
     "data": {
      "image/png": "[encoded data removed]",
      "text/plain": [
       "<Figure size 1080x432 with 1 Axes>"
      ]
     },
     "metadata": {
      "needs_background": "light"
     },
     "output_type": "display_data"
    }
   ],
   "source": [
    "# before fill\n",
    "\n",
    "plt.figure(figsize=(15, 6))\n",
    "data_train_main.mcc_group.value_counts().plot(kind = 'bar')"
   ]
  },
  {
   "cell_type": "code",
   "execution_count": 27,
   "metadata": {},
   "outputs": [
    {
     "data": {
      "text/plain": [
       "<Axes: xlabel='mcc_group'>"
      ]
     },
     "execution_count": 27,
     "metadata": {},
     "output_type": "execute_result"
    },
    {
     "data": {
      "image/png": "[encoded data removed]",
      "text/plain": [
       "<Figure size 1080x432 with 1 Axes>"
      ]
     },
     "metadata": {
      "needs_background": "light"
     },
     "output_type": "display_data"
    }
   ],
   "source": [
    "# after fill\n",
    "\n",
    "plt.figure(figsize=(15, 6))\n",
    "data_train_main_filled.mcc_group.value_counts().plot(kind = 'bar')"
   ]
  },
  {
   "cell_type": "markdown",
   "metadata": {},
   "source": [
    "# checking distribution of response feature"
   ]
  },
  {
   "cell_type": "code",
   "execution_count": 28,
   "metadata": {},
   "outputs": [
    {
     "data": {
      "text/plain": [
       "<Axes: xlabel='direction'>"
      ]
     },
     "execution_count": 28,
     "metadata": {},
     "output_type": "execute_result"
    },
    {
     "data": {
      "image/png": "[encoded data removed]",
      "text/plain": [
       "<Figure size 432x288 with 1 Axes>"
      ]
     },
     "metadata": {
      "needs_background": "light"
     },
     "output_type": "display_data"
    }
   ],
   "source": [
    "data_train_main_filled.direction.value_counts().plot(kind = 'bar')"
   ]
  },
  {
   "cell_type": "code",
   "execution_count": 29,
   "metadata": {},
   "outputs": [
    {
     "data": {
      "text/plain": [
       "direction\n",
       "Out    82.196647\n",
       "In     17.803353\n",
       "Name: proportion, dtype: float64"
      ]
     },
     "execution_count": 29,
     "metadata": {},
     "output_type": "execute_result"
    }
   ],
   "source": [
    "data_train_main_filled.direction.value_counts(normalize=True) * 100"
   ]
  },
  {
   "cell_type": "markdown",
   "metadata": {},
   "source": [
    "## Feature engineering"
   ]
  },
  {
   "cell_type": "code",
   "execution_count": 30,
   "metadata": {},
   "outputs": [
    {
     "data": {
      "text/html": [
       "<div>\n",
       "<style scoped>\n",
       "    .dataframe tbody tr th:only-of-type {\n",
       "        vertical-align: middle;\n",
       "    }\n",
       "\n",
       "    .dataframe tbody tr th {\n",
       "        vertical-align: top;\n",
       "    }\n",
       "\n",
       "    .dataframe thead th {\n",
       "        text-align: right;\n",
       "    }\n",
       "</style>\n",
       "<table border=\"1\" class=\"dataframe\">\n",
       "  <thead>\n",
       "    <tr style=\"text-align: right;\">\n",
       "      <th></th>\n",
       "      <th>user_id</th>\n",
       "      <th>transaction_date</th>\n",
       "      <th>transaction_type</th>\n",
       "      <th>mcc_group</th>\n",
       "      <th>amount_n26_currency</th>\n",
       "      <th>direction</th>\n",
       "      <th>agent</th>\n",
       "      <th>day</th>\n",
       "      <th>month</th>\n",
       "    </tr>\n",
       "  </thead>\n",
       "  <tbody>\n",
       "    <tr>\n",
       "      <th>0</th>\n",
       "      <td>a78884f5e76951188c1e719d4956773a</td>\n",
       "      <td>2016-01-02</td>\n",
       "      <td>DT</td>\n",
       "      <td>8.0</td>\n",
       "      <td>350</td>\n",
       "      <td>Out</td>\n",
       "      <td>Bank Account</td>\n",
       "      <td>2</td>\n",
       "      <td>1</td>\n",
       "    </tr>\n",
       "    <tr>\n",
       "      <th>1</th>\n",
       "      <td>b0333294fef6ff1299102a70ad46b126</td>\n",
       "      <td>2016-01-02</td>\n",
       "      <td>DT</td>\n",
       "      <td>7.0</td>\n",
       "      <td>202</td>\n",
       "      <td>Out</td>\n",
       "      <td>Bank Account</td>\n",
       "      <td>2</td>\n",
       "      <td>1</td>\n",
       "    </tr>\n",
       "    <tr>\n",
       "      <th>2</th>\n",
       "      <td>7b8d2a2780adae0cd0c248e92c1b28dc</td>\n",
       "      <td>2016-01-02</td>\n",
       "      <td>DT</td>\n",
       "      <td>1.0</td>\n",
       "      <td>291</td>\n",
       "      <td>Out</td>\n",
       "      <td>Bank Account</td>\n",
       "      <td>2</td>\n",
       "      <td>1</td>\n",
       "    </tr>\n",
       "    <tr>\n",
       "      <th>3</th>\n",
       "      <td>cc4abaa500f7db4390ae3f02bd36d805</td>\n",
       "      <td>2016-01-02</td>\n",
       "      <td>DT</td>\n",
       "      <td>1.0</td>\n",
       "      <td>214</td>\n",
       "      <td>Out</td>\n",
       "      <td>Bank Account</td>\n",
       "      <td>2</td>\n",
       "      <td>1</td>\n",
       "    </tr>\n",
       "    <tr>\n",
       "      <th>4</th>\n",
       "      <td>49b99d1d5ba028566639e8b3eb7c055b</td>\n",
       "      <td>2016-01-02</td>\n",
       "      <td>DT</td>\n",
       "      <td>17.0</td>\n",
       "      <td>272</td>\n",
       "      <td>Out</td>\n",
       "      <td>Bank Account</td>\n",
       "      <td>2</td>\n",
       "      <td>1</td>\n",
       "    </tr>\n",
       "  </tbody>\n",
       "</table>\n",
       "</div>"
      ],
      "text/plain": [
       "                            user_id transaction_date transaction_type  \\\n",
       "0  a78884f5e76951188c1e719d4956773a       2016-01-02               DT   \n",
       "1  b0333294fef6ff1299102a70ad46b126       2016-01-02               DT   \n",
       "2  7b8d2a2780adae0cd0c248e92c1b28dc       2016-01-02               DT   \n",
       "3  cc4abaa500f7db4390ae3f02bd36d805       2016-01-02               DT   \n",
       "4  49b99d1d5ba028566639e8b3eb7c055b       2016-01-02               DT   \n",
       "\n",
       "   mcc_group  amount_n26_currency direction         agent  day  month  \n",
       "0        8.0                  350       Out  Bank Account    2      1  \n",
       "1        7.0                  202       Out  Bank Account    2      1  \n",
       "2        1.0                  291       Out  Bank Account    2      1  \n",
       "3        1.0                  214       Out  Bank Account    2      1  \n",
       "4       17.0                  272       Out  Bank Account    2      1  "
      ]
     },
     "execution_count": 30,
     "metadata": {},
     "output_type": "execute_result"
    }
   ],
   "source": [
    "data_train_main_filled.head()"
   ]
  },
  {
   "cell_type": "code",
   "execution_count": 31,
   "metadata": {},
   "outputs": [
    {
     "data": {
      "text/plain": [
       "direction\n",
       "Out    277463\n",
       "In      60097\n",
       "Name: count, dtype: int64"
      ]
     },
     "execution_count": 31,
     "metadata": {},
     "output_type": "execute_result"
    }
   ],
   "source": [
    "data_train_main_filled.direction.value_counts()"
   ]
  },
  {
   "cell_type": "code",
   "execution_count": 32,
   "metadata": {},
   "outputs": [
    {
     "name": "stdout",
     "output_type": "stream",
     "text": [
      "categorical_cols:Index(['user_id', 'transaction_type', 'direction', 'agent'], dtype='object')\n"
     ]
    }
   ],
   "source": [
    "# encoding categorical columns\n",
    "\n",
    "categorical_cols = data_train_main_filled.select_dtypes(include = 'object').columns\n",
    "print(f'categorical_cols:{categorical_cols}')\n",
    "for col in categorical_cols[1:]:\n",
    "    data_train_main_filled[col] = LabelEncoder().fit_transform(data_train_main_filled[col])"
   ]
  },
  {
   "cell_type": "code",
   "execution_count": 33,
   "metadata": {},
   "outputs": [],
   "source": [
    "# set mcc_group into integer\n",
    "\n",
    "data_train_main_filled['mcc_group'] = data_train_main_filled['mcc_group'].astype(int)"
   ]
  },
  {
   "cell_type": "code",
   "execution_count": 34,
   "metadata": {},
   "outputs": [
    {
     "data": {
      "text/html": [
       "<div>\n",
       "<style scoped>\n",
       "    .dataframe tbody tr th:only-of-type {\n",
       "        vertical-align: middle;\n",
       "    }\n",
       "\n",
       "    .dataframe tbody tr th {\n",
       "        vertical-align: top;\n",
       "    }\n",
       "\n",
       "    .dataframe thead th {\n",
       "        text-align: right;\n",
       "    }\n",
       "</style>\n",
       "<table border=\"1\" class=\"dataframe\">\n",
       "  <thead>\n",
       "    <tr style=\"text-align: right;\">\n",
       "      <th></th>\n",
       "      <th>user_id</th>\n",
       "      <th>transaction_date</th>\n",
       "      <th>transaction_type</th>\n",
       "      <th>mcc_group</th>\n",
       "      <th>amount_n26_currency</th>\n",
       "      <th>direction</th>\n",
       "      <th>agent</th>\n",
       "      <th>day</th>\n",
       "      <th>month</th>\n",
       "    </tr>\n",
       "  </thead>\n",
       "  <tbody>\n",
       "    <tr>\n",
       "      <th>0</th>\n",
       "      <td>a78884f5e76951188c1e719d4956773a</td>\n",
       "      <td>2016-01-02</td>\n",
       "      <td>5</td>\n",
       "      <td>8</td>\n",
       "      <td>350</td>\n",
       "      <td>1</td>\n",
       "      <td>0</td>\n",
       "      <td>2</td>\n",
       "      <td>1</td>\n",
       "    </tr>\n",
       "    <tr>\n",
       "      <th>1</th>\n",
       "      <td>b0333294fef6ff1299102a70ad46b126</td>\n",
       "      <td>2016-01-02</td>\n",
       "      <td>5</td>\n",
       "      <td>7</td>\n",
       "      <td>202</td>\n",
       "      <td>1</td>\n",
       "      <td>0</td>\n",
       "      <td>2</td>\n",
       "      <td>1</td>\n",
       "    </tr>\n",
       "    <tr>\n",
       "      <th>2</th>\n",
       "      <td>7b8d2a2780adae0cd0c248e92c1b28dc</td>\n",
       "      <td>2016-01-02</td>\n",
       "      <td>5</td>\n",
       "      <td>1</td>\n",
       "      <td>291</td>\n",
       "      <td>1</td>\n",
       "      <td>0</td>\n",
       "      <td>2</td>\n",
       "      <td>1</td>\n",
       "    </tr>\n",
       "    <tr>\n",
       "      <th>3</th>\n",
       "      <td>cc4abaa500f7db4390ae3f02bd36d805</td>\n",
       "      <td>2016-01-02</td>\n",
       "      <td>5</td>\n",
       "      <td>1</td>\n",
       "      <td>214</td>\n",
       "      <td>1</td>\n",
       "      <td>0</td>\n",
       "      <td>2</td>\n",
       "      <td>1</td>\n",
       "    </tr>\n",
       "    <tr>\n",
       "      <th>4</th>\n",
       "      <td>49b99d1d5ba028566639e8b3eb7c055b</td>\n",
       "      <td>2016-01-02</td>\n",
       "      <td>5</td>\n",
       "      <td>17</td>\n",
       "      <td>272</td>\n",
       "      <td>1</td>\n",
       "      <td>0</td>\n",
       "      <td>2</td>\n",
       "      <td>1</td>\n",
       "    </tr>\n",
       "  </tbody>\n",
       "</table>\n",
       "</div>"
      ],
      "text/plain": [
       "                            user_id transaction_date  transaction_type  \\\n",
       "0  a78884f5e76951188c1e719d4956773a       2016-01-02                 5   \n",
       "1  b0333294fef6ff1299102a70ad46b126       2016-01-02                 5   \n",
       "2  7b8d2a2780adae0cd0c248e92c1b28dc       2016-01-02                 5   \n",
       "3  cc4abaa500f7db4390ae3f02bd36d805       2016-01-02                 5   \n",
       "4  49b99d1d5ba028566639e8b3eb7c055b       2016-01-02                 5   \n",
       "\n",
       "   mcc_group  amount_n26_currency  direction  agent  day  month  \n",
       "0          8                  350          1      0    2      1  \n",
       "1          7                  202          1      0    2      1  \n",
       "2          1                  291          1      0    2      1  \n",
       "3          1                  214          1      0    2      1  \n",
       "4         17                  272          1      0    2      1  "
      ]
     },
     "execution_count": 34,
     "metadata": {},
     "output_type": "execute_result"
    }
   ],
   "source": [
    "data_train_main_filled.head()"
   ]
  },
  {
   "cell_type": "code",
   "execution_count": 35,
   "metadata": {},
   "outputs": [
    {
     "data": {
      "text/plain": [
       "direction\n",
       "1    277463\n",
       "0     60097\n",
       "Name: count, dtype: int64"
      ]
     },
     "execution_count": 35,
     "metadata": {},
     "output_type": "execute_result"
    }
   ],
   "source": [
    "data_train_main_filled.direction.value_counts()"
   ]
  },
  {
   "cell_type": "code",
   "execution_count": 36,
   "metadata": {},
   "outputs": [
    {
     "data": {
      "text/plain": [
       "direction\n",
       "1    277463\n",
       "0     60097\n",
       "Name: count, dtype: int64"
      ]
     },
     "execution_count": 36,
     "metadata": {},
     "output_type": "execute_result"
    }
   ],
   "source": [
    "data_train_main_filled.direction.value_counts()"
   ]
  },
  {
   "cell_type": "code",
   "execution_count": 37,
   "metadata": {},
   "outputs": [],
   "source": [
    "df2 = data_train_main_filled.copy()\n",
    "df2.drop(['user_id', 'transaction_date'], axis=1, inplace=True)\n",
    "df3 = df2.copy()\n",
    "df3.drop(['transaction_type'], axis=1, inplace=True)\n",
    "# df3.drop(['direction'], axis=1, inplace=True)"
   ]
  },
  {
   "cell_type": "code",
   "execution_count": 38,
   "metadata": {},
   "outputs": [
    {
     "data": {
      "text/html": [
       "<div>\n",
       "<style scoped>\n",
       "    .dataframe tbody tr th:only-of-type {\n",
       "        vertical-align: middle;\n",
       "    }\n",
       "\n",
       "    .dataframe tbody tr th {\n",
       "        vertical-align: top;\n",
       "    }\n",
       "\n",
       "    .dataframe thead th {\n",
       "        text-align: right;\n",
       "    }\n",
       "</style>\n",
       "<table border=\"1\" class=\"dataframe\">\n",
       "  <thead>\n",
       "    <tr style=\"text-align: right;\">\n",
       "      <th></th>\n",
       "      <th>transaction_type</th>\n",
       "      <th>mcc_group</th>\n",
       "      <th>amount_n26_currency</th>\n",
       "      <th>direction</th>\n",
       "      <th>agent</th>\n",
       "      <th>day</th>\n",
       "      <th>month</th>\n",
       "    </tr>\n",
       "  </thead>\n",
       "  <tbody>\n",
       "    <tr>\n",
       "      <th>transaction_type</th>\n",
       "      <td>1.000000</td>\n",
       "      <td>0.096101</td>\n",
       "      <td>-0.342948</td>\n",
       "      <td>0.813946</td>\n",
       "      <td>0.748619</td>\n",
       "      <td>0.002256</td>\n",
       "      <td>0.064226</td>\n",
       "    </tr>\n",
       "    <tr>\n",
       "      <th>mcc_group</th>\n",
       "      <td>0.096101</td>\n",
       "      <td>1.000000</td>\n",
       "      <td>-0.063145</td>\n",
       "      <td>0.058669</td>\n",
       "      <td>0.100982</td>\n",
       "      <td>-0.005984</td>\n",
       "      <td>0.012564</td>\n",
       "    </tr>\n",
       "    <tr>\n",
       "      <th>amount_n26_currency</th>\n",
       "      <td>-0.342948</td>\n",
       "      <td>-0.063145</td>\n",
       "      <td>1.000000</td>\n",
       "      <td>-0.357703</td>\n",
       "      <td>-0.283742</td>\n",
       "      <td>0.046683</td>\n",
       "      <td>-0.034658</td>\n",
       "    </tr>\n",
       "    <tr>\n",
       "      <th>direction</th>\n",
       "      <td>0.813946</td>\n",
       "      <td>0.058669</td>\n",
       "      <td>-0.357703</td>\n",
       "      <td>1.000000</td>\n",
       "      <td>0.514057</td>\n",
       "      <td>-0.016038</td>\n",
       "      <td>0.034238</td>\n",
       "    </tr>\n",
       "    <tr>\n",
       "      <th>agent</th>\n",
       "      <td>0.748619</td>\n",
       "      <td>0.100982</td>\n",
       "      <td>-0.283742</td>\n",
       "      <td>0.514057</td>\n",
       "      <td>1.000000</td>\n",
       "      <td>0.004547</td>\n",
       "      <td>0.064605</td>\n",
       "    </tr>\n",
       "    <tr>\n",
       "      <th>day</th>\n",
       "      <td>0.002256</td>\n",
       "      <td>-0.005984</td>\n",
       "      <td>0.046683</td>\n",
       "      <td>-0.016038</td>\n",
       "      <td>0.004547</td>\n",
       "      <td>1.000000</td>\n",
       "      <td>-0.327059</td>\n",
       "    </tr>\n",
       "    <tr>\n",
       "      <th>month</th>\n",
       "      <td>0.064226</td>\n",
       "      <td>0.012564</td>\n",
       "      <td>-0.034658</td>\n",
       "      <td>0.034238</td>\n",
       "      <td>0.064605</td>\n",
       "      <td>-0.327059</td>\n",
       "      <td>1.000000</td>\n",
       "    </tr>\n",
       "  </tbody>\n",
       "</table>\n",
       "</div>"
      ],
      "text/plain": [
       "                     transaction_type  mcc_group  amount_n26_currency  \\\n",
       "transaction_type             1.000000   0.096101            -0.342948   \n",
       "mcc_group                    0.096101   1.000000            -0.063145   \n",
       "amount_n26_currency         -0.342948  -0.063145             1.000000   \n",
       "direction                    0.813946   0.058669            -0.357703   \n",
       "agent                        0.748619   0.100982            -0.283742   \n",
       "day                          0.002256  -0.005984             0.046683   \n",
       "month                        0.064226   0.012564            -0.034658   \n",
       "\n",
       "                     direction     agent       day     month  \n",
       "transaction_type      0.813946  0.748619  0.002256  0.064226  \n",
       "mcc_group             0.058669  0.100982 -0.005984  0.012564  \n",
       "amount_n26_currency  -0.357703 -0.283742  0.046683 -0.034658  \n",
       "direction             1.000000  0.514057 -0.016038  0.034238  \n",
       "agent                 0.514057  1.000000  0.004547  0.064605  \n",
       "day                  -0.016038  0.004547  1.000000 -0.327059  \n",
       "month                 0.034238  0.064605 -0.327059  1.000000  "
      ]
     },
     "execution_count": 38,
     "metadata": {},
     "output_type": "execute_result"
    }
   ],
   "source": [
    "df2.corr()"
   ]
  },
  {
   "cell_type": "code",
   "execution_count": null,
   "metadata": {},
   "outputs": [],
   "source": []
  },
  {
   "cell_type": "markdown",
   "metadata": {},
   "source": [
    "## splitting"
   ]
  },
  {
   "cell_type": "code",
   "execution_count": 39,
   "metadata": {},
   "outputs": [
    {
     "data": {
      "text/html": [
       "<div>\n",
       "<style scoped>\n",
       "    .dataframe tbody tr th:only-of-type {\n",
       "        vertical-align: middle;\n",
       "    }\n",
       "\n",
       "    .dataframe tbody tr th {\n",
       "        vertical-align: top;\n",
       "    }\n",
       "\n",
       "    .dataframe thead th {\n",
       "        text-align: right;\n",
       "    }\n",
       "</style>\n",
       "<table border=\"1\" class=\"dataframe\">\n",
       "  <thead>\n",
       "    <tr style=\"text-align: right;\">\n",
       "      <th></th>\n",
       "      <th>mcc_group</th>\n",
       "      <th>amount_n26_currency</th>\n",
       "      <th>direction</th>\n",
       "      <th>agent</th>\n",
       "      <th>day</th>\n",
       "      <th>month</th>\n",
       "    </tr>\n",
       "  </thead>\n",
       "  <tbody>\n",
       "    <tr>\n",
       "      <th>0</th>\n",
       "      <td>8</td>\n",
       "      <td>350</td>\n",
       "      <td>1</td>\n",
       "      <td>0</td>\n",
       "      <td>2</td>\n",
       "      <td>1</td>\n",
       "    </tr>\n",
       "    <tr>\n",
       "      <th>1</th>\n",
       "      <td>7</td>\n",
       "      <td>202</td>\n",
       "      <td>1</td>\n",
       "      <td>0</td>\n",
       "      <td>2</td>\n",
       "      <td>1</td>\n",
       "    </tr>\n",
       "    <tr>\n",
       "      <th>2</th>\n",
       "      <td>1</td>\n",
       "      <td>291</td>\n",
       "      <td>1</td>\n",
       "      <td>0</td>\n",
       "      <td>2</td>\n",
       "      <td>1</td>\n",
       "    </tr>\n",
       "  </tbody>\n",
       "</table>\n",
       "</div>"
      ],
      "text/plain": [
       "   mcc_group  amount_n26_currency  direction  agent  day  month\n",
       "0          8                  350          1      0    2      1\n",
       "1          7                  202          1      0    2      1\n",
       "2          1                  291          1      0    2      1"
      ]
     },
     "execution_count": 39,
     "metadata": {},
     "output_type": "execute_result"
    }
   ],
   "source": [
    "df3.head(3)"
   ]
  },
  {
   "cell_type": "code",
   "execution_count": 40,
   "metadata": {},
   "outputs": [],
   "source": [
    "# split data\n",
    "\n",
    "X = df3.drop('direction', axis=1)\n",
    "y = df3['direction']"
   ]
  },
  {
   "cell_type": "code",
   "execution_count": 41,
   "metadata": {},
   "outputs": [],
   "source": [
    "'''\n",
    "split data\n",
    "'''\n",
    "\n",
    "X_train, X_temp, y_train, y_temp = train_test_split(X, y, test_size=0.2, random_state=42, stratify=y)\n",
    "X_val, X_test, y_val, y_test = train_test_split(X_temp, y_temp, test_size=0.5, random_state=42, stratify=y_temp)\n",
    "\n",
    "\n",
    "scaler = StandardScaler()\n",
    "X_train = scaler.fit_transform(X_train)\n",
    "X_val = scaler.transform(X_val)\n",
    "X_test = scaler.transform(X_test)\n"
   ]
  },
  {
   "cell_type": "code",
   "execution_count": null,
   "metadata": {},
   "outputs": [],
   "source": []
  },
  {
   "cell_type": "code",
   "execution_count": 42,
   "metadata": {},
   "outputs": [
    {
     "data": {
      "text/plain": [
       "((270048,), (33756,), (33756,))"
      ]
     },
     "execution_count": 42,
     "metadata": {},
     "output_type": "execute_result"
    }
   ],
   "source": [
    "y_train.shape, y_val.shape, y_test.shape"
   ]
  },
  {
   "cell_type": "code",
   "execution_count": 43,
   "metadata": {},
   "outputs": [
    {
     "data": {
      "text/plain": [
       "(direction\n",
       " 1    82.196498\n",
       " 0    17.803502\n",
       " Name: proportion, dtype: float64,\n",
       " direction\n",
       " 1    82.19872\n",
       " 0    17.80128\n",
       " Name: proportion, dtype: float64,\n",
       " direction\n",
       " 1    82.195758\n",
       " 0    17.804242\n",
       " Name: proportion, dtype: float64)"
      ]
     },
     "execution_count": 43,
     "metadata": {},
     "output_type": "execute_result"
    }
   ],
   "source": [
    "y_train.value_counts(normalize=True) * 100, y_val.value_counts(normalize=True) * 100, y_test.value_counts(normalize=True) * 100"
   ]
  },
  {
   "cell_type": "code",
   "execution_count": 44,
   "metadata": {},
   "outputs": [
    {
     "data": {
      "text/plain": [
       "direction\n",
       "1    82.196498\n",
       "0    17.803502\n",
       "Name: proportion, dtype: float64"
      ]
     },
     "execution_count": 44,
     "metadata": {},
     "output_type": "execute_result"
    }
   ],
   "source": [
    "y_train.value_counts(normalize=True) * 100"
   ]
  },
  {
   "cell_type": "code",
   "execution_count": 45,
   "metadata": {},
   "outputs": [],
   "source": [
    "'''\n",
    "grids search on RF\n",
    "'''\n",
    "\n",
    "run_grid_search = False\n",
    "if run_grid_search:\n",
    "    \n",
    "    param_grid = {\n",
    "        'class_weight': [{0: 1.3, 1: 1.0},{0: 1.4, 1: 1.0}, {0: 1.45, 1: 1.0}, {0: 1.5, 1: 1.0}],\n",
    "        # 'class_weight': [{0: 2.8, 1: 0.6}, {0: 2.4, 1: 0.6},  {0: 2.2, 1: 0.6}],\n",
    "        'n_estimators': [50, 100],\n",
    "        'max_depth': [None, 10, 20],\n",
    "    }\n",
    "    \n",
    "\n",
    "    grid_search = GridSearchCV(RandomForestClassifier(random_state=42), param_grid, scoring='roc_auc', cv=3, verbose=3)\n",
    "   \n",
    "    grid_search.fit(X_train, y_train)\n",
    "    best_params = grid_search.best_params_;best_params\n",
    "    print(\"Best parameters:\", best_params)"
   ]
  },
  {
   "cell_type": "markdown",
   "metadata": {},
   "source": [
    "# Methods\n",
    "\n",
    "![title](../scripts/img/lr.png)\n",
    "## 1. LR (logistic regression): \n",
    "we use the LR methods as baseline and in addition, we add penalties to the cost function to balance the target variable.\n",
    "\n",
    "## 2. RF (random forest)\n",
    "\n",
    "![title](img/rfTree.png)\n",
    "`(image source: https://upload.wikimedia.org/wikipedia/commons/4/4e/Random_forest_explain.png)`\n",
    "\n",
    "In classification problem, the RF method works by constructing multiple decision trees during training and returns the majority vote from these trees.\n",
    "\n",
    "baseline RF assumes equal importance for all classes, and the weighted approach introduces class weights to modify the splitting criteria of the labels to prioritize minority class.\n",
    "\n",
    "## 3. MLP (multilayer perceptron)\n",
    "mlp is a feedforward neural network consisting of fully connected neurons with nonlinear activation functions \n",
    "\n",
    "\n",
    "\n"
   ]
  },
  {
   "cell_type": "markdown",
   "metadata": {},
   "source": [
    "paramter:\n",
    "\n",
    "- `class_weight`: in the weighted RF, changes to `class_weight` will modify the outcome of the model. after some experiments, the class weight is set as `class_weight={0:1.45, 1:1.0}`\n",
    "- `max_depth`: the maximum depth of the tree\n",
    "- `n_estimator`: higher (lower) `n_estimator` could increase (reduce) model accuracy\n",
    "- weights on LR: to tune the model sensitivity to imbalanced response feature, use `weight_positive=1.` and  `weight_negative=1.45`. these values are thesame as in `class_weight`\n",
    "- `hidden_layer_sizes`: The ith element represents the number of neurons in the ith hidden layer.\n",
    "- `activation`: activation function for the hidden layer. other options are {identity, logistic, tanh}.\n",
    "- `solver`: the solver for weight optimization. other options to try are `lbfgs` and `sgd`."
   ]
  },
  {
   "cell_type": "code",
   "execution_count": 46,
   "metadata": {},
   "outputs": [
    {
     "name": "stdout",
     "output_type": "stream",
     "text": [
      "Training Baseline RF\n",
      "--- Baseline RF saved ---\n",
      "Train Accuracy: 0.94\n",
      "Val Accuracy: 0.86\n",
      "Test Accuracy: 0.86\n",
      "Training Weighted RF\n",
      "--- Weighted RF saved ---\n",
      "Train Accuracy: 0.90\n",
      "Val Accuracy: 0.87\n",
      "Test Accuracy: 0.87\n",
      "Training Baseline LR\n",
      "--- Baseline LR saved ---\n",
      "Train Accuracy: 0.85\n",
      "Val Accuracy: 0.85\n",
      "Test Accuracy: 0.85\n",
      "Training cost LR\n",
      "--- cost LR saved ---\n",
      "Train Accuracy: 0.86\n",
      "Val Accuracy: 0.86\n",
      "Test Accuracy: 0.86\n",
      "Training MLP\n",
      "Iteration 1, loss = 0.24836411\n",
      "Iteration 2, loss = 0.23823900\n",
      "Iteration 3, loss = 0.23744604\n",
      "Iteration 4, loss = 0.23690349\n",
      "Iteration 5, loss = 0.23666980\n",
      "Iteration 6, loss = 0.23628857\n",
      "Iteration 7, loss = 0.23633570\n",
      "Iteration 8, loss = 0.23603214\n",
      "Iteration 9, loss = 0.23549679\n",
      "Iteration 10, loss = 0.23553718\n",
      "Iteration 11, loss = 0.23525665\n",
      "Iteration 12, loss = 0.23527474\n",
      "Iteration 13, loss = 0.23522303\n",
      "Iteration 14, loss = 0.23505951\n",
      "Iteration 15, loss = 0.23500486\n",
      "Iteration 16, loss = 0.23495118\n",
      "Iteration 17, loss = 0.23486919\n",
      "Iteration 18, loss = 0.23479075\n",
      "Iteration 19, loss = 0.23472534\n",
      "Iteration 20, loss = 0.23463046\n",
      "Iteration 21, loss = 0.23453515\n",
      "Iteration 22, loss = 0.23473924\n",
      "Iteration 23, loss = 0.23455047\n",
      "Iteration 24, loss = 0.23458087\n",
      "Iteration 25, loss = 0.23443784\n",
      "Training loss did not improve more than tol=0.000100 for 10 consecutive epochs. Stopping.\n",
      "--- MLP saved ---\n",
      "Train Accuracy: 0.87\n",
      "Val Accuracy: 0.87\n",
      "Test Accuracy: 0.87\n"
     ]
    }
   ],
   "source": [
    "'''\n",
    "train model\n",
    "'''\n",
    "\n",
    "n_estimator = 100\n",
    "seedS = 42\n",
    "lr = 0.01\n",
    "max_iter = 1000\n",
    "max_depth = 15\n",
    "\n",
    "models = {\n",
    "    \"Baseline RF\": RandomForestClassifier(n_estimators=n_estimator, random_state=seedS),\n",
    "    \"Weighted RF\": RandomForestClassifier(n_estimators=n_estimator, class_weight={0:1.45, 1:1.0}, max_depth=max_depth, random_state=seedS),\n",
    "    \"Baseline LR\": LogisticRegressionModels(model_type=\"baseline\", learning_rate=lr, max_iter=max_iter),\n",
    "    \"cost LR\": LogisticRegressionModels(model_type=\"cost_sensitive\", weight_positive=1., weight_negative=1.45, learning_rate=lr, max_iter=max_iter),\n",
    "    \"MLP\": MLPClassifier(hidden_layer_sizes=(50,), activation='relu', solver='adam', verbose=True,learning_rate_init=lr, max_iter=max_iter, random_state=seedS),\n",
    "} #relu\n",
    "\n",
    "results = {}\n",
    "for name, model in models.items():\n",
    "    print(f\"Training {name}\")\n",
    "    if model.__class__.__name__ in ['RandomForestClassifier', 'MLPClassifier']:\n",
    "        model.fit(X_train, y_train)\n",
    "    elif model.__class__.__name__ == 'LogisticRegressionModels':\n",
    "        model.fit(X_train, y_train, X_val, y_val)\n",
    "    else:\n",
    "        raise ValueError(\"Model not supported\")\n",
    "        \n",
    "    show_curves = False\n",
    "    if show_curves:\n",
    "        if isinstance(model, (LogisticRegressionModels)):  \n",
    "            plt.figure(figsize=(10, 6))\n",
    "            plt.plot(model.train_losses, label='Training Loss')\n",
    "            plt.plot(model.val_losses, label='Validation Loss')\n",
    "            plt.xlabel('Iteration')\n",
    "            plt.ylabel('Loss')\n",
    "            plt.title(f'{name} Training and Validation Loss Curves')\n",
    "            plt.legend()\n",
    "            plt.grid()\n",
    "            plt.show()\n",
    "\n",
    "    # pred\n",
    "    y_pred_train = model.predict(X_train)\n",
    "    y_pred_val = model.predict(X_val)\n",
    "    y_pred_test = model.predict(X_test)\n",
    "    \n",
    "\n",
    "    # metric\n",
    "    train_accuracy = accuracy_score(y_train, y_pred_train)\n",
    "    val_accuracy = accuracy_score(y_val, y_pred_val)\n",
    "    test_accuracy = accuracy_score(y_test, y_pred_test)\n",
    "    f1 = f1_score(y_test, y_pred_test)\n",
    "    \n",
    "    if model.__class__.__name__ in ['RandomForestClassifier', 'MLPClassifier']:\n",
    "        y_pred_proba_test = model.predict_proba(X_test)[:, 1]\n",
    "        auc = roc_auc_score(y_test, y_pred_proba_test)\n",
    "    elif model.__class__.__name__ == 'LogisticRegressionModels':\n",
    "        y_pred_proba_test = model.predict_proba(X_test)\n",
    "        auc = roc_auc_score(y_test, y_pred_proba_test)\n",
    "\n",
    "    # Save model\n",
    "    joblib.dump(model, f\"models/{name.replace(' ', '_')}_model.pkl\")\n",
    "    \n",
    "    results[name] = {\n",
    "        \"Train Accuracy\": train_accuracy,\n",
    "        \"Val Accuracy\": val_accuracy,\n",
    "        \"Test Accuracy\": test_accuracy,\n",
    "        \"AUC\": auc,\n",
    "        \"f1\": f1,\n",
    "        \"Model\": model,\n",
    "        }\n",
    "    print(f\"--- {name} saved ---\")\n",
    "    print(f\"Train Accuracy: {train_accuracy:.2f}\")\n",
    "    print(f\"Val Accuracy: {val_accuracy:.2f}\")\n",
    "    print(f\"Test Accuracy: {test_accuracy:.2f}\")"
   ]
  },
  {
   "cell_type": "code",
   "execution_count": 47,
   "metadata": {},
   "outputs": [
    {
     "data": {
      "text/plain": [
       "[('Baseline RF', 0.8625725796895367),\n",
       " ('Weighted RF', 0.8725856144092902),\n",
       " ('Baseline LR', 0.8491231188529447),\n",
       " ('cost LR', 0.8611802346249555),\n",
       " ('MLP', 0.869504680649366)]"
      ]
     },
     "execution_count": 47,
     "metadata": {},
     "output_type": "execute_result"
    }
   ],
   "source": [
    "methods = list(results.keys())\n",
    "test_accuracies_ = [metrics['Test Accuracy'] for metrics in results.values()]\n",
    "\n",
    "list(zip(methods,test_accuracies_))"
   ]
  },
  {
   "cell_type": "code",
   "execution_count": 48,
   "metadata": {},
   "outputs": [
    {
     "data": {
      "text/plain": [
       "[('Baseline RF', 0.8636397013829397), ('Weighted RF', 0.8698323338636642)]"
      ]
     },
     "execution_count": 48,
     "metadata": {},
     "output_type": "execute_result"
    }
   ],
   "source": [
    "[('Baseline RF', 0.8636397013829397), ('Weighted RF', 0.8698323338636642)]"
   ]
  },
  {
   "cell_type": "code",
   "execution_count": 49,
   "metadata": {},
   "outputs": [],
   "source": [
    "def plot_barplot(\n",
    "    indices,\n",
    "    train_accuracies,\n",
    "    val_accuracies,\n",
    "    test_accuracies,\n",
    "    labels,\n",
    "    bar_width=0.1,\n",
    "    figsize=(12, 6),\n",
    "):\n",
    "\n",
    "    plt.figure(figsize=figsize)\n",
    "    plt.bar(indices, train_accuracies, width=bar_width, label=\"training\", alpha=0.8)\n",
    "    plt.bar(\n",
    "        indices + bar_width,\n",
    "        val_accuracies,\n",
    "        width=bar_width,\n",
    "        label=\"validation\",\n",
    "        alpha=0.8,\n",
    "    )\n",
    "    plt.bar(\n",
    "        indices + 2 * bar_width,\n",
    "        test_accuracies,\n",
    "        width=bar_width,\n",
    "        label=\"test\",\n",
    "        alpha=0.8,\n",
    "    )\n",
    "\n",
    "    plt.xlabel(\"Model\", fontsize=14)\n",
    "    plt.ylabel(\"Accuracy\", fontsize=14)\n",
    "    plt.xticks(indices + bar_width, labels, rotation=0)\n",
    "    plt.legend()\n",
    "    plt.grid(axis=\"y\", linestyle=\"--\", alpha=0.7)\n",
    "    plt.tight_layout()\n",
    "    plt.show()\n"
   ]
  },
  {
   "cell_type": "code",
   "execution_count": 50,
   "metadata": {},
   "outputs": [
    {
     "data": {
      "image/png": "[encoded data removed]",
      "text/plain": [
       "<Figure size 1152x576 with 1 Axes>"
      ]
     },
     "metadata": {
      "needs_background": "light"
     },
     "output_type": "display_data"
    }
   ],
   "source": [
    "'''\n",
    "plot accuraries\n",
    "'''\n",
    "\n",
    "labels = list(results.keys())\n",
    "train_accuracies = [metrics['Train Accuracy'] for metrics in results.values()]\n",
    "val_accuracies = [metrics['Val Accuracy'] for metrics in results.values()]\n",
    "test_accuracies = [metrics['Test Accuracy'] for metrics in results.values()]\n",
    "\n",
    "bar_width = 0.2\n",
    "indices = np.arange(len(labels))\n",
    "figsize = (16, 8)\n",
    "plotter.plot_barplot( indices, train_accuracies, val_accuracies, test_accuracies, labels, bar_width=bar_width, figsize=figsize)\n"
   ]
  },
  {
   "cell_type": "code",
   "execution_count": 51,
   "metadata": {},
   "outputs": [
    {
     "data": {
      "text/plain": [
       "{'Train Accuracy': 0.9391404491053442,\n",
       " 'Val Accuracy': 0.864290792747956,\n",
       " 'Test Accuracy': 0.8625725796895367,\n",
       " 'AUC': 0.9192379396505477,\n",
       " 'f1': 0.9166771441400988,\n",
       " 'Model': RandomForestClassifier(random_state=42)}"
      ]
     },
     "execution_count": 51,
     "metadata": {},
     "output_type": "execute_result"
    }
   ],
   "source": [
    "results['Baseline RF']"
   ]
  },
  {
   "cell_type": "code",
   "execution_count": 52,
   "metadata": {},
   "outputs": [
    {
     "data": {
      "text/plain": [
       "[('Baseline RF', 0.8625725796895367),\n",
       " ('Weighted RF', 0.8725856144092902),\n",
       " ('Baseline LR', 0.8491231188529447),\n",
       " ('cost LR', 0.8611802346249555),\n",
       " ('MLP', 0.869504680649366)]"
      ]
     },
     "execution_count": 52,
     "metadata": {},
     "output_type": "execute_result"
    }
   ],
   "source": [
    "test_accuracies_2 = [metrics['Test Accuracy'] for metrics in results.values()]\n",
    "\n",
    "list(zip(methods,test_accuracies_2))"
   ]
  },
  {
   "cell_type": "code",
   "execution_count": 53,
   "metadata": {},
   "outputs": [
    {
     "data": {
      "text/plain": [
       "[('Baseline RF', 0.9192379396505477),\n",
       " ('Weighted RF', 0.9343544535747564),\n",
       " ('Baseline LR', 0.871748742125051),\n",
       " ('cost LR', 0.871807535507809),\n",
       " ('MLP', 0.9279742531279411)]"
      ]
     },
     "execution_count": 53,
     "metadata": {},
     "output_type": "execute_result"
    }
   ],
   "source": [
    "auc_ = [metrics['AUC'] for metrics in results.values()]\n",
    "\n",
    "list(zip(methods,auc_))"
   ]
  },
  {
   "cell_type": "code",
   "execution_count": 54,
   "metadata": {},
   "outputs": [
    {
     "data": {
      "text/plain": [
       "[('Baseline RF', 0.9166771441400988),\n",
       " ('Weighted RF', 0.9213610516885159),\n",
       " ('Baseline LR', 0.9136882064839764),\n",
       " ('cost LR', 0.9180167255677246),\n",
       " ('MLP', 0.9218347972673232)]"
      ]
     },
     "execution_count": 54,
     "metadata": {},
     "output_type": "execute_result"
    }
   ],
   "source": [
    "f1_ = [metrics['f1'] for metrics in results.values()]\n",
    "\n",
    "list(zip(methods,f1_))"
   ]
  },
  {
   "cell_type": "code",
   "execution_count": 55,
   "metadata": {},
   "outputs": [
    {
     "data": {
      "image/png": "[encoded data removed]",
      "text/plain": [
       "<Figure size 864x576 with 1 Axes>"
      ]
     },
     "metadata": {
      "needs_background": "light"
     },
     "output_type": "display_data"
    }
   ],
   "source": [
    "'''\n",
    "plot AUC curves\n",
    "'''\n",
    "from sklearn.metrics import roc_curve\n",
    "\n",
    "def plot_auc_curves(results, X_test, y_test, figsize=(10, 6)):\n",
    "    \"\"\"\n",
    "    ROC curves here.\n",
    "    \"\"\"\n",
    "    plt.figure(figsize=figsize)\n",
    "    for name, metrics in results.items():\n",
    "        model = metrics[\"Model\"]\n",
    "        if model.__class__.__name__ in ['RandomForestClassifier', 'MLPClassifier']:\n",
    "            y_pred_proba_test = model.predict_proba(X_test)[:, 1]\n",
    "            fpr, tpr, _ = roc_curve(y_test, y_pred_proba_test)\n",
    "        elif model.__class__.__name__ == 'LogisticRegressionModels':\n",
    "            y_pred_proba_test = model.predict_proba(X_test)\n",
    "            fpr, tpr, _ = roc_curve(y_test, y_pred_proba_test)\n",
    "        else:\n",
    "            continue \n",
    "        \n",
    "        plt.plot(fpr, tpr, label=f'{name} (AUC = {metrics[\"AUC\"]:.2f})')\n",
    "    plt.plot([0, 1], [0, 1], \"k--\", label=\"Random Guessing\")\n",
    "    plt.xlabel(\"False Positive Rate\")\n",
    "    plt.ylabel(\"True Positive Rate\")\n",
    "    plt.legend(loc=\"best\", fontsize=20)\n",
    "    plt.grid(axis=\"y\", linestyle=\"--\", alpha=0.7)\n",
    "    plt.show()\n",
    "\n",
    "figsize=(12, 8)\n",
    "plotter.plot_auc_curves(results, X_test, y_test, figsize=figsize)"
   ]
  },
  {
   "cell_type": "markdown",
   "metadata": {},
   "source": [
    "## Test case"
   ]
  },
  {
   "cell_type": "code",
   "execution_count": 56,
   "metadata": {},
   "outputs": [],
   "source": [
    "import importlib\n",
    "from preprocessing import load_and_preprocess\n",
    "import preprocessing2 #import load_and_preprocessT"
   ]
  },
  {
   "cell_type": "markdown",
   "metadata": {},
   "source": [
    "# lets compare `new_data` with `predict_df`"
   ]
  },
  {
   "cell_type": "code",
   "execution_count": 69,
   "metadata": {},
   "outputs": [
    {
     "data": {
      "text/html": [
       "<div>\n",
       "<style scoped>\n",
       "    .dataframe tbody tr th:only-of-type {\n",
       "        vertical-align: middle;\n",
       "    }\n",
       "\n",
       "    .dataframe tbody tr th {\n",
       "        vertical-align: top;\n",
       "    }\n",
       "\n",
       "    .dataframe thead th {\n",
       "        text-align: right;\n",
       "    }\n",
       "</style>\n",
       "<table border=\"1\" class=\"dataframe\">\n",
       "  <thead>\n",
       "    <tr style=\"text-align: right;\">\n",
       "      <th></th>\n",
       "      <th>Baseline_LR_prediction</th>\n",
       "      <th>Baseline_LR_meaning</th>\n",
       "      <th>Baseline_LR_probability</th>\n",
       "      <th>Baseline_RF_prediction</th>\n",
       "      <th>Baseline_RF_meaning</th>\n",
       "      <th>Baseline_RF_probability</th>\n",
       "      <th>Weighted_RF_prediction</th>\n",
       "      <th>Weighted_RF_meaning</th>\n",
       "      <th>Weighted_RF_probability</th>\n",
       "      <th>Cost-sensitive_LR_prediction</th>\n",
       "      <th>Cost-sensitive_LR_meaning</th>\n",
       "      <th>Cost-sensitive_LR_probability</th>\n",
       "      <th>MLP_prediction</th>\n",
       "      <th>MLP_meaning</th>\n",
       "      <th>MLP_probability</th>\n",
       "    </tr>\n",
       "  </thead>\n",
       "  <tbody>\n",
       "    <tr>\n",
       "      <th>0</th>\n",
       "      <td>0</td>\n",
       "      <td>In</td>\n",
       "      <td>1.416394e-43</td>\n",
       "      <td>0</td>\n",
       "      <td>In</td>\n",
       "      <td>0.3725</td>\n",
       "      <td>0</td>\n",
       "      <td>In</td>\n",
       "      <td>0.341104</td>\n",
       "      <td>0</td>\n",
       "      <td>In</td>\n",
       "      <td>1.244572e-49</td>\n",
       "      <td>0</td>\n",
       "      <td>In</td>\n",
       "      <td>1.459896e-07</td>\n",
       "    </tr>\n",
       "    <tr>\n",
       "      <th>1</th>\n",
       "      <td>0</td>\n",
       "      <td>In</td>\n",
       "      <td>2.185507e-37</td>\n",
       "      <td>0</td>\n",
       "      <td>In</td>\n",
       "      <td>0.1600</td>\n",
       "      <td>0</td>\n",
       "      <td>In</td>\n",
       "      <td>0.171639</td>\n",
       "      <td>0</td>\n",
       "      <td>In</td>\n",
       "      <td>1.373175e-42</td>\n",
       "      <td>0</td>\n",
       "      <td>In</td>\n",
       "      <td>5.842439e-07</td>\n",
       "    </tr>\n",
       "    <tr>\n",
       "      <th>2</th>\n",
       "      <td>0</td>\n",
       "      <td>In</td>\n",
       "      <td>3.889676e-75</td>\n",
       "      <td>0</td>\n",
       "      <td>In</td>\n",
       "      <td>0.1400</td>\n",
       "      <td>0</td>\n",
       "      <td>In</td>\n",
       "      <td>0.217397</td>\n",
       "      <td>0</td>\n",
       "      <td>In</td>\n",
       "      <td>1.504343e-85</td>\n",
       "      <td>0</td>\n",
       "      <td>In</td>\n",
       "      <td>1.586080e-10</td>\n",
       "    </tr>\n",
       "    <tr>\n",
       "      <th>3</th>\n",
       "      <td>0</td>\n",
       "      <td>In</td>\n",
       "      <td>2.227612e-04</td>\n",
       "      <td>0</td>\n",
       "      <td>In</td>\n",
       "      <td>0.3725</td>\n",
       "      <td>0</td>\n",
       "      <td>In</td>\n",
       "      <td>0.341104</td>\n",
       "      <td>0</td>\n",
       "      <td>In</td>\n",
       "      <td>5.113552e-05</td>\n",
       "      <td>0</td>\n",
       "      <td>In</td>\n",
       "      <td>1.628183e-02</td>\n",
       "    </tr>\n",
       "    <tr>\n",
       "      <th>4</th>\n",
       "      <td>0</td>\n",
       "      <td>In</td>\n",
       "      <td>1.405608e-02</td>\n",
       "      <td>0</td>\n",
       "      <td>In</td>\n",
       "      <td>0.1400</td>\n",
       "      <td>0</td>\n",
       "      <td>In</td>\n",
       "      <td>0.217397</td>\n",
       "      <td>0</td>\n",
       "      <td>In</td>\n",
       "      <td>5.827044e-03</td>\n",
       "      <td>0</td>\n",
       "      <td>In</td>\n",
       "      <td>9.510073e-02</td>\n",
       "    </tr>\n",
       "  </tbody>\n",
       "</table>\n",
       "</div>"
      ],
      "text/plain": [
       "   Baseline_LR_prediction Baseline_LR_meaning  Baseline_LR_probability  \\\n",
       "0                       0                  In             1.416394e-43   \n",
       "1                       0                  In             2.185507e-37   \n",
       "2                       0                  In             3.889676e-75   \n",
       "3                       0                  In             2.227612e-04   \n",
       "4                       0                  In             1.405608e-02   \n",
       "\n",
       "   Baseline_RF_prediction Baseline_RF_meaning  Baseline_RF_probability  \\\n",
       "0                       0                  In                   0.3725   \n",
       "1                       0                  In                   0.1600   \n",
       "2                       0                  In                   0.1400   \n",
       "3                       0                  In                   0.3725   \n",
       "4                       0                  In                   0.1400   \n",
       "\n",
       "   Weighted_RF_prediction Weighted_RF_meaning  Weighted_RF_probability  \\\n",
       "0                       0                  In                 0.341104   \n",
       "1                       0                  In                 0.171639   \n",
       "2                       0                  In                 0.217397   \n",
       "3                       0                  In                 0.341104   \n",
       "4                       0                  In                 0.217397   \n",
       "\n",
       "   Cost-sensitive_LR_prediction Cost-sensitive_LR_meaning  \\\n",
       "0                             0                        In   \n",
       "1                             0                        In   \n",
       "2                             0                        In   \n",
       "3                             0                        In   \n",
       "4                             0                        In   \n",
       "\n",
       "   Cost-sensitive_LR_probability  MLP_prediction MLP_meaning  MLP_probability  \n",
       "0                   1.244572e-49               0          In     1.459896e-07  \n",
       "1                   1.373175e-42               0          In     5.842439e-07  \n",
       "2                   1.504343e-85               0          In     1.586080e-10  \n",
       "3                   5.113552e-05               0          In     1.628183e-02  \n",
       "4                   5.827044e-03               0          In     9.510073e-02  "
      ]
     },
     "execution_count": 69,
     "metadata": {},
     "output_type": "execute_result"
    }
   ],
   "source": [
    "output_csv_path = \"./result/predictions_all_models.csv\"\n",
    "prediction_df_ = pd.read_csv(output_csv_path)\n",
    "prediction_df_.head()"
   ]
  },
  {
   "cell_type": "code",
   "execution_count": 70,
   "metadata": {},
   "outputs": [
    {
     "name": "stdout",
     "output_type": "stream",
     "text": [
      "original df shape: (70986, 7)\n",
      "actual False\n"
     ]
    },
    {
     "name": "stderr",
     "output_type": "stream",
     "text": [
      "/Users/abdullahi/Documents/interview/n26/src/preprocessing2.py:56: UserWarning: Could not infer format, so each element will be parsed individually, falling back to `dateutil`. To ensure parsing is consistent and as-expected, please specify a format.\n",
      "  df_train[\"transaction_date\"] = pd.to_datetime(df_train[\"transaction_date\"])\n"
     ]
    },
    {
     "name": "stdout",
     "output_type": "stream",
     "text": [
      "categorical_cols:Index(['direction', 'agent'], dtype='object')\n",
      "y:<class 'pandas.core.series.Series'>\n",
      "using --training == predict--\n"
     ]
    },
    {
     "data": {
      "text/html": [
       "<div>\n",
       "<style scoped>\n",
       "    .dataframe tbody tr th:only-of-type {\n",
       "        vertical-align: middle;\n",
       "    }\n",
       "\n",
       "    .dataframe tbody tr th {\n",
       "        vertical-align: top;\n",
       "    }\n",
       "\n",
       "    .dataframe thead th {\n",
       "        text-align: right;\n",
       "    }\n",
       "</style>\n",
       "<table border=\"1\" class=\"dataframe\">\n",
       "  <thead>\n",
       "    <tr style=\"text-align: right;\">\n",
       "      <th></th>\n",
       "      <th>mcc_group</th>\n",
       "      <th>amount_n26_currency</th>\n",
       "      <th>direction</th>\n",
       "      <th>agent</th>\n",
       "      <th>day</th>\n",
       "      <th>month</th>\n",
       "    </tr>\n",
       "  </thead>\n",
       "  <tbody>\n",
       "    <tr>\n",
       "      <th>0</th>\n",
       "      <td>2</td>\n",
       "      <td>202</td>\n",
       "      <td>1</td>\n",
       "      <td>0</td>\n",
       "      <td>7</td>\n",
       "      <td>1</td>\n",
       "    </tr>\n",
       "    <tr>\n",
       "      <th>1</th>\n",
       "      <td>1</td>\n",
       "      <td>173</td>\n",
       "      <td>1</td>\n",
       "      <td>0</td>\n",
       "      <td>7</td>\n",
       "      <td>1</td>\n",
       "    </tr>\n",
       "  </tbody>\n",
       "</table>\n",
       "</div>"
      ],
      "text/plain": [
       "   mcc_group  amount_n26_currency  direction  agent  day  month\n",
       "0          2                  202          1      0    7      1\n",
       "1          1                  173          1      0    7      1"
      ]
     },
     "execution_count": 70,
     "metadata": {},
     "output_type": "execute_result"
    }
   ],
   "source": [
    "new_data_dir = \"./data/2016-09-19_79351_training_july.csv\" # August data\n",
    "new_data = preprocessing2.load_and_preprocessT(new_data_dir, training=False)\n",
    "\n",
    "new_data.head(2)"
   ]
  },
  {
   "cell_type": "code",
   "execution_count": 71,
   "metadata": {},
   "outputs": [],
   "source": [
    "prediction_df = prediction_df_.copy()\n",
    "if len(new_data) != len(prediction_df):\n",
    "    raise ValueError(\"df1 and df2 must have the same number of rows!\")\n",
    "\n",
    "prediction_columns = [col for col in prediction_df.columns if col.endswith('_prediction')]\n",
    "\n",
    "    \n",
    "comparison_results = pd.DataFrame(index=new_data.index)\n",
    "comparison_results[\"Actual_Direction\"] = new_data[\"direction\"]\n",
    "\n",
    "accuracy_scores = {}\n",
    "for col in prediction_columns:\n",
    "    comparison_results[col] = prediction_df[col] == new_data[\"direction\"]  \n",
    "    accuracy_scores[col] = (comparison_results[col].sum() / len(comparison_results)) * 100\n",
    "\n",
    "\n"
   ]
  },
  {
   "cell_type": "code",
   "execution_count": 72,
   "metadata": {},
   "outputs": [
    {
     "data": {
      "text/html": [
       "<div>\n",
       "<style scoped>\n",
       "    .dataframe tbody tr th:only-of-type {\n",
       "        vertical-align: middle;\n",
       "    }\n",
       "\n",
       "    .dataframe tbody tr th {\n",
       "        vertical-align: top;\n",
       "    }\n",
       "\n",
       "    .dataframe thead th {\n",
       "        text-align: right;\n",
       "    }\n",
       "</style>\n",
       "<table border=\"1\" class=\"dataframe\">\n",
       "  <thead>\n",
       "    <tr style=\"text-align: right;\">\n",
       "      <th></th>\n",
       "      <th>Actual_Direction</th>\n",
       "      <th>Baseline_LR_prediction</th>\n",
       "      <th>Baseline_RF_prediction</th>\n",
       "      <th>Weighted_RF_prediction</th>\n",
       "      <th>Cost-sensitive_LR_prediction</th>\n",
       "      <th>MLP_prediction</th>\n",
       "    </tr>\n",
       "  </thead>\n",
       "  <tbody>\n",
       "    <tr>\n",
       "      <th>0</th>\n",
       "      <td>1</td>\n",
       "      <td>False</td>\n",
       "      <td>False</td>\n",
       "      <td>False</td>\n",
       "      <td>False</td>\n",
       "      <td>False</td>\n",
       "    </tr>\n",
       "    <tr>\n",
       "      <th>1</th>\n",
       "      <td>1</td>\n",
       "      <td>False</td>\n",
       "      <td>False</td>\n",
       "      <td>False</td>\n",
       "      <td>False</td>\n",
       "      <td>False</td>\n",
       "    </tr>\n",
       "    <tr>\n",
       "      <th>2</th>\n",
       "      <td>1</td>\n",
       "      <td>False</td>\n",
       "      <td>False</td>\n",
       "      <td>False</td>\n",
       "      <td>False</td>\n",
       "      <td>False</td>\n",
       "    </tr>\n",
       "    <tr>\n",
       "      <th>3</th>\n",
       "      <td>1</td>\n",
       "      <td>False</td>\n",
       "      <td>False</td>\n",
       "      <td>False</td>\n",
       "      <td>False</td>\n",
       "      <td>False</td>\n",
       "    </tr>\n",
       "    <tr>\n",
       "      <th>4</th>\n",
       "      <td>1</td>\n",
       "      <td>False</td>\n",
       "      <td>False</td>\n",
       "      <td>False</td>\n",
       "      <td>False</td>\n",
       "      <td>False</td>\n",
       "    </tr>\n",
       "    <tr>\n",
       "      <th>...</th>\n",
       "      <td>...</td>\n",
       "      <td>...</td>\n",
       "      <td>...</td>\n",
       "      <td>...</td>\n",
       "      <td>...</td>\n",
       "      <td>...</td>\n",
       "    </tr>\n",
       "    <tr>\n",
       "      <th>70981</th>\n",
       "      <td>1</td>\n",
       "      <td>False</td>\n",
       "      <td>False</td>\n",
       "      <td>False</td>\n",
       "      <td>False</td>\n",
       "      <td>True</td>\n",
       "    </tr>\n",
       "    <tr>\n",
       "      <th>70982</th>\n",
       "      <td>1</td>\n",
       "      <td>False</td>\n",
       "      <td>False</td>\n",
       "      <td>False</td>\n",
       "      <td>False</td>\n",
       "      <td>False</td>\n",
       "    </tr>\n",
       "    <tr>\n",
       "      <th>70983</th>\n",
       "      <td>1</td>\n",
       "      <td>False</td>\n",
       "      <td>False</td>\n",
       "      <td>False</td>\n",
       "      <td>False</td>\n",
       "      <td>True</td>\n",
       "    </tr>\n",
       "    <tr>\n",
       "      <th>70984</th>\n",
       "      <td>1</td>\n",
       "      <td>False</td>\n",
       "      <td>False</td>\n",
       "      <td>False</td>\n",
       "      <td>False</td>\n",
       "      <td>True</td>\n",
       "    </tr>\n",
       "    <tr>\n",
       "      <th>70985</th>\n",
       "      <td>1</td>\n",
       "      <td>False</td>\n",
       "      <td>False</td>\n",
       "      <td>False</td>\n",
       "      <td>False</td>\n",
       "      <td>False</td>\n",
       "    </tr>\n",
       "  </tbody>\n",
       "</table>\n",
       "<p>70986 rows × 6 columns</p>\n",
       "</div>"
      ],
      "text/plain": [
       "       Actual_Direction  Baseline_LR_prediction  Baseline_RF_prediction  \\\n",
       "0                     1                   False                   False   \n",
       "1                     1                   False                   False   \n",
       "2                     1                   False                   False   \n",
       "3                     1                   False                   False   \n",
       "4                     1                   False                   False   \n",
       "...                 ...                     ...                     ...   \n",
       "70981                 1                   False                   False   \n",
       "70982                 1                   False                   False   \n",
       "70983                 1                   False                   False   \n",
       "70984                 1                   False                   False   \n",
       "70985                 1                   False                   False   \n",
       "\n",
       "       Weighted_RF_prediction  Cost-sensitive_LR_prediction  MLP_prediction  \n",
       "0                       False                         False           False  \n",
       "1                       False                         False           False  \n",
       "2                       False                         False           False  \n",
       "3                       False                         False           False  \n",
       "4                       False                         False           False  \n",
       "...                       ...                           ...             ...  \n",
       "70981                   False                         False            True  \n",
       "70982                   False                         False           False  \n",
       "70983                   False                         False            True  \n",
       "70984                   False                         False            True  \n",
       "70985                   False                         False           False  \n",
       "\n",
       "[70986 rows x 6 columns]"
      ]
     },
     "execution_count": 72,
     "metadata": {},
     "output_type": "execute_result"
    }
   ],
   "source": [
    "comparison_results"
   ]
  },
  {
   "cell_type": "code",
   "execution_count": null,
   "metadata": {},
   "outputs": [],
   "source": [
    "STOP"
   ]
  },
  {
   "cell_type": "markdown",
   "metadata": {},
   "source": [
    "# appendix"
   ]
  },
  {
   "cell_type": "code",
   "execution_count": null,
   "metadata": {},
   "outputs": [],
   "source": [
    "new_data_dir = \"./data/2016-09-19_79351_training_july.csv\" # August data\n",
    "model_dir = \"./models\"\n",
    "output_csv_path = \"./result/predictions_all_models.csv\"\n",
    "print(\"Loading preprocessing artifacts...\")\n",
    "   \n",
    "print(\"Loading new data...\")\n",
    "\n",
    "new_data = load_and_preprocess(new_data_dir, training=False)\n",
    "print(new_data.head())\n",
    "\n",
    "model_files = [f for f in os.listdir(model_dir) if f.endswith(\"_model.pkl\")]\n",
    "\n",
    "all_predictions = {}\n",
    "\n",
    "for model_file in model_files:\n",
    "    model_path = os.path.join(model_dir, model_file)\n",
    "    model = joblib.load(model_path)\n",
    "\n",
    "    model_name = model_file.replace(\"_model.pkl\", \"\")\n",
    "\n",
    "    print(f\"Making predictions with {model_name}...\")\n",
    "\n",
    "    # Predict\n",
    "    class_predictions = model.predict(new_data)\n",
    "    print(f\"Predictions made:{class_predictions}\")\n",
    "    all_predictions[f\"{model_name}_prediction\"] = class_predictions\n",
    "\n",
    "    pred_meaning = {0: \"In\", 1: \"Out\"}\n",
    "    print(f\"pred_meaning added\")\n",
    "    all_predictions[f\"{model_name}_meaning\"] = [\n",
    "        pred_meaning[pred] for pred in class_predictions\n",
    "    ]\n",
    "\n",
    "    if model.__class__.__name__ in [\"RandomForestClassifier\", \"MLPClassifier\"]:\n",
    "        y_pred_proba_test = model.predict_proba(new_data)[:, 1]\n",
    "    elif model.__class__.__name__ == \"LogisticRegressionModels\":\n",
    "        y_pred_proba_test = model.predict_proba(new_data)\n",
    "    else:\n",
    "        y_pred_proba_test = None\n",
    "\n",
    "    if y_pred_proba_test is not None:\n",
    "        all_predictions[f\"{model_name}_probability\"] = y_pred_proba_test\n",
    "\n",
    "prediction_df = pd.DataFrame(all_predictions)\n",
    "\n",
    "if output_csv_path is not None:\n",
    "    prediction_df.to_csv(output_csv_path, index=False)\n",
    "\n",
    "print(f\"Predictions saved to {output_csv_path}\")\n"
   ]
  }
 ],
 "metadata": {
  "kernelspec": {
   "display_name": "Python 3 (ipykernel)",
   "language": "python",
   "name": "python3"
  },
  "language_info": {
   "codemirror_mode": {
    "name": "ipython",
    "version": 3
   },
   "file_extension": ".py",
   "mimetype": "text/x-python",
   "name": "python",
   "nbconvert_exporter": "python",
   "pygments_lexer": "ipython3",
   "version": "3.8.12"
  }
 },
 "nbformat": 4,
 "nbformat_minor": 4
}
